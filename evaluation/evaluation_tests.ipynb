{
 "cells": [
  {
   "cell_type": "code",
   "execution_count": 4,
   "metadata": {},
   "outputs": [
    {
     "name": "stdout",
     "output_type": "stream",
     "text": [
      "Question: What is inflation\n",
      "Answer: Inflation is 2%\n",
      "Question: What is GDP\n",
      "Answer: GDP stands for Gross Domestic Product\n",
      "Question: What is AI\n",
      "Answer: AI stands for Artificial Intelligence\n"
     ]
    }
   ],
   "source": [
    "import yaml\n",
    "\n",
    "with open('test_cases.yml', 'r') as f:\n",
    "    test_cases = yaml.safe_load(f)\n",
    "\n",
    "for test_case in test_cases['test_cases']:\n",
    "    print(f\"Question: {test_case['question']}\")\n",
    "    print(f\"Answer: {test_case['answer']}\")\n"
   ]
  }
 ],
 "metadata": {
  "kernelspec": {
   "display_name": "dissertation_rag",
   "language": "python",
   "name": "python3"
  },
  "language_info": {
   "codemirror_mode": {
    "name": "ipython",
    "version": 3
   },
   "file_extension": ".py",
   "mimetype": "text/x-python",
   "name": "python",
   "nbconvert_exporter": "python",
   "pygments_lexer": "ipython3",
   "version": "3.10.13"
  }
 },
 "nbformat": 4,
 "nbformat_minor": 2
}
