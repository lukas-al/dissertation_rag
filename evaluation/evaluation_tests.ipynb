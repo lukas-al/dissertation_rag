{
 "cells": [
  {
   "cell_type": "markdown",
   "metadata": {},
   "source": [
    "# Evaluating the retrievers"
   ]
  },
  {
   "cell_type": "code",
   "execution_count": 4,
   "metadata": {},
   "outputs": [],
   "source": [
    "import os\n",
    "import yaml\n",
    "\n",
    "from StructuredRag.algorithms.inquirer import StructRAGInquirer"
   ]
  },
  {
   "cell_type": "code",
   "execution_count": 5,
   "metadata": {},
   "outputs": [
    {
     "name": "stdout",
     "output_type": "stream",
     "text": [
      "Experiment: v0\n",
      "     || Run: 2024-05-17\n",
      "     || Run: 2024-05-17_1\n",
      "     || Run: 2024-05-19\n",
      "     || Run: 2024-05-21\n",
      "     || Run: 2024-05-21_1\n",
      "     || Run: 2024-05-21_2\n",
      "     || Run: 2024-05-24\n",
      "     || Run: 2024-05-28\n",
      "Experiment: v1\n",
      "     || Run: 2024-05-19\n",
      "     || Run: 2024-05-21\n",
      "     || Run: 2024-05-21_1\n",
      "     || Run: 2024-05-21_2\n",
      "     || Run: 2024-05-28\n",
      "Experiment: v3\n",
      "     || Run: 2024-05-19\n",
      "     || Run: 2024-05-21\n",
      "     || Run: 2024-05-21_1\n",
      "     || Run: 2024-05-21_2\n",
      "     || Run: 2024-05-28\n",
      "Experiment: v4\n",
      "     || Run: 2024-05-19\n",
      "     || Run: 2024-05-21\n",
      "     || Run: 2024-05-21_1\n",
      "     || Run: 2024-05-28\n",
      "Experiment: v5\n",
      "     || Run: 2024-05-19\n"
     ]
    }
   ],
   "source": [
    "# Select the runs you want to load\n",
    "for experiment in sorted(os.listdir('../results')):\n",
    "    print('Experiment:', experiment)\n",
    "    for run in sorted(os.listdir('../results/' + experiment)):\n",
    "        print(\"     || Run:\", run)"
   ]
  },
  {
   "cell_type": "markdown",
   "metadata": {},
   "source": [
    "## Instantiate our first retriever"
   ]
  },
  {
   "cell_type": "code",
   "execution_count": 14,
   "metadata": {},
   "outputs": [
    {
     "data": {
      "text/plain": [
       "['2024-05-19', '2024-05-21', '2024-05-21_1', '2024-05-21_2', '2024-05-28']"
      ]
     },
     "execution_count": 14,
     "metadata": {},
     "output_type": "execute_result"
    }
   ],
   "source": [
    "path_to_models = '/Users/lukasalemu/Documents/00. Bank of England/00. Degree/Dissertation/structured-rag/results'\n",
    "path_to_run = '/v0/2024-05-28'\n",
    "\n",
    "os.listdir(\"../results/v1\")"
   ]
  },
  {
   "cell_type": "code",
   "execution_count": 16,
   "metadata": {},
   "outputs": [
    {
     "name": "stdout",
     "output_type": "stream",
     "text": [
      "Loading item: adj_matrix\n",
      "Loading item: edge_thresh\n",
      "Loading item: embedded_index\n"
     ]
    }
   ],
   "source": [
    "inquirer = StructRAGInquirer(\n",
    "    path_to_experiment=\"../results/\"+path_to_run,\n",
    "    llm_name='google/flan-t5-large',\n",
    "    llm_max_tokens=512,\n",
    "    use_anchor_document=False\n",
    ")"
   ]
  },
  {
   "cell_type": "markdown",
   "metadata": {},
   "source": [
    "## Get our query"
   ]
  },
  {
   "cell_type": "code",
   "execution_count": 23,
   "metadata": {},
   "outputs": [],
   "source": [
    "with open('test_cases.yml', 'r') as f:\n",
    "    test_cases = yaml.safe_load(f)\n",
    "\n",
    "for tc in test_cases['test_cases']:\n",
    "    query = tc['question']\n",
    "    break"
   ]
  },
  {
   "cell_type": "code",
   "execution_count": 26,
   "metadata": {},
   "outputs": [
    {
     "data": {
      "text/plain": [
       "'What is inflation'"
      ]
     },
     "execution_count": 26,
     "metadata": {},
     "output_type": "execute_result"
    }
   ],
   "source": [
    "query"
   ]
  },
  {
   "cell_type": "markdown",
   "metadata": {},
   "source": [
    "## Get our response"
   ]
  },
  {
   "cell_type": "code",
   "execution_count": 24,
   "metadata": {},
   "outputs": [
    {
     "name": "stderr",
     "output_type": "stream",
     "text": [
      "You try to use a model that was created with version 3.0.0.dev0, however, your version is 3.0.0. This might cause unexpected behavior or errors. In that case, try to update to the latest version.\n",
      "\n",
      "\n",
      "\n",
      "c:\\Miniconda3\\envs\\diss_rag\\lib\\site-packages\\huggingface_hub\\file_download.py:1132: FutureWarning: `resume_download` is deprecated and will be removed in version 1.0.0. Downloads always resume when possible. If you want to force a new download, use `force_download=True`.\n",
      "  warnings.warn(\n",
      "Token indices sequence length is longer than the specified maximum sequence length for this model (844 > 512). Running this sequence through the model will result in indexing errors\n",
      "c:\\Miniconda3\\envs\\diss_rag\\lib\\site-packages\\transformers\\generation\\utils.py:1283: UserWarning: You have modified the pretrained model configuration to control generation. This is a deprecated strategy to control generation and will be removed soon, in a future version. Please use and modify the model generation configuration (see https://huggingface.co/docs/transformers/generation_strategies#default-text-generation-configuration )\n",
      "  warnings.warn(\n"
     ]
    }
   ],
   "source": [
    "res = inquirer.run_inquirer(\n",
    "    query=query,\n",
    "    source_document_name=None,\n",
    "    k_context=3,\n",
    ")"
   ]
  },
  {
   "cell_type": "markdown",
   "metadata": {},
   "source": [
    "## Evaluate our response"
   ]
  },
  {
   "cell_type": "code",
   "execution_count": 28,
   "metadata": {},
   "outputs": [
    {
     "data": {
      "text/plain": [
       "{'output_text': 'Consumer price inflation is the rate at which the prices of goods and services bought by households rise and fall; it is estimated using consumer price indices. Core inflation is defined as CPI excluding food, alcohol, tobacco and energy, which is a standard measure that removes some volatile it ems. * This shows the percentile of the historical distribution (2000 onwards) in which the latest outturn sits. 1 More information on the types of data sources used in the CPI can be found here: www.ons.gov.uk/economy/inflationandpriceindices/methodologies/consumerpriceinflationincludesall3indicescpihcpiandrpiqmi#valid',\n",
       " 'input_documents': [Document(page_content='Analytical 8113256  BANK CONFIDENTIAL   5 Consumer price inflation is the rate at which the prices of goods and services bought by \\nhouseholds rise and fall; it is estimated using consumer price indices. Core inflation is \\ndefined as CPI excluding food, alcohol, tobacco and energy, which is a standard measure \\nthat removes some volatile it ems.  \\n* This shows the percentile of the historical distribution (2000 onwards) in which the latest outturn sits.  \\n1 More information on the types of data sources used in the CPI can be found here: \\nwww.ons.gov.uk/economy/inflationandpriceindices/methodologies/consumerpriceinflationincludesall3indicescpihcpiandrpiqmi#valid ation -\\nand-quality -assurance .  \\n \\nUK House Price Index and UK Finance Monthly Mortgage Lending Trends, \\nNovember 2019 – (15/01/2020)  \\n \\n \\nNovember posted the joint strongest monthly increase in the official UK House Price Index (HPI) in 3 years \\n(+0.6%). Taken in tandem with a large upward revision to October’s data (+0.6pp), that means our 19 Q4 \\nUK house price nowcast', metadata={'doc_num': 3, 'doc_description': 'Pre-MPC Data Brief - January 2020 ', 'doc_date': '2020-01-17 00:00:00', 'doc_difference': 0, 'title': 'Pre-MPC Data Brief - January 2020.pdf'}),\n",
       "  Document(page_content='(Nationwide ,\\xa0Rightmove,\\nHalifax\\xa0and\\xa0RICS)\\xa0suggests\\xa0somewhat \\xa0of\\xa0a\\xa0firming\\xa0in\\xa020Q1\\xa0though,\\xa0to\\xa0around\\xa03¼\\xa0%\\xa0QoQ \\xa0annualised.\\xa0\\nHowever,\\xa0our\\xa0full\\xa0model\\xa0 –which\\xa0includes\\xa0the \\xa0signal\\xa0from\\xa0the\\xa0monthly\\xa0path\\xa0of\\xa0UK\\xa0HPI\\xa0itself\\xa0 –is\\xa0lower\\nat\\xa01.9%\\xa0( Chart 4).\\xa0Our\\xa0full\\xa0model\\xa0will\\xa0be \\xa0reassessed\\xa0when\\xa0November ’s\\xa0official\\xa0UK\\xa0HPI\\xa0is\\xa0released\\nnext\\xa0Wednesday,\\xa0ahead\\xa0of\\xa0the\\xa0 Feb MPR \\xa0benchmark \\xa0discussion.\\nChart 4: 2019\\xa0Q4 \\xa0house\\xa0price\\xa0inflation\\xa0nowcasts (quarter-\\non-quarter\\xa0annualised\\xa0%)\\xa0\\nNote:\\xa0Ordered\\xa0by\\xa0weight\\xa0in \\xa0combination.\\xa0Black\\xa0bar\\xa0is\\xa0 ±one\\xa0RMSE\\xa0\\nerror\\xa0bar \\xa0estimated\\xa0over\\xa0the\\xa0last\\xa0two\\xa0years.\\xa0Grey\\xa0extension\\nillustrates', metadata={'doc_num': 1, 'doc_description': 'UK Data Response: Halifax House Price Index, and Nationwide House Price Index and 2019 Q4 regional, December 2019', 'doc_date': '2020-01-08 00:00:00', 'doc_difference': 29.579776763916016, 'title': 'Halifax House Price Index, and Nationwide House Price Index and 2019 Q4 regional, December 2019 [BC].pdf'}),\n",
       "  Document(page_content='services items, which should be more robust to volatility in particular componen ts, was unchanged in \\nDecember at 2.5%, though that is still down slightly from rates of around 2¾% through the spring and \\nsummer. Overall, CPI -based measures of domestically generated inflation remain weak relative to cost \\ninflation, with our core services  ECM (based on AWE, productivity and import price data to Q3, and the \\nBMK forecast for Q4) reconciling that with margins having fallen back materially over the last few quarters \\n(Chart 7 ).  \\nAfter gathering more information from the ONS and the Agents over the next couple of days, we will \\npresent the updated STIF at pre -MPC on Monday.  \\nData quality summary table: Consumer Price Indices (Dec -19)    \\nPercentage change over 12 months  \\nCPI CPI Core  \\n1.3 1.4 \\n26%  33%  \\nRepresentative sample based on 700 goods and services (which is reviewed annually). \\nThese are collected UK -wide on a monthly basis using a variety of sources.1  The headline \\nCPI measure captures approximately 180,000 price quotations per', metadata={'doc_num': 2, 'doc_description': 'Pre-MPC Data Brief - January 2020 ', 'doc_date': '2020-01-17 00:00:00', 'doc_difference': 30.267353057861328, 'title': 'Pre-MPC Data Brief - January 2020.pdf'})]}"
      ]
     },
     "execution_count": 28,
     "metadata": {},
     "output_type": "execute_result"
    }
   ],
   "source": [
    "res"
   ]
  },
  {
   "cell_type": "code",
   "execution_count": null,
   "metadata": {},
   "outputs": [],
   "source": []
  },
  {
   "cell_type": "markdown",
   "metadata": {},
   "source": [
    "## Testing the YAML"
   ]
  },
  {
   "cell_type": "code",
   "execution_count": 1,
   "metadata": {},
   "outputs": [
    {
     "name": "stdout",
     "output_type": "stream",
     "text": [
      "Question: What is inflation\n",
      "Answer: Inflation is 2%\n",
      "Question: What is GDP\n",
      "Answer: GDP stands for Gross Domestic Product\n",
      "Question: What is AI\n",
      "Answer: AI stands for Artificial Intelligence\n"
     ]
    }
   ],
   "source": [
    "import yaml\n",
    "\n",
    "with open('test_cases.yml', 'r') as f:\n",
    "    test_cases = yaml.safe_load(f)\n",
    "\n",
    "for test_case in test_cases['test_cases']:\n",
    "    print(f\"Question: {test_case['question']}\")\n",
    "    print(f\"Answer: {test_case['answer']}\")\n"
   ]
  }
 ],
 "metadata": {
  "kernelspec": {
   "display_name": "dissertation_rag",
   "language": "python",
   "name": "python3"
  },
  "language_info": {
   "codemirror_mode": {
    "name": "ipython",
    "version": 3
   },
   "file_extension": ".py",
   "mimetype": "text/x-python",
   "name": "python",
   "nbconvert_exporter": "python",
   "pygments_lexer": "ipython3",
   "version": "3.10.14"
  }
 },
 "nbformat": 4,
 "nbformat_minor": 2
}
