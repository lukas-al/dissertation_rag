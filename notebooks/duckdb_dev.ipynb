{
 "cells": [
  {
   "cell_type": "markdown",
   "metadata": {},
   "source": [
    "# Using DuckDB as the persisted Vector Store\n",
    "\n",
    "I'll probably need to do some testing around regarding performance for different vector stores. I've wanted to use duckdb for a while now, so I'll use this opportunity to test it out."
   ]
  },
  {
   "cell_type": "code",
   "execution_count": 5,
   "metadata": {},
   "outputs": [],
   "source": [
    "from llama_index.core import Settings, VectorStoreIndex, SimpleDirectoryReader\n",
    "from llama_index.vector_stores.duckdb import DuckDBVectorStore\n",
    "from llama_index.core import StorageContext\n",
    "from llama_index.embeddings.huggingface import HuggingFaceEmbedding\n",
    "\n",
    "\n",
    "import pathlib"
   ]
  },
  {
   "cell_type": "code",
   "execution_count": 12,
   "metadata": {},
   "outputs": [],
   "source": [
    "# Load the documents\n",
    "path_to_docs = pathlib.PurePosixPath(r\"/Users/lukasalemu/Documents/00. Bank of England/00. Degree/Dissertation/structured-rag/data/01_raw\")\n",
    "documents = SimpleDirectoryReader(path_to_docs).load_data()\n",
    "\n",
    "# Instantiate the vector store\n",
    "path_to_db = pathlib.PurePosixPath(r\"//Users/lukasalemu/Documents/00. Bank of England/00. Degree/Dissertation/structured-rag/data/02_processed\")\n",
    "vector_store = DuckDBVectorStore(\"pg.duckdb\", persist_dir=str(path_to_db))\n",
    "\n",
    "# Instantiate the db\n",
    "embed_model = HuggingFaceEmbedding(model_name=\"BAAI/bge-small-en-v1.5\")"
   ]
  },
  {
   "cell_type": "code",
   "execution_count": 28,
   "metadata": {},
   "outputs": [],
   "source": [
    "# Configure things to point in the right place\n",
    "Settings.embed_model = embed_model\n",
    "Settings.chunk_size = 512\n",
    "\n",
    "storage_settings = StorageContext.from_defaults(\n",
    "    vector_store=vector_store,\n",
    ")"
   ]
  },
  {
   "cell_type": "code",
   "execution_count": 29,
   "metadata": {},
   "outputs": [],
   "source": [
    "# Construct the index\n",
    "index = VectorStoreIndex.from_documents(documents, storage_context=storage_settings)"
   ]
  },
  {
   "cell_type": "code",
   "execution_count": 31,
   "metadata": {},
   "outputs": [],
   "source": [
    "# Load the vector store from local\n",
    "vector_store = DuckDBVectorStore.from_local(str(path_to_db/\"pg.duckdb\"))\n",
    "index = VectorStoreIndex.from_vector_store(vector_store)"
   ]
  },
  {
   "cell_type": "code",
   "execution_count": 33,
   "metadata": {},
   "outputs": [
    {
     "name": "stdout",
     "output_type": "stream",
     "text": [
      "2\n",
      "forecast period. Business investment is projected to be flat over the first half of the forecast period,\n",
      "but to pick up slightly thereafter (Section 3). Weakness in near-term private final domestic demand\n",
      "growth is expected to be offset by strong real government consumption growth.\n",
      "In the GDP projection conditioned on the alternative assumption of constant interest rates at 5.25%\n",
      "over the forecast period, growth is significantly weaker over the forecast period compared with the\n",
      "MPC’s projection conditioned on the declining path of market-implied rates.\n",
      "There are risks in both directions around the central projections for domestic spending and GDP ,\n",
      "including those related to the transmission of monetary policy. In particular, there is uncertainty\n",
      "around the collateral and precautionary savings channels through which house prices af fect\n",
      "consumer spending, and around the extent to which the full effects of interest rates on businessChart 1.2: GDP growth projection based on market interest rate expectations, other policy\n",
      "measures as announced\n",
      "The fan chart depicts the probability of various outcomes for GDP  growth. It has been conditioned on Bank Rate following a path\n",
      "implied by market yields, but allows the Committee’s judgement on the risks around the other conditioning assumptions set out in\n",
      "Section 1.1, including wholesale energy prices, to affect the calibration of the fan chart skew. To the left of the shaded area, the\n",
      "distribution reflects uncertainty around revisions to the data over the past. To the right of the shaded area, the distribution reflects\n",
      "uncertainty over the evolution of GDP growth in the future. If economic circumstances identical to today’s were to prevail on 100\n",
      "occasions, the MPC’s best collective judgement is that the mature estimate of GDP growth would lie within the darkest central band on\n",
      "only 30 of those occasions. The fan chart is constructed so that outturns are also expected to lie within each pair of the lighter aqua\n",
      "areas on 30 occasions. In any particular quarter of the forecast period, GDP  growth is therefore expected to lie somewhere within the\n",
      "fan on 90 out of 100 occasions. And on the remaining 10 out of 100 occasions GDP growth can fall anywhere outside the aqua area of\n",
      "the fan chart.\n",
      "{'page_label': '12', 'file_name': 'monetary-policy-report-february-2024.pdf', 'file_path': '/Users/lukasalemu/Documents/00. Bank of England/00. Degree/Dissertation/structured-rag/data/01_raw/monetary-policy-report-february-2024.pdf', 'file_type': 'application/pdf', 'file_size': 6426091, 'creation_date': '2024-03-16', 'last_modified_date': '2024-03-16', '_node_content': '{\"id_\": \"0191a2d3-c691-4960-b29d-d8cedf500241\", \"embedding\": null, \"metadata\": {\"page_label\": \"12\", \"file_name\": \"monetary-policy-report-february-2024.pdf\", \"file_path\": \"/Users/lukasalemu/Documents/00. Bank of England/00. Degree/Dissertation/structured-rag/data/01_raw/monetary-policy-report-february-2024.pdf\", \"file_type\": \"application/pdf\", \"file_size\": 6426091, \"creation_date\": \"2024-03-16\", \"last_modified_date\": \"2024-03-16\"}, \"excluded_embed_metadata_keys\": [\"file_name\", \"file_type\", \"file_size\", \"creation_date\", \"last_modified_date\", \"last_accessed_date\"], \"excluded_llm_metadata_keys\": [\"file_name\", \"file_type\", \"file_size\", \"creation_date\", \"last_modified_date\", \"last_accessed_date\"], \"relationships\": {\"1\": {\"node_id\": \"927eeb15-02f3-4b4b-8b6b-960b679e4214\", \"node_type\": \"4\", \"metadata\": {\"page_label\": \"12\", \"file_name\": \"monetary-policy-report-february-2024.pdf\", \"file_path\": \"/Users/lukasalemu/Documents/00. Bank of England/00. Degree/Dissertation/structured-rag/data/01_raw/monetary-policy-report-february-2024.pdf\", \"file_type\": \"application/pdf\", \"file_size\": 6426091, \"creation_date\": \"2024-03-16\", \"last_modified_date\": \"2024-03-16\"}, \"hash\": \"1952e60df06d1ab56566b24841dc1ab63c90f7f23dab1330957e72f6a3e02e20\", \"class_name\": \"RelatedNodeInfo\"}, \"2\": {\"node_id\": \"ffc85030-5d2a-427c-baa0-3b1e6ccacc34\", \"node_type\": \"1\", \"metadata\": {\"page_label\": \"11\", \"file_name\": \"monetary-policy-report-february-2024.pdf\", \"file_path\": \"/Users/lukasalemu/Documents/00. Bank of England/00. Degree/Dissertation/structured-rag/data/01_raw/monetary-policy-report-february-2024.pdf\", \"file_type\": \"application/pdf\", \"file_size\": 6426091, \"creation_date\": \"2024-03-16\", \"last_modified_date\": \"2024-03-16\"}, \"hash\": \"7e4be76e4a939b6ed02785014815e37adc671ed29bbdc6ef600149a31ac30316\", \"class_name\": \"RelatedNodeInfo\"}, \"3\": {\"node_id\": \"e44c76bc-69cb-487e-b458-6994c032a2e8\", \"node_type\": \"1\", \"metadata\": {}, \"hash\": \"df84a857de5cbc0dadfbcf9cf3db5cc29b0c46b6cc0cf014eaa8dae0c77b8f26\", \"class_name\": \"RelatedNodeInfo\"}}, \"text\": \"\", \"start_char_idx\": 0, \"end_char_idx\": 2265, \"text_template\": \"{metadata_str}\\\\n\\\\n{content}\", \"metadata_template\": \"{key}: {value}\", \"metadata_seperator\": \"\\\\n\", \"class_name\": \"TextNode\"}', '_node_type': 'TextNode', 'document_id': '927eeb15-02f3-4b4b-8b6b-960b679e4214', 'doc_id': '927eeb15-02f3-4b4b-8b6b-960b679e4214', 'ref_doc_id': '927eeb15-02f3-4b4b-8b6b-960b679e4214'}\n"
     ]
    }
   ],
   "source": [
    "# Now we can retrieve similar documents to a given query\n",
    "query_text = \"What is the forecast\"\n",
    "\n",
    "results = index.as_retriever().retrieve(query_text)\n",
    "\n",
    "print(len(results))\n",
    "print(results[0].text)\n",
    "print(results[0].metadata)"
   ]
  }
 ],
 "metadata": {
  "kernelspec": {
   "display_name": "dissertation_rag",
   "language": "python",
   "name": "python3"
  },
  "language_info": {
   "codemirror_mode": {
    "name": "ipython",
    "version": 3
   },
   "file_extension": ".py",
   "mimetype": "text/x-python",
   "name": "python",
   "nbconvert_exporter": "python",
   "pygments_lexer": "ipython3",
   "version": "3.10.13"
  }
 },
 "nbformat": 4,
 "nbformat_minor": 2
}
