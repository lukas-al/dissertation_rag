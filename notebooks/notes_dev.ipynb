{
 "cells": [
  {
   "cell_type": "markdown",
   "metadata": {},
   "source": [
    "# Summary\n",
    "**Downloaded the data manually**\n",
    "\n",
    "---\n",
    "---\n",
    "---"
   ]
  },
  {
   "cell_type": "markdown",
   "metadata": {},
   "source": [
    "# Extract the content from the Notes Portal"
   ]
  },
  {
   "cell_type": "code",
   "execution_count": 32,
   "metadata": {},
   "outputs": [],
   "source": [
    "import boerequests\n",
    "from bs4 import BeautifulSoup\n",
    "from selenium import webdriver\n",
    "from playwright.async_api import async_playwright\n",
    "import asyncio"
   ]
  },
  {
   "cell_type": "code",
   "execution_count": 38,
   "metadata": {},
   "outputs": [],
   "source": [
    "example_url_date = r'http://intranet/sites/MANotes/Documents/NotesSearch.aspx?sb=2;a&MnD=20181101&MxD=20200229&'\n",
    "example_url_m20 = r'http://intranet/sites/MANotes/Documents/NotesSearch.aspx?sb=2;a&For=34&'\n",
    "example_url_test = r'http://intranet/sites/MANotes'"
   ]
  },
  {
   "cell_type": "markdown",
   "metadata": {},
   "source": [
    "Requests is blocked on the Notes Portal"
   ]
  },
  {
   "cell_type": "code",
   "execution_count": 39,
   "metadata": {},
   "outputs": [
    {
     "name": "stdout",
     "output_type": "stream",
     "text": [
      "<Response [502]>\n"
     ]
    },
    {
     "data": {
      "text/plain": [
       "b'<!DOCTYPE html PUBLIC \"-//W3C//DTD XHTML 1.0 Transitional//EN\" \"http://www.w3.org/TR/xhtml1/DTD/xhtml1-transitional.dtd\">\\n<html>\\n<!-- FileName: index.html\\n     Language: [en]\\n-->\\n<!--Head-->\\n<head>\\n  <meta content=\"text/html; charset=UTF-8\" http-equiv=\"Content-Type\">\\n  <meta http-equiv=\"X-UA-Compatible\" content=\"IE=7\" />\\n  <title>McAfee Web Gateway - Notification</title>\\n  <script src=\"/mwg-internal/de5fs23hu73ds/files/javascript/sw.js\" type=\"text/javascript\" ></script>\\n  <link rel=\"stylesheet\" href=\"/mwg-internal/de5fs23hu73ds/files/BOE-NEW/stylesheet.css\" />\\n</head>\\n<!--/Head-->\\n<!--Body-->\\n<br>\\n<br>\\n<body onload=\"swOnLoad();\">\\n  <table class=\\'bodyTable\\'>\\n    <tr>\\n      <td class=\\'bodyData\\' background=\\'/mwg-internal/de5fs23hu73ds/files/BOE-NEW/img/bg_body_new.gif\\'>\\n<!--Logo-->\\n<table class=\\'logoTable\\'>\\n<br>\\n<tr>\\n    <td class=\\'logoData\\'>\\n      <a href=\\'http://intranet\\'>\\n        <img src=\\'/mwg-internal/de5fs23hu73ds/files/BOE-NEW/img/BOE_Logo.png\\' width=\"235\" height=\"30\"></a>\\n</td>\\n  </tr>\\n</table>\\n<!--/Logo-->\\n<!--Contents-->\\n      <br>\\n<!-- FileName: notresolvable.html\\n     Language: [en]\\n-->\\n<!--Title-->\\n<table class=\\'titleTable\\' background=\\'/mwg-internal/de5fs23hu73ds/files/default/img/bg_navbar.jpg\\'>\\n  <tr>\\n    <td class=\\'titleData\\'>\\n      Host Not Resolvable\\n    </td>\\n  </tr>\\n</table>\\n<!--/Title-->\\n\\n<!--Content-->\\n<table class=\"contentTable\">\\n  <tr>\\n    <td class=\"contentData\">\\n      The Host is not resolvable.\\n    </td>\\n  </tr>\\n</table>\\n<!--/Content-->\\n\\n<!--Info-->\\n<table class=\"infoTable\">\\n  <tr>\\n    <td class=\"infoData\">\\n      <b>URL information</b><br />\\n      <b>URL: </b><script type=\"text/javascript\">break_line(\"http://intranet/sites/MANotes/Documents/NotesSearch.aspx?sb=2;a&amp;For=34&amp;\");</script><br />\\n      <br>\\n      <b>Rule information</b><br />\\n      Rules Current Rule Name:       Proxy Message<br />\\n      Rules Current Rule Set Name: Default Catchall<br />\\n      <br>\\n      <b>Client information</b><br />\\n      Client IP:       172.22.89.14<br />      \\n      User Agent:  python-requests/2.22.0<br />\\n      <br />\\n      <br />\\n<A HREF=\"mailto:SecInfraWebsiteTriage@bankofengland.gsi.gov.uk?bcc=ISTDISSecurityTeam@bankofengland.co.uk&\\nSubject=New%20ITSM%20submission%20for:%20Alemu Lukas%3A\\n&Body=please can you open a new ITSM request with these details %0D%0A\\n%20URL%3Ahttp://intranet/sites/MANotes/Documents/NotesSearch.aspx?sb=2;a%26For=34%26 %0D%0A\\n%20Rules Current Rule Set Name:  Default Catchall %0D%0A\\n%20Rule%20Name%3AProxy Message %0D%0A\\n%0D%0A\\nOptional details can be entered here below %0D%0A\\nPC Name%0D%0A\\nIP address  172.22.89.14%0D%0A\\nReason for request%0D%0A\\n%0D%0A\\n%0D%0A\\nthanks%0D%0A\\n%20%0A\">You may send an email to the service desk by clicking here</A></b><br />\\n    </td>\\n  </tr>\\n    </td>\\n  </tr>\\n</table>\\n<!--/Info--> \\n<!--/Contents-->\\n<!--Policy-->\\n<table class=\\'policyTable\\'>\\n<tr>\\n    <td class=\\'policyHeading\\'>\\n<hr>\\n<a href=\\'iwl:dms=BOE-DMS&&lib=Services&&num=12735575&&ver=50&&latest=1\\'>\\n     Security Conduct Policy</a><hr>\\n    </td>\\n</tr>\\n<tr>\\n    <td class=\\'policyData\\'>\\n    </td>\\n</tr>\\n</table>\\n<!--/Policy-->\\n<!--Foot-->\\n<table class=\\'footTable\\'>\\n  <tr>\\n    <td class=\\'helpDeskData\\' background=\\'\\'>\\n      For help please contact the Technology Service Desk on x5555\\n<br><br>\\n</td>\\n</tr>\\n  <tr>\\n    <td class=\\'footData\\'>\\n</td>\\n</tr>\\n  <tr>\\n    <td class=\"footData\">\\n      <b><u>URL information</b></u></><br>\\n      URL: <script type=\"text/javascript\">break_line(\"http://intranet/sites/MANotes/Documents/NotesSearch.aspx?sb=2;a&amp;For=34&amp;\");</script></>\\n        <script type=\"text/javascript\">\\n          writeToDocument(\" - <i>URL Categories: \" + \"\" );\\n        </script></></i></>\\n     - Reputation Result: Unverified\\n      <br>\\n      <b><u>Rule information</b></u><br>\\n      Rules Current Rule Name:     Proxy Message\\n       - <i>Rules Current Rule Set Name: Default Catchall</i></>\\n      <br>\\n      <b><u>Client information</b></u><br>\\n      Client IP:       172.22.89.14   \\n       - <i>User Agent:  python-requests/2.22.0</i></><br>\\n      <b><u>Template</b></u><br> notresolvable generated <span id=\"time\">2024-03-27 14:09:13</span> by McAfee Web Gateway WGWAY-ZO-APP07\\n    </td>\\n  </tr>\\n</table>\\n<br>\\n<!--/Foot-->\\n      </td>\\n    </tr>\\n  </table>\\n</body>\\n<!--/Body-->\\n</html>\\n\\n\\n'"
      ]
     },
     "execution_count": 39,
     "metadata": {},
     "output_type": "execute_result"
    }
   ],
   "source": [
    "response = boerequests.get(example_url_m20)\n",
    "soup = BeautifulSoup(response.text, 'html.parser')\n",
    "\n",
    "print(response)\n",
    "response.content"
   ]
  },
  {
   "cell_type": "markdown",
   "metadata": {},
   "source": [
    "Selenium is a pain to get running"
   ]
  },
  {
   "cell_type": "code",
   "execution_count": 27,
   "metadata": {},
   "outputs": [
    {
     "ename": "NoSuchDriverException",
     "evalue": "Message: Unable to obtain driver for MicrosoftEdge using Selenium Manager.; For documentation on this error, please visit: https://www.selenium.dev/documentation/webdriver/troubleshooting/errors/driver_location\n",
     "output_type": "error",
     "traceback": [
      "\u001b[1;31m---------------------------------------------------------------------------\u001b[0m",
      "\u001b[1;31mWebDriverException\u001b[0m                        Traceback (most recent call last)",
      "File \u001b[1;32mc:\\Miniconda3\\envs\\diss_rag\\lib\\site-packages\\selenium\\webdriver\\common\\driver_finder.py:38\u001b[0m, in \u001b[0;36mDriverFinder.get_path\u001b[1;34m(service, options)\u001b[0m\n\u001b[0;32m     37\u001b[0m \u001b[39mtry\u001b[39;00m:\n\u001b[1;32m---> 38\u001b[0m     path \u001b[39m=\u001b[39m SeleniumManager()\u001b[39m.\u001b[39;49mdriver_location(options) \u001b[39mif\u001b[39;00m path \u001b[39mis\u001b[39;00m \u001b[39mNone\u001b[39;00m \u001b[39melse\u001b[39;00m path\n\u001b[0;32m     39\u001b[0m \u001b[39mexcept\u001b[39;00m \u001b[39mException\u001b[39;00m \u001b[39mas\u001b[39;00m err:\n",
      "File \u001b[1;32mc:\\Miniconda3\\envs\\diss_rag\\lib\\site-packages\\selenium\\webdriver\\common\\selenium_manager.py:106\u001b[0m, in \u001b[0;36mSeleniumManager.driver_location\u001b[1;34m(self, options)\u001b[0m\n\u001b[0;32m    104\u001b[0m     args\u001b[39m.\u001b[39mappend(value)\n\u001b[1;32m--> 106\u001b[0m output \u001b[39m=\u001b[39m \u001b[39mself\u001b[39;49m\u001b[39m.\u001b[39;49mrun(args)\n\u001b[0;32m    108\u001b[0m browser_path \u001b[39m=\u001b[39m output[\u001b[39m\"\u001b[39m\u001b[39mbrowser_path\u001b[39m\u001b[39m\"\u001b[39m]\n",
      "File \u001b[1;32mc:\\Miniconda3\\envs\\diss_rag\\lib\\site-packages\\selenium\\webdriver\\common\\selenium_manager.py:154\u001b[0m, in \u001b[0;36mSeleniumManager.run\u001b[1;34m(args)\u001b[0m\n\u001b[0;32m    153\u001b[0m \u001b[39mif\u001b[39;00m completed_proc\u001b[39m.\u001b[39mreturncode:\n\u001b[1;32m--> 154\u001b[0m     \u001b[39mraise\u001b[39;00m WebDriverException(\u001b[39mf\u001b[39m\u001b[39m\"\u001b[39m\u001b[39mUnsuccessful command executed: \u001b[39m\u001b[39m{\u001b[39;00mcommand\u001b[39m}\u001b[39;00m\u001b[39m.\u001b[39m\u001b[39m\\n\u001b[39;00m\u001b[39m{\u001b[39;00mresult\u001b[39m}\u001b[39;00m\u001b[39m{\u001b[39;00mstderr\u001b[39m}\u001b[39;00m\u001b[39m\"\u001b[39m)\n\u001b[0;32m    155\u001b[0m \u001b[39mreturn\u001b[39;00m result\n",
      "\u001b[1;31mWebDriverException\u001b[0m: Message: Unsuccessful command executed: c:\\Miniconda3\\envs\\diss_rag\\lib\\site-packages\\selenium\\webdriver\\common\\windows\\selenium-manager.exe --browser MicrosoftEdge --language-binding python --output json.\n{'code': 65, 'message': 'error sending request for url (https://msedgedriver.azureedge.net/LATEST_RELEASE_121_WINDOWS): error trying to connect: received corrupt message of type InvalidContentType', 'driver_path': '', 'browser_path': ''}\n",
      "\nThe above exception was the direct cause of the following exception:\n",
      "\u001b[1;31mNoSuchDriverException\u001b[0m                     Traceback (most recent call last)",
      "\u001b[1;32mn:\\CECD\\10. Personal\\Lukas Alemu\\Study Repository\\99. Capstone\\dissertation_rag\\notebooks\\notes_dev.ipynb Cell 5\u001b[0m line \u001b[0;36m1\n\u001b[1;32m----> <a href='vscode-notebook-cell:/n%3A/CECD/10.%20Personal/Lukas%20Alemu/Study%20Repository/99.%20Capstone/dissertation_rag/notebooks/notes_dev.ipynb#W6sZmlsZQ%3D%3D?line=0'>1</a>\u001b[0m driver \u001b[39m=\u001b[39m webdriver\u001b[39m.\u001b[39;49mChromiumEdge()\n",
      "File \u001b[1;32mc:\\Miniconda3\\envs\\diss_rag\\lib\\site-packages\\selenium\\webdriver\\edge\\webdriver.py:45\u001b[0m, in \u001b[0;36mWebDriver.__init__\u001b[1;34m(self, options, service, keep_alive)\u001b[0m\n\u001b[0;32m     42\u001b[0m service \u001b[39m=\u001b[39m service \u001b[39mif\u001b[39;00m service \u001b[39melse\u001b[39;00m Service()\n\u001b[0;32m     43\u001b[0m options \u001b[39m=\u001b[39m options \u001b[39mif\u001b[39;00m options \u001b[39melse\u001b[39;00m Options()\n\u001b[1;32m---> 45\u001b[0m \u001b[39msuper\u001b[39;49m()\u001b[39m.\u001b[39;49m\u001b[39m__init__\u001b[39;49m(\n\u001b[0;32m     46\u001b[0m     browser_name\u001b[39m=\u001b[39;49mDesiredCapabilities\u001b[39m.\u001b[39;49mEDGE[\u001b[39m\"\u001b[39;49m\u001b[39mbrowserName\u001b[39;49m\u001b[39m\"\u001b[39;49m],\n\u001b[0;32m     47\u001b[0m     vendor_prefix\u001b[39m=\u001b[39;49m\u001b[39m\"\u001b[39;49m\u001b[39mms\u001b[39;49m\u001b[39m\"\u001b[39;49m,\n\u001b[0;32m     48\u001b[0m     options\u001b[39m=\u001b[39;49moptions,\n\u001b[0;32m     49\u001b[0m     service\u001b[39m=\u001b[39;49mservice,\n\u001b[0;32m     50\u001b[0m     keep_alive\u001b[39m=\u001b[39;49mkeep_alive,\n\u001b[0;32m     51\u001b[0m )\n",
      "File \u001b[1;32mc:\\Miniconda3\\envs\\diss_rag\\lib\\site-packages\\selenium\\webdriver\\chromium\\webdriver.py:49\u001b[0m, in \u001b[0;36mChromiumDriver.__init__\u001b[1;34m(self, browser_name, vendor_prefix, options, service, keep_alive)\u001b[0m\n\u001b[0;32m     37\u001b[0m \u001b[39m\u001b[39m\u001b[39m\"\"\"Creates a new WebDriver instance of the ChromiumDriver. Starts the\u001b[39;00m\n\u001b[0;32m     38\u001b[0m \u001b[39mservice and then creates new WebDriver instance of ChromiumDriver.\u001b[39;00m\n\u001b[0;32m     39\u001b[0m \n\u001b[1;32m   (...)\u001b[0m\n\u001b[0;32m     45\u001b[0m \u001b[39m - keep_alive - Whether to configure ChromiumRemoteConnection to use HTTP keep-alive.\u001b[39;00m\n\u001b[0;32m     46\u001b[0m \u001b[39m\"\"\"\u001b[39;00m\n\u001b[0;32m     47\u001b[0m \u001b[39mself\u001b[39m\u001b[39m.\u001b[39mservice \u001b[39m=\u001b[39m service\n\u001b[1;32m---> 49\u001b[0m \u001b[39mself\u001b[39m\u001b[39m.\u001b[39mservice\u001b[39m.\u001b[39mpath \u001b[39m=\u001b[39m DriverFinder\u001b[39m.\u001b[39;49mget_path(\u001b[39mself\u001b[39;49m\u001b[39m.\u001b[39;49mservice, options)\n\u001b[0;32m     50\u001b[0m \u001b[39mself\u001b[39m\u001b[39m.\u001b[39mservice\u001b[39m.\u001b[39mstart()\n\u001b[0;32m     52\u001b[0m executor \u001b[39m=\u001b[39m ChromiumRemoteConnection(\n\u001b[0;32m     53\u001b[0m     remote_server_addr\u001b[39m=\u001b[39m\u001b[39mself\u001b[39m\u001b[39m.\u001b[39mservice\u001b[39m.\u001b[39mservice_url,\n\u001b[0;32m     54\u001b[0m     browser_name\u001b[39m=\u001b[39mbrowser_name,\n\u001b[1;32m   (...)\u001b[0m\n\u001b[0;32m     57\u001b[0m     ignore_proxy\u001b[39m=\u001b[39moptions\u001b[39m.\u001b[39m_ignore_local_proxy,\n\u001b[0;32m     58\u001b[0m )\n",
      "File \u001b[1;32mc:\\Miniconda3\\envs\\diss_rag\\lib\\site-packages\\selenium\\webdriver\\common\\driver_finder.py:41\u001b[0m, in \u001b[0;36mDriverFinder.get_path\u001b[1;34m(service, options)\u001b[0m\n\u001b[0;32m     39\u001b[0m \u001b[39mexcept\u001b[39;00m \u001b[39mException\u001b[39;00m \u001b[39mas\u001b[39;00m err:\n\u001b[0;32m     40\u001b[0m     msg \u001b[39m=\u001b[39m \u001b[39mf\u001b[39m\u001b[39m\"\u001b[39m\u001b[39mUnable to obtain driver for \u001b[39m\u001b[39m{\u001b[39;00moptions\u001b[39m.\u001b[39mcapabilities[\u001b[39m'\u001b[39m\u001b[39mbrowserName\u001b[39m\u001b[39m'\u001b[39m]\u001b[39m}\u001b[39;00m\u001b[39m using Selenium Manager.\u001b[39m\u001b[39m\"\u001b[39m\n\u001b[1;32m---> 41\u001b[0m     \u001b[39mraise\u001b[39;00m NoSuchDriverException(msg) \u001b[39mfrom\u001b[39;00m \u001b[39merr\u001b[39;00m\n\u001b[0;32m     43\u001b[0m \u001b[39mif\u001b[39;00m path \u001b[39mis\u001b[39;00m \u001b[39mNone\u001b[39;00m \u001b[39mor\u001b[39;00m \u001b[39mnot\u001b[39;00m Path(path)\u001b[39m.\u001b[39mis_file():\n\u001b[0;32m     44\u001b[0m     \u001b[39mraise\u001b[39;00m NoSuchDriverException(\u001b[39mf\u001b[39m\u001b[39m\"\u001b[39m\u001b[39mUnable to locate or obtain driver for \u001b[39m\u001b[39m{\u001b[39;00moptions\u001b[39m.\u001b[39mcapabilities[\u001b[39m'\u001b[39m\u001b[39mbrowserName\u001b[39m\u001b[39m'\u001b[39m]\u001b[39m}\u001b[39;00m\u001b[39m\"\u001b[39m)\n",
      "\u001b[1;31mNoSuchDriverException\u001b[0m: Message: Unable to obtain driver for MicrosoftEdge using Selenium Manager.; For documentation on this error, please visit: https://www.selenium.dev/documentation/webdriver/troubleshooting/errors/driver_location\n"
     ]
    }
   ],
   "source": [
    "driver = webdriver.ChromiumEdge()"
   ]
  },
  {
   "cell_type": "markdown",
   "metadata": {},
   "source": [
    "I already got playwright running in the past. Unfortunately seems a pain to get running here. Even when using a local python file to download it."
   ]
  },
  {
   "cell_type": "code",
   "execution_count": 40,
   "metadata": {},
   "outputs": [
    {
     "ename": "NotImplementedError",
     "evalue": "",
     "output_type": "error",
     "traceback": [
      "\u001b[1;31m---------------------------------------------------------------------------\u001b[0m",
      "\u001b[1;31mNotImplementedError\u001b[0m                       Traceback (most recent call last)",
      "\u001b[1;32mn:\\CECD\\10. Personal\\Lukas Alemu\\Study Repository\\99. Capstone\\dissertation_rag\\notebooks\\notes_dev.ipynb Cell 9\u001b[0m line \u001b[0;36m1\n\u001b[0;32m     <a href='vscode-notebook-cell:/n%3A/CECD/10.%20Personal/Lukas%20Alemu/Study%20Repository/99.%20Capstone/dissertation_rag/notebooks/notes_dev.ipynb#X10sZmlsZQ%3D%3D?line=15'>16</a>\u001b[0m     \u001b[39masync\u001b[39;00m \u001b[39mwith\u001b[39;00m async_playwright() \u001b[39mas\u001b[39;00m playwright:\n\u001b[0;32m     <a href='vscode-notebook-cell:/n%3A/CECD/10.%20Personal/Lukas%20Alemu/Study%20Repository/99.%20Capstone/dissertation_rag/notebooks/notes_dev.ipynb#X10sZmlsZQ%3D%3D?line=16'>17</a>\u001b[0m         \u001b[39mawait\u001b[39;00m run(playwright)\n\u001b[1;32m---> <a href='vscode-notebook-cell:/n%3A/CECD/10.%20Personal/Lukas%20Alemu/Study%20Repository/99.%20Capstone/dissertation_rag/notebooks/notes_dev.ipynb#X10sZmlsZQ%3D%3D?line=18'>19</a>\u001b[0m \u001b[39mawait\u001b[39;00m main()\n",
      "\u001b[1;32mn:\\CECD\\10. Personal\\Lukas Alemu\\Study Repository\\99. Capstone\\dissertation_rag\\notebooks\\notes_dev.ipynb Cell 9\u001b[0m line \u001b[0;36m1\n\u001b[0;32m     <a href='vscode-notebook-cell:/n%3A/CECD/10.%20Personal/Lukas%20Alemu/Study%20Repository/99.%20Capstone/dissertation_rag/notebooks/notes_dev.ipynb#X10sZmlsZQ%3D%3D?line=14'>15</a>\u001b[0m \u001b[39masync\u001b[39;00m \u001b[39mdef\u001b[39;00m \u001b[39mmain\u001b[39m():\n\u001b[1;32m---> <a href='vscode-notebook-cell:/n%3A/CECD/10.%20Personal/Lukas%20Alemu/Study%20Repository/99.%20Capstone/dissertation_rag/notebooks/notes_dev.ipynb#X10sZmlsZQ%3D%3D?line=15'>16</a>\u001b[0m     \u001b[39masync\u001b[39;00m \u001b[39mwith\u001b[39;00m async_playwright() \u001b[39mas\u001b[39;00m playwright:\n\u001b[0;32m     <a href='vscode-notebook-cell:/n%3A/CECD/10.%20Personal/Lukas%20Alemu/Study%20Repository/99.%20Capstone/dissertation_rag/notebooks/notes_dev.ipynb#X10sZmlsZQ%3D%3D?line=16'>17</a>\u001b[0m         \u001b[39mawait\u001b[39;00m run(playwright)\n",
      "File \u001b[1;32mc:\\Miniconda3\\envs\\diss_rag\\lib\\site-packages\\playwright\\async_api\\_context_manager.py:47\u001b[0m, in \u001b[0;36mPlaywrightContextManager.__aenter__\u001b[1;34m(self)\u001b[0m\n\u001b[0;32m     45\u001b[0m \u001b[39mif\u001b[39;00m \u001b[39mnot\u001b[39;00m playwright_future\u001b[39m.\u001b[39mdone():\n\u001b[0;32m     46\u001b[0m     playwright_future\u001b[39m.\u001b[39mcancel()\n\u001b[1;32m---> 47\u001b[0m playwright \u001b[39m=\u001b[39m AsyncPlaywright(\u001b[39mnext\u001b[39;49m(\u001b[39miter\u001b[39;49m(done))\u001b[39m.\u001b[39;49mresult())\n\u001b[0;32m     48\u001b[0m playwright\u001b[39m.\u001b[39mstop \u001b[39m=\u001b[39m \u001b[39mself\u001b[39m\u001b[39m.\u001b[39m\u001b[39m__aexit__\u001b[39m  \u001b[39m# type: ignore\u001b[39;00m\n\u001b[0;32m     49\u001b[0m \u001b[39mreturn\u001b[39;00m playwright\n",
      "File \u001b[1;32mc:\\Miniconda3\\envs\\diss_rag\\lib\\site-packages\\playwright\\_impl\\_transport.py:123\u001b[0m, in \u001b[0;36mPipeTransport.connect\u001b[1;34m(self)\u001b[0m\n\u001b[0;32m    120\u001b[0m         startupinfo\u001b[39m.\u001b[39mdwFlags \u001b[39m|\u001b[39m\u001b[39m=\u001b[39m subprocess\u001b[39m.\u001b[39mSTARTF_USESHOWWINDOW\n\u001b[0;32m    121\u001b[0m         startupinfo\u001b[39m.\u001b[39mwShowWindow \u001b[39m=\u001b[39m subprocess\u001b[39m.\u001b[39mSW_HIDE\n\u001b[1;32m--> 123\u001b[0m     \u001b[39mself\u001b[39m\u001b[39m.\u001b[39m_proc \u001b[39m=\u001b[39m \u001b[39mawait\u001b[39;00m asyncio\u001b[39m.\u001b[39mcreate_subprocess_exec(\n\u001b[0;32m    124\u001b[0m         \u001b[39mstr\u001b[39m(\u001b[39mself\u001b[39m\u001b[39m.\u001b[39m_driver_executable),\n\u001b[0;32m    125\u001b[0m         \u001b[39m\"\u001b[39m\u001b[39mrun-driver\u001b[39m\u001b[39m\"\u001b[39m,\n\u001b[0;32m    126\u001b[0m         stdin\u001b[39m=\u001b[39masyncio\u001b[39m.\u001b[39msubprocess\u001b[39m.\u001b[39mPIPE,\n\u001b[0;32m    127\u001b[0m         stdout\u001b[39m=\u001b[39masyncio\u001b[39m.\u001b[39msubprocess\u001b[39m.\u001b[39mPIPE,\n\u001b[0;32m    128\u001b[0m         stderr\u001b[39m=\u001b[39m_get_stderr_fileno(),\n\u001b[0;32m    129\u001b[0m         limit\u001b[39m=\u001b[39m\u001b[39m32768\u001b[39m,\n\u001b[0;32m    130\u001b[0m         env\u001b[39m=\u001b[39menv,\n\u001b[0;32m    131\u001b[0m         startupinfo\u001b[39m=\u001b[39mstartupinfo,\n\u001b[0;32m    132\u001b[0m     )\n\u001b[0;32m    133\u001b[0m \u001b[39mexcept\u001b[39;00m \u001b[39mException\u001b[39;00m \u001b[39mas\u001b[39;00m exc:\n\u001b[0;32m    134\u001b[0m     \u001b[39mself\u001b[39m\u001b[39m.\u001b[39mon_error_future\u001b[39m.\u001b[39mset_exception(exc)\n",
      "File \u001b[1;32mc:\\Miniconda3\\envs\\diss_rag\\lib\\asyncio\\subprocess.py:218\u001b[0m, in \u001b[0;36mcreate_subprocess_exec\u001b[1;34m(program, stdin, stdout, stderr, limit, *args, **kwds)\u001b[0m\n\u001b[0;32m    215\u001b[0m loop \u001b[39m=\u001b[39m events\u001b[39m.\u001b[39mget_running_loop()\n\u001b[0;32m    216\u001b[0m protocol_factory \u001b[39m=\u001b[39m \u001b[39mlambda\u001b[39;00m: SubprocessStreamProtocol(limit\u001b[39m=\u001b[39mlimit,\n\u001b[0;32m    217\u001b[0m                                                     loop\u001b[39m=\u001b[39mloop)\n\u001b[1;32m--> 218\u001b[0m transport, protocol \u001b[39m=\u001b[39m \u001b[39mawait\u001b[39;00m loop\u001b[39m.\u001b[39msubprocess_exec(\n\u001b[0;32m    219\u001b[0m     protocol_factory,\n\u001b[0;32m    220\u001b[0m     program, \u001b[39m*\u001b[39margs,\n\u001b[0;32m    221\u001b[0m     stdin\u001b[39m=\u001b[39mstdin, stdout\u001b[39m=\u001b[39mstdout,\n\u001b[0;32m    222\u001b[0m     stderr\u001b[39m=\u001b[39mstderr, \u001b[39m*\u001b[39m\u001b[39m*\u001b[39mkwds)\n\u001b[0;32m    223\u001b[0m \u001b[39mreturn\u001b[39;00m Process(transport, protocol, loop)\n",
      "File \u001b[1;32mc:\\Miniconda3\\envs\\diss_rag\\lib\\asyncio\\base_events.py:1681\u001b[0m, in \u001b[0;36mBaseEventLoop.subprocess_exec\u001b[1;34m(self, protocol_factory, program, stdin, stdout, stderr, universal_newlines, shell, bufsize, encoding, errors, text, *args, **kwargs)\u001b[0m\n\u001b[0;32m   1679\u001b[0m     debug_log \u001b[39m=\u001b[39m \u001b[39mf\u001b[39m\u001b[39m'\u001b[39m\u001b[39mexecute program \u001b[39m\u001b[39m{\u001b[39;00mprogram\u001b[39m!r}\u001b[39;00m\u001b[39m'\u001b[39m\n\u001b[0;32m   1680\u001b[0m     \u001b[39mself\u001b[39m\u001b[39m.\u001b[39m_log_subprocess(debug_log, stdin, stdout, stderr)\n\u001b[1;32m-> 1681\u001b[0m transport \u001b[39m=\u001b[39m \u001b[39mawait\u001b[39;00m \u001b[39mself\u001b[39m\u001b[39m.\u001b[39m_make_subprocess_transport(\n\u001b[0;32m   1682\u001b[0m     protocol, popen_args, \u001b[39mFalse\u001b[39;00m, stdin, stdout, stderr,\n\u001b[0;32m   1683\u001b[0m     bufsize, \u001b[39m*\u001b[39m\u001b[39m*\u001b[39mkwargs)\n\u001b[0;32m   1684\u001b[0m \u001b[39mif\u001b[39;00m \u001b[39mself\u001b[39m\u001b[39m.\u001b[39m_debug \u001b[39mand\u001b[39;00m debug_log \u001b[39mis\u001b[39;00m \u001b[39mnot\u001b[39;00m \u001b[39mNone\u001b[39;00m:\n\u001b[0;32m   1685\u001b[0m     logger\u001b[39m.\u001b[39minfo(\u001b[39m'\u001b[39m\u001b[39m%s\u001b[39;00m\u001b[39m: \u001b[39m\u001b[39m%r\u001b[39;00m\u001b[39m'\u001b[39m, debug_log, transport)\n",
      "File \u001b[1;32mc:\\Miniconda3\\envs\\diss_rag\\lib\\asyncio\\base_events.py:498\u001b[0m, in \u001b[0;36mBaseEventLoop._make_subprocess_transport\u001b[1;34m(self, protocol, args, shell, stdin, stdout, stderr, bufsize, extra, **kwargs)\u001b[0m\n\u001b[0;32m    494\u001b[0m \u001b[39masync\u001b[39;00m \u001b[39mdef\u001b[39;00m \u001b[39m_make_subprocess_transport\u001b[39m(\u001b[39mself\u001b[39m, protocol, args, shell,\n\u001b[0;32m    495\u001b[0m                                      stdin, stdout, stderr, bufsize,\n\u001b[0;32m    496\u001b[0m                                      extra\u001b[39m=\u001b[39m\u001b[39mNone\u001b[39;00m, \u001b[39m*\u001b[39m\u001b[39m*\u001b[39mkwargs):\n\u001b[0;32m    497\u001b[0m \u001b[39m    \u001b[39m\u001b[39m\"\"\"Create subprocess transport.\"\"\"\u001b[39;00m\n\u001b[1;32m--> 498\u001b[0m     \u001b[39mraise\u001b[39;00m \u001b[39mNotImplementedError\u001b[39;00m\n",
      "\u001b[1;31mNotImplementedError\u001b[0m: "
     ]
    }
   ],
   "source": [
    "async def run(playwright):\n",
    "    print(running)\n",
    "    browser = await playwright.chromium.launch(\n",
    "        executable_path=r\"C:\\Users\\335257\\AppData\\Local\\ms-playwright\\chromium-1055\\chrome-win.exe\"\n",
    "    )\n",
    "    context = await browser.new_context()\n",
    "    page = await context.new_page()\n",
    "    \n",
    "    await page.goto(example_url_m20)\n",
    "    \n",
    "    content = await page.content()\n",
    "    print(content)\n",
    "    await browser.close()\n",
    "\n",
    "async def main():\n",
    "    async with async_playwright() as playwright:\n",
    "        await run(playwright)\n",
    "\n",
    "await main()"
   ]
  },
  {
   "cell_type": "markdown",
   "metadata": {},
   "source": [
    "# Testing Conclusion\n",
    "\n",
    "I'm just going to run this with an excel spreadsheet to record the downloads, and then manually save them in the folder as exported pdfs. Seems a pain in the arse but I do what I have to..."
   ]
  }
 ],
 "metadata": {
  "kernelspec": {
   "display_name": "diss_rag",
   "language": "python",
   "name": "python3"
  },
  "language_info": {
   "codemirror_mode": {
    "name": "ipython",
    "version": 3
   },
   "file_extension": ".py",
   "mimetype": "text/x-python",
   "name": "python",
   "nbconvert_exporter": "python",
   "pygments_lexer": "ipython3",
   "version": "3.10.14"
  }
 },
 "nbformat": 4,
 "nbformat_minor": 2
}
