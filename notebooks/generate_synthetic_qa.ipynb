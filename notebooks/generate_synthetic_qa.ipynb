{
 "cells": [
  {
   "cell_type": "markdown",
   "metadata": {},
   "source": [
    "# Notebook to generate synthetic QA over the data"
   ]
  },
  {
   "cell_type": "code",
   "execution_count": 392,
   "metadata": {},
   "outputs": [],
   "source": [
    "from tqdm.auto import tqdm\n",
    "import pandas as pd\n",
    "from typing import Optional, List, Tuple\n",
    "import json\n",
    "import pickle\n",
    "import pathlib\n",
    "import random\n",
    "import os\n",
    "import sys\n",
    "from transformers import pipeline\n",
    "from llama_cpp import Llama\n",
    "from pprint import pprint\n",
    "\n",
    "\n",
    "# Add the project root directory to the system path\n",
    "project_root = os.path.abspath(os.path.join(os.getcwd(), \"..\"))\n",
    "sys.path.append(project_root)\n",
    "PROJECT_ROOT = pathlib.Path(project_root)\n",
    "\n",
    "from StructuredRag.utils import mistral_conversation\n",
    "from StructuredRag.algorithms.inquirer import StructRAGInquirer\n",
    "\n",
    "pd.set_option(\"display.max_colwidth\", None)"
   ]
  },
  {
   "cell_type": "markdown",
   "metadata": {},
   "source": [
    "### Load docs and instantiate our RAG retriever agent"
   ]
  },
  {
   "cell_type": "code",
   "execution_count": 359,
   "metadata": {},
   "outputs": [],
   "source": [
    "# path_to_data = pathlib.Path(\"/Users/lukasalemu/Documents/00. Bank of England/00. Degree/Dissertation/structured-rag/results/v0/2024-06-14/embedded_index.pickle\")\n",
    "with open(PROJECT_ROOT / \"results\" / 'v0' / '2024-07-18' / 'embedded_index.pickle', \"rb\") as f:\n",
    "    document_index = pickle.load(f)"
   ]
  },
  {
   "cell_type": "code",
   "execution_count": 360,
   "metadata": {},
   "outputs": [
    {
     "name": "stdout",
     "output_type": "stream",
     "text": [
      "Loading item: embedded_index\n",
      "Loading item: notes\n",
      "Loading item: edge_thresh\n",
      "Loading item: adj_matrix\n"
     ]
    }
   ],
   "source": [
    "# instantiated so we can use it to retreive the approapriate context\n",
    "rag_agent = StructRAGInquirer(\n",
    "    str((PROJECT_ROOT / \"results\" / 'v0' / '2024-07-18').resolve()),\n",
    "    llm_name='google/flan-t5-large',\n",
    "    llm_max_tokens=512,\n",
    "    use_anchor_document=False,\n",
    ")\n",
    "\n",
    "# result = rag_agent.run_inquirer(\n",
    "#     query = outputs[0]['question'].replace('Factoid question: ', ''),\n",
    "#     source_document_name=None,\n",
    "#     k_context = 3,\n",
    "# )"
   ]
  },
  {
   "cell_type": "code",
   "execution_count": 361,
   "metadata": {},
   "outputs": [
    {
     "name": "stderr",
     "output_type": "stream",
     "text": [
      "Adding edges to graph: 100%|██████████| 440/440 [00:00<00:00, 61641.80it/s]"
     ]
    },
    {
     "name": "stdout",
     "output_type": "stream",
     "text": [
      " Context 0: Committee continues to judge that the risks to its modal inflation projection are skewed to the upside. Second-round effects in domestic prices and wages are expected to take longer to unwind than they did to emerge. There are also upside risks to inflation from energy prices given events in the Middle East. Taking account of this skew, the mean projection for CPI inflation is 2.2% and 1.9% at the two and three-year horizons respectively. Conditioned on the alternative assumption of constant interest rates at 5.25%, which is a higher profile than the market curve beyond the second half of 2024, mean CPI inflation returns to target in two years’ time and falls to 1.6% at the three-year horizon. The MPC’s remit is clear that the inflation target applies at all times, reflecting the primacy of price stability in the UK monetary policy framework. The framework recognises that there will be occasions when inflation will depart from the target as a result of shocks and disturbances. Monetary policy will ensure that CPI inflation returns to the 2% target sustainably in the medium term. Since the MPC’s previous decision, there has been little news in key indicators of \n",
      "Context 1: wholesale prices, the drag from utilities price inflation is then expected to fade from the second half of this year . Retail fuel prices fell earlier than utilities prices, and therefore the related drag has largely come through in the latest CPI data. The contribution of retail fuel prices to inflation is projected to be closer to zero in 2024 Q1 and positive in Q2, although that relies on the Government choosing to go ahead with theChart 2.18: Consumer price inflation has fallen since last year’s peak and is projected to fall further before rising again in 2024 H2 Contributions to CPI inflation (a) Sources: Bloomberg Finance L.P., Department for Energy Security and Net Zero, ONS and Bank calculations. (a) Figures in parentheses are CPI basket weights in 2023. Data to December 2023. Component-level Bank staf f projections from January 2024 to June 2024. Diamonds indicate projections for headline inflation in 2024 Q3 and Q4. The food component is defined as food and non-alcoholic beverages (FNAB). Fuels and lubricants estimates use Department for Energy Security and Net Zero petrol price data for January 2024 and then are based on the sterling oil futures \n",
      "Context 2: declined to 6.5% in the three months to November, around 1 percentage point below the expectation in the November Report. This has brought the AWE measure back into line with the steer from other indicators of annual pay growth, which lies between 6% and 7% (Chart 2.15). Recent outturns in wage growth have also continued to be stronger than standard models of wage growth, based on productivity, short-term inflation expectations and a measure of economic slack, would have predicted (Chart 1.4). The MPC continues to judge that private sector regular AWE growth will ease more slowly than the range of forecasts from this suite of models would predict, consistent with its broader judgement that second-round effects in both domestic prices and wages will take longer to unwind than they did to emerge. Overall, the near-term outlook for pay growth is weaker than projected in the November Report, with the annual growth rate of private sector regular AWE projected to decline to around 4¾% by 2024 Q2 and to end this year at a similar rate. However, this profile also reflects an MPC judgement to push up slightly on pay growth in the near term, in light of the stronger forward-looking indications \n",
      "\n"
     ]
    },
    {
     "name": "stderr",
     "output_type": "stream",
     "text": [
      "\n"
     ]
    }
   ],
   "source": [
    "def build_context_for_QA_gen(doc, rag_agent, k_context: int = 3):\n",
    "    \"\"\"\n",
    "    Builds the context string for generating synthetic question-answering pairs.\n",
    "\n",
    "    Args:\n",
    "        doc: The document for which the context is being built.\n",
    "        rag_agent: The RAG agent used for retrieving similar nodes.\n",
    "        k_context (int): The number of similar nodes to consider for building the context. Default is 3.\n",
    "\n",
    "    Returns:\n",
    "        context_string (str): The generated context string containing the clean text of similar nodes.\n",
    "    \"\"\"\n",
    "    similar_nodes = rag_agent._graph_similar_nodes(doc.id_, k_context)\n",
    "    \n",
    "    context_string = \"\"\" \"\"\"\n",
    "    for i, (node_id, _) in enumerate(similar_nodes):\n",
    "        # Yes its unoptimised... find the document who's id matches the node_id\n",
    "        node = next((x for x in document_index if x.id_ == node_id), None)\n",
    "        \n",
    "        clean_text = node.text.replace(\"\\n\", \" \").replace(\"\\t\", \" \").replace(\"  \", \" \").strip()\n",
    "        context_string += f\"Context {i}: {clean_text} \\n\"\n",
    "    \n",
    "    return context_string\n",
    "\n",
    "context_bundle = build_context_for_QA_gen(document_index[10], rag_agent, k_context=3)\n",
    "\n",
    "print(context_bundle)"
   ]
  },
  {
   "cell_type": "markdown",
   "metadata": {},
   "source": [
    "### 1. Setup a text-generation pipeline for the QA task"
   ]
  },
  {
   "cell_type": "code",
   "execution_count": 376,
   "metadata": {},
   "outputs": [],
   "source": [
    "# First install / activate the model\n",
    "# path_to_save = pathlib.Path(\"/Users/lukasalemu/Documents/00. Bank of England/00. Degree/Dissertation/structured-rag\")\n",
    "\n",
    "llm = Llama.from_pretrained(\n",
    "    repo_id=\"TheBloke/CapybaraHermes-2.5-Mistral-7B-GGUF\",\n",
    "    filename=\"capybarahermes-2.5-mistral-7b.Q5_K_M.gguf\",\n",
    "    local_dir=PROJECT_ROOT,\n",
    "    verbose=False,\n",
    "    n_gpu_layers=-1, # Uncomment to use GPU acceleration\n",
    "    n_ctx=1400,\n",
    ")"
   ]
  },
  {
   "cell_type": "code",
   "execution_count": 377,
   "metadata": {},
   "outputs": [],
   "source": [
    "QA_generation_prompt = \"\"\"\n",
    "Your task is to write a factoid question and an answer given a context.\n",
    "Your factoid question should be answerable with a specific, concise piece of factual information from the context.\n",
    "Your factoid question should be formulated in the same style as questions users could ask in a search engine.\n",
    "This means that your factoid question MUST NOT mention something like \"according to the passage\" or \"context\".\n",
    "\n",
    "Provide your answer as follows:\n",
    "\n",
    "Output:::\n",
    "Factoid question: (your factoid question)\n",
    "Answer: (your answer to the factoid question)\n",
    "\n",
    "Now here is the context.\n",
    "\n",
    "Context: {context}\\n\n",
    "Output:::\"\"\"\n",
    "\n",
    "# Shortened and fitting into the CHATML format\n",
    "QA_SYSTEM_PROMPT = \"\"\" \n",
    "Your task is to write a factoid question and an answer given a context.\n",
    "Your factoid question should be answerable with a specific, concise piece of factual information from the context.\n",
    "\n",
    "Provide your answer as follows:\n",
    "\n",
    "Output:::\n",
    "Factoid question: (your factoid question)\n",
    "Answer: (your answer to the factoid question)\n",
    "\"\"\","
   ]
  },
  {
   "cell_type": "code",
   "execution_count": 378,
   "metadata": {},
   "outputs": [],
   "source": [
    "def create_chatML_QA_prompt(document_text: str) -> List[dict]: \n",
    "    return [\n",
    "        {\n",
    "            \"role\": \"system\",\n",
    "            \"content\": QA_SYSTEM_PROMPT,\n",
    "        },\n",
    "        {\n",
    "            \"role\": \"user\",\n",
    "            \"content\": document_text,\n",
    "        },\n",
    "    ]"
   ]
  },
  {
   "cell_type": "code",
   "execution_count": 365,
   "metadata": {},
   "outputs": [],
   "source": [
    "doc_text = document_index[100].text.replace(\"\\n\", \" \")\n",
    "\n",
    "test = llm.create_chat_completion(\n",
    "    messages = create_chatML_QA_prompt(doc_text),\n",
    ")\n",
    "\n",
    "test"
   ]
  },
  {
   "cell_type": "code",
   "execution_count": 366,
   "metadata": {},
   "outputs": [
    {
     "data": {
      "application/vnd.jupyter.widget-view+json": {
       "model_id": "85702d95b31f4c42b5c87f3cf5b88196",
       "version_major": 2,
       "version_minor": 0
      },
      "text/plain": [
       "Generating QA pairs:   0%|          | 0/10 [00:00<?, ?it/s]"
      ]
     },
     "metadata": {},
     "output_type": "display_data"
    },
    {
     "name": "stderr",
     "output_type": "stream",
     "text": [
      "Adding edges to graph: 100%|██████████| 440/440 [00:00<00:00, 45680.54it/s]\n",
      "Adding edges to graph: 100%|██████████| 440/440 [00:00<00:00, 107917.30it/s]\n",
      "Adding edges to graph: 100%|██████████| 440/440 [00:00<00:00, 100896.27it/s]\n",
      "Adding edges to graph: 100%|██████████| 440/440 [00:00<00:00, 25262.40it/s]\n",
      "Adding edges to graph: 100%|██████████| 440/440 [00:00<00:00, 132340.89it/s]\n",
      "Adding edges to graph: 100%|██████████| 440/440 [00:00<00:00, 116185.71it/s]\n",
      "Adding edges to graph: 100%|██████████| 440/440 [00:00<00:00, 46048.70it/s]\n",
      "Adding edges to graph: 100%|██████████| 440/440 [00:00<00:00, 112447.83it/s]\n",
      "Adding edges to graph: 100%|██████████| 440/440 [00:00<00:00, 97018.91it/s]\n",
      "Adding edges to graph: 100%|██████████| 440/440 [00:00<00:00, 117330.65it/s]\n"
     ]
    }
   ],
   "source": [
    "# Run the loop\n",
    "raw_outputs = []\n",
    "outputs = []\n",
    "for sample_doc in tqdm(random.sample(document_index, 10), desc=\"Generating QA pairs\"):\n",
    "    \n",
    "    context_text = build_context_for_QA_gen(sample_doc, rag_agent, k_context=3)\n",
    "    \n",
    "    output = llm.create_chat_completion(messages = create_chatML_QA_prompt(context_text))\n",
    "    \n",
    "    raw_outputs.append(output)\n",
    "    outputs.append(\n",
    "        {\n",
    "            \"context\": context_text,\n",
    "            \"question\": output['choices'][0]['message']['content'].split('Factoid question: ')[1].split('\\n')[0],\n",
    "            'answer': output['choices'][0]['message']['content'].split('Answer: ')[1],\n",
    "        }\n",
    "    )"
   ]
  },
  {
   "cell_type": "code",
   "execution_count": 375,
   "metadata": {},
   "outputs": [
    {
     "data": {
      "text/plain": [
       "{'id': 'chatcmpl-5a57d5e6-e941-4562-a65d-eebf037c2c42',\n",
       " 'object': 'chat.completion',\n",
       " 'created': 1721336023,\n",
       " 'model': '/Users/lukasalemu/Documents/00. Bank of England/00. Degree/Dissertation/structured-rag/capybarahermes-2.5-mistral-7b.Q5_K_M.gguf',\n",
       " 'choices': [{'index': 0,\n",
       "   'message': {'role': 'assistant',\n",
       "    'content': 'Factoid question: What is the four-quarter inflation rate in Q4 excluding fuel and the impact of MTIC fraud?\\n\\nAnswer: The four-quarter inflation rate in Q4 excluding fuel and the impact of MTIC fraud is given in Context 0 (aa).'},\n",
       "   'logprobs': None,\n",
       "   'finish_reason': 'stop'}],\n",
       " 'usage': {'prompt_tokens': 906, 'completion_tokens': 61, 'total_tokens': 967}}"
      ]
     },
     "execution_count": 375,
     "metadata": {},
     "output_type": "execute_result"
    }
   ],
   "source": [
    "raw_outputs[5]"
   ]
  },
  {
   "cell_type": "code",
   "execution_count": 57,
   "metadata": {},
   "outputs": [
    {
     "data": {
      "application/vnd.jupyter.widget-view+json": {
       "model_id": "b410118106a64287b71e1f4eb55ed653",
       "version_major": 2,
       "version_minor": 0
      },
      "text/plain": [
       "  0%|          | 0/10 [00:00<?, ?it/s]"
      ]
     },
     "metadata": {},
     "output_type": "display_data"
    }
   ],
   "source": [
    "### OLD PRE FORMATTED PROMPT\n",
    "raw_outputs = []\n",
    "outputs = []\n",
    "for sample_doc in tqdm(random.sample(document_index, 10)):\n",
    "    \n",
    "    context_text = sample_doc.text\n",
    "    context_text = context_text.replace(\"\\n\", \" \")\n",
    "    context_text = context_text.replace(\"  \", \" \")\n",
    "    \n",
    "    output = llm(\n",
    "        prompt=QA_generation_prompt.format(context=context_text),\n",
    "        max_tokens=None,\n",
    "        echo=True\n",
    "    )\n",
    "    raw_outputs.append(output)\n",
    "    outputs.append(\n",
    "        {\n",
    "            \"context\": context_text,\n",
    "            \"question\": output['choices'][0]['text'].split(\"Output:::\")[-1].split('\\n')[1],\n",
    "            \"answer\": output['choices'][0]['text'].split(\"Output:::\")[-1].split('\\n')[-1],\n",
    "        }\n",
    "    )\n",
    "    \n",
    "    "
   ]
  },
  {
   "cell_type": "markdown",
   "metadata": {},
   "source": [
    "### 2. Assess the quality of the QA pairs\n",
    "\n",
    "Based on the logic in this paper arxiv2312.10003 [https://arxiv.org/abs/2312.10003](https://arxiv.org/abs/2312.10003)"
   ]
  },
  {
   "cell_type": "code",
   "execution_count": 379,
   "metadata": {},
   "outputs": [],
   "source": [
    "QA_GROUNDEDNESS_PROMPT = \"\"\"\n",
    "Your task is to provide a 'total rating' scoring how well one can answer the given question unambiguously with the given context.\n",
    "Give your answer on a scale of 1 to 5, where 1 means that the question is not answerable at all given the context, and 5 means that the question is clearly and unambiguously answerable with the context.\n",
    "\n",
    "Answer:::\n",
    "Evaluation: (your rationale for the rating, as a text)\n",
    "Total rating: (your rating, as a number between 1 and 5)\n",
    "\n",
    "You MUST provide values for 'Evaluation:' and 'Total rating:' in your answer.\n",
    "\n",
    "Now here are the context and question.\n",
    "\"\"\"\n",
    "\n",
    "QA_RELEVANCE_PROMPT = \"\"\"\n",
    "Your task is to provide a 'total rating' representing how useful this question can be to macro-economists looking for information whilst working at the Bank of England.\n",
    "Give your answer on a scale of 1 to 5, where 1 means that the question is not useful at all, and 5 means that the question is extremely useful.\n",
    "\n",
    "Provide your answer as follows:\n",
    "\n",
    "Answer:::\n",
    "Evaluation: (your rationale for the rating, as a text)\n",
    "Total rating: (your rating, as a number between 1 and 5)\n",
    "\n",
    "You MUST provide values for 'Evaluation:' and 'Total rating:' in your answer.\n",
    "\n",
    "Now here is the question.\n",
    "\"\"\"\n",
    "\n",
    "QA_STANDALONE_PROMPT = \"\"\"\n",
    "Your task is to provide a 'total rating' representing how context-independent this question is.\n",
    "Give your answer on a scale of 1 to 5, where 1 means that the question depends on additional information to be understood, and 5 means that the question makes sense by itself.\n",
    "For instance, if the question refers to a particular setting, like 'in the context' or 'in the document', the rating must be 1.\n",
    "The questions can contain obscure technical nouns or acronyms like MPC, CPI or YBUS and still be a 5.\n",
    "\n",
    "For instance, \"What is the name of the checkpoint from which the ViT model is imported?\" should receive a 1, since there is an implicit mention of a context, thus the question is not independant from the context.\n",
    "\n",
    "Provide your answer as follows:\n",
    "\n",
    "Answer:::\n",
    "Evaluation: (your rationale for the rating, as a text)\n",
    "Total rating: (your rating, as a number between 1 and 5)\n",
    "\n",
    "You MUST provide values for 'Evaluation:' and 'Total rating:' in your answer.\n",
    "\n",
    "Now here is the question.\n",
    "\"\"\""
   ]
  },
  {
   "cell_type": "code",
   "execution_count": 380,
   "metadata": {},
   "outputs": [],
   "source": [
    "def create_chatML_quality_prompt(prompt: str, question: str, context: str = None) -> List[dict]:\n",
    "    if context is None:\n",
    "        return [\n",
    "            {\n",
    "                \"role\": \"system\",\n",
    "                \"content\": prompt,\n",
    "            },\n",
    "            {\n",
    "                \"role\": \"user\",\n",
    "                \"content\": f\"Factoid question: {question}\",\n",
    "            },\n",
    "        ]\n",
    "    else:\n",
    "        return [\n",
    "            {\n",
    "                \"role\": \"system\",\n",
    "                \"content\": prompt,\n",
    "            },\n",
    "            {\n",
    "                \"role\": \"user\",\n",
    "                \"content\": f\"Context: {context}\\nFactoid question: {question}\",\n",
    "            },\n",
    "        ]"
   ]
  },
  {
   "cell_type": "code",
   "execution_count": 261,
   "metadata": {},
   "outputs": [],
   "source": [
    "output_bundle = outputs[4]\n",
    "\n",
    "groundedness_eval = llm.create_chat_completion(\n",
    "        messages = create_chatML_quality_prompt(QA_GROUNDEDNESS_PROMPT, output_bundle['question'], output_bundle['context']),\n",
    "    )"
   ]
  },
  {
   "cell_type": "code",
   "execution_count": 268,
   "metadata": {},
   "outputs": [
    {
     "data": {
      "text/plain": [
       "{'id': 'chatcmpl-34005a1d-fc96-43e5-a7c5-9304ccd6cb63',\n",
       " 'object': 'chat.completion',\n",
       " 'created': 1721317634,\n",
       " 'model': '/Users/lukasalemu/Documents/00. Bank of England/00. Degree/Dissertation/structured-rag/capybarahermes-2.5-mistral-7b.Q5_K_M.gguf',\n",
       " 'choices': [{'index': 0,\n",
       "   'message': {'role': 'assistant',\n",
       "    'content': 'Evaluation: The context clearly states that \"private sector regular AWE growth falls to around 3% by the end of the forecast period, in the MPC’s modal projection.\" This information directly answers the question about the private sector regular AWE growth rate at the end of the forecast period.\\n\\nTotal rating: 5'},\n",
       "   'logprobs': None,\n",
       "   'finish_reason': 'stop'}],\n",
       " 'usage': {'prompt_tokens': 469, 'completion_tokens': 68, 'total_tokens': 537}}"
      ]
     },
     "execution_count": 268,
     "metadata": {},
     "output_type": "execute_result"
    }
   ],
   "source": [
    "groundedness_eval"
   ]
  },
  {
   "cell_type": "code",
   "execution_count": 381,
   "metadata": {},
   "outputs": [
    {
     "data": {
      "application/vnd.jupyter.widget-view+json": {
       "model_id": "e2743a92338c461181f8f18ba456de3a",
       "version_major": 2,
       "version_minor": 0
      },
      "text/plain": [
       "Evaluating QA pairs:   0%|          | 0/10 [00:00<?, ?it/s]"
      ]
     },
     "metadata": {},
     "output_type": "display_data"
    }
   ],
   "source": [
    "raw_evals = []\n",
    "for output_bundle in tqdm(outputs, desc=\"Evaluating QA pairs\"):\n",
    "    \n",
    "    groundedness_eval = llm.create_chat_completion(\n",
    "        messages = create_chatML_quality_prompt(QA_GROUNDEDNESS_PROMPT, output_bundle['question'], output_bundle['context']),\n",
    "    )\n",
    "    \n",
    "    relevance_eval = llm.create_chat_completion(\n",
    "        messages = create_chatML_quality_prompt(QA_RELEVANCE_PROMPT, output_bundle['question']),\n",
    "    )\n",
    "    \n",
    "    standalone_eval = llm.create_chat_completion(\n",
    "        messages = create_chatML_quality_prompt(QA_STANDALONE_PROMPT, output_bundle['question']),\n",
    "    )\n",
    "\n",
    "\n",
    "    # Extract the scores and write them\n",
    "    for eval_type, eval_output in zip([\"groundedness\", \"relevance\", \"standalone\"], [groundedness_eval, relevance_eval, standalone_eval]):\n",
    "        # If the model has stopped generating text due to stopping itself, rather than max tokens, etc.\n",
    "        if eval_output['choices'][0][\"finish_reason\"] == 'stop':\n",
    "            output_bundle.update(\n",
    "                {\n",
    "                    f\"{eval_type}_score\": eval_output['choices'][0]['message']['content'].split('Total rating: ')[1].split('\\n')[0].strip(),\n",
    "                    f\"{eval_type}_rationale\": eval_output['choices'][0]['message']['content'].split('Evaluation: ')[1].split('\\n')[0].strip(),\n",
    "                }\n",
    "            )\n",
    "        else:\n",
    "            output_bundle.update(\n",
    "                {\n",
    "                    f\"{eval_type}_score\": \"0\",\n",
    "                    f\"{eval_type}_rationale\": \"\"\n",
    "                }\n",
    "            )\n",
    "    \n",
    "    raw_evals.append(\n",
    "        {\n",
    "            \"groundedness\": groundedness_eval,\n",
    "            \"relevance\": relevance_eval,\n",
    "            \"standalone\": standalone_eval\n",
    "        }\n",
    "    )"
   ]
  },
  {
   "cell_type": "code",
   "execution_count": 271,
   "metadata": {},
   "outputs": [
    {
     "data": {
      "text/plain": [
       "[{'context': 'its projection. Global GDP growth remains subdued… Chart 2.2: Global GDP growth continues to be subdued Four-quarter UK-weighted world GDP growth ( a) Sources: Refinitiv Eikon from LSEG and Bank calculations. (a) See footnote (c) of Table 1.D for definition. Figures for 2023 Q4 to 2024 Q3 are Bank staff projections. These projections do not include the advance estimate of US GDP in 2023 Q4 or the preliminary flash estimate of euro-area GDP for the same quarter, which were released after the data cut-off. …but with significant regional differences. Page 31 Bank of England',\n",
       "  'question': 'What is the source of the data used in Chart 2.2 showing global GDP growth in the context provided?',\n",
       "  'answer': 'The source of the data used in Chart 2.2 is Refinitiv Eikon from LSEG.',\n",
       "  'groundedness_score': '5',\n",
       "  'groundedness_rationale': 'The context clearly states that \"Sources: Refinitiv Eikon from LSEG and Bank calculations\" are used for the data in Chart 2.2 showing global GDP growth. The question asks for the source of this data, which is directly mentioned in the provided context. Therefore, the question is clearly and unambiguously answerable with the given context.',\n",
       "  'relevance_score': '3',\n",
       "  'relevance_rationale': 'This question is asking for specific information that can be useful to macro-economists looking for details about a particular chart and its data source. It requires knowledge about the context provided, which may not always be available, but if it is, it can help in understanding the global economic trends. The question also encourages further exploration of the context and the data sources used by the Bank of England.',\n",
       "  'standalone_score': '1',\n",
       "  'standalone_rationale': 'This question is context-dependent because it refers to \"Chart 2.2\" and \"the context provided.\" It requires knowledge about the document or presentation where this chart appears, as well as the information surrounding it.'},\n",
       " {'context': 'estimates of the participation and employment rates in mid-2022 Indicative staff estimates of the impact of updating the LFS population weights (a) Sources: ONS and Bank calculations. (a) Indicative staff estimates are based on the ONS’s January 2023 population projections. Bars represent the change between 2019 Q4 and the three months to July 2022 in the current LFS estimates versus the indicative post-revision estimates calculated by Bank staff. Bank of England  Page 68',\n",
       "  'question': 'What is the change between 2019 Q4 and the three months to July 2022 in the employment rate according to the current LFS estimates?',\n",
       "  'answer': 'The specific change in the employment rate between 2019 Q4 and the three months to July 2022 in the current LFS estimates is not provided in the given context. It would be necessary to refer to the original source or a more detailed version of the report for this information.',\n",
       "  'groundedness_score': '5',\n",
       "  'groundedness_rationale': 'The context provides information about the change in employment rates between 2019 Q4 and the three months to July 2022 in the current LFS estimates. It clearly states that this information can be found in the \"Bars\" mentioned in the text.',\n",
       "  'relevance_score': '3',\n",
       "  'relevance_rationale': 'This question provides specific information about a particular economic indicator (employment rate) over a defined time period. It is relevant for macro-economists working at the Bank of England as it requires them to analyze recent changes in labor market conditions, which are crucial for making informed decisions and policies. However, the question lacks context on why this specific comparison is important or how it relates to current economic issues.',\n",
       "  'standalone_score': '5',\n",
       "  'standalone_rationale': 'The question provides all necessary information for understanding, as it only requires knowledge of the employment rate from two specific time periods (2019 Q4 and the three months to July 2022) based on the current LFS (Labour Force Survey) estimates. No additional context is needed.'},\n",
       " {'context': 'Table 1.A: Forecast summary (a) (b) 2024 Q1 2025 Q1 2026 Q1 2027 Q1 GDP (c) 0.0 (0.2) 0.5 (0.0) 0.8 (0.6) 1.5 Modal CPI inflation (d) 3.6 (4.4) 2.8 (2.5) 2.3 (1.9) 1.9 Mean CPI inflation (d) 3.7 (4.4) 3.0 (2.8) 2.3 (2.2) 1.9 Unemployment rate (e) 4.4 (4.4) 4.7 (4.8) 4.9 (5.0) 4.9 Excess supply/ Excess demand (f) -¼ (-¼) -½ (-1) -1 (-1½) -¾ Bank Rate (g) 5.1 (5.3) 3.9 (5.0) 3.3 (4.4) 3.2 (a) Figures in parentheses',\n",
       "  'question': 'What is the forecasted GDP growth rate for 2027 Q1 according to Table 1.A?',\n",
       "  'answer': '1.5',\n",
       "  'groundedness_score': '5',\n",
       "  'groundedness_rationale': 'The context provided is a table with various economic indicators, including GDP growth rates for different quarters from 2024 Q1 to 2027 Q1. The question asks for the forecasted GDP growth rate for 2027 Q1, which is directly given in the table under column (c).',\n",
       "  'relevance_score': '1',\n",
       "  'relevance_rationale': 'This question lacks context and necessary data to answer it, making it difficult for macro-economists to find relevant information or apply their expertise.',\n",
       "  'standalone_score': '5',\n",
       "  'standalone_rationale': 'The question provides all necessary information to understand it, as it only asks for a specific piece of data (GDP growth rate) from a given source (Table 1.A). No additional context or information is required to comprehend the question.'},\n",
       " {'context': 'A measure of medium-term inflation compensation in financial markets has risen over the course of the year and stands well above its average level over the previous decade, though still below its peak in the first half of 2022 (Chart 2.21). Interpreting these data is challenging because they can move for reasons unrelated to inflation expectations, for example due to illiquidity in markets and the use of these instruments in hedging pension liabilities. As this is a measure of RPI inflation compensation, any changes in the outlook for the wedge between RPI and CPI can also affect these data. The median respondent in the November Market Participants Survey expected CPI inflation of 2.1% three years ahead, down slightly from 2.2% in August. The distribution of survey responses remained skewed to the upside.Chart 2.20: Firms’ CPI inflation expectations have fallen back Firm inflation expectations (a) Source: DMP Survey. (a) Data are based on responses to the question: ‘What do you think the annual CPI inflation rate will be in the UK, one year from now and three years from now?’. The latest data points are for October 2023. Market-based measures of',\n",
       "  'question': \"What was the median respondent's expected CPI inflation rate three years ahead in the November Market Participants Survey?\",\n",
       "  'answer': '2.1%',\n",
       "  'groundedness_score': '5',\n",
       "  'groundedness_rationale': \"The context provides information about the median respondent's expected CPI inflation rate three years ahead in the November Market Participants Survey. It clearly states that the median respondent expected a CPI inflation rate of 2.1% three years ahead, which directly answers the question.\",\n",
       "  'relevance_score': '4',\n",
       "  'relevance_rationale': '(This question provides relevant data on inflation expectations, which is an important factor in macroeconomic analysis and decision-making.)',\n",
       "  'standalone_score': '5',\n",
       "  'standalone_rationale': 'This question is context-independent because it refers to a specific piece of information that can be found in the results of a survey. The only additional information needed is the actual data from the November Market Participants Survey, which is an explicit and well-defined source.'},\n",
       " {'context': 'In the MPC’s modal projection, private sector regular AWE growth falls to around 3% by the end of the forecast period, as short-term inflation expectations are assumed to fall back and a margin of spare capacity is expected to open up in the labour market in the medium term (Key judgement 2). This is a slightly higher medium-term profile for AWE growth compared with the August Report. Private sector regular AWE growth is also expected to ease more slowly than the range of forecasts from a suite of wage models would predict (Chart 1.3). These empirical models illustrate what could happen if future pay setting is based on inflation expectations that take account of the sharply downward near-term path of CPI inflation among other factors. But there is insufficient evidence at present to be confident that wages will be set in this way. This difference between empirical model outputs and the November projection is therefore one way of demonstrating the MPC’s continuing judgement that second-round effects in both domestic prices and wages are expected to take longer to unwind than they did toChart 1.3: Projections for private sector regular average weekly earnings four- quarter growth ( a) Sources: Bloomberg Finance L.P., Citigroup, ONS, YouGov',\n",
       "  'question': \"What is the private sector regular AWE growth rate projected by the end of the forecast period in the MPC's modal projection?\",\n",
       "  'answer': \"The private sector regular AWE growth rate is around 3% by the end of the forecast period in the MPC's modal projection.\",\n",
       "  'groundedness_score': '5',\n",
       "  'groundedness_rationale': 'The context clearly states that \"private sector regular AWE growth falls to around 3% by the end of the forecast period, in the MPC’s modal projection.\" This information directly answers the question about the private sector regular AWE growth rate at the end of the forecast period.',\n",
       "  'relevance_score': '4',\n",
       "  'relevance_rationale': \"The question requires knowledge of the Monetary Policy Committee's (MPC) modal projection, which is a key source of information for macro-economists working at the Bank of England. Understanding the projected growth rate of the private sector activity within the<|im_start|> assistant\",\n",
       "  'standalone_score': '5',\n",
       "  'standalone_rationale': 'The question refers to specific technical terms such as \"private sector regular AWE growth rate,\" \"MPC\\'s modal projection,\" and \"forecast period.\" However, it does not require any additional context or information beyond these terms to be understood.'},\n",
       " {'context': 'judgement on the degree of persistence in domestic prices in this forecast.Chart 1.4: Projections for private sector regular average weekly earnings four-quarter growth (a) Sources: Bloomberg Finance L.P., Citigroup, ONS, YouGov and Bank calculations. (a) The shaded range represents a range of projections from three statistical models of nominal private sector regular average weekly earnings growth, including a wage equation based on Yellen (2017) as shown in Chart 2.16, a wage equation based on Haldane (2018) and a simple error-correction model based on productivity, inflation expectations and slack in the labour market as embodied in the difference between the actual unemployment rate and the Committee’s estimate of the medium-term equilibrium rate. The projections are dynamic, multi-step ahead forecasts beginning at a point within the models’ estimation periods and are sensitive to data revisions, which can lead to changes in the range over the past as well as over the forecast period. Page 18 Bank of England',\n",
       "  'question': 'What are the three statistical models used for projecting nominal private sector regular average weekly earnings growth in the given source?',\n",
       "  'answer': 'The three statistical models used for projections are a wage equation based on Yellen (2017), a wage equation based on Haldane (2018), and an error-correction model based on productivity, inflation expectations, and slack in the labor market.',\n",
       "  'groundedness_score': '5',\n",
       "  'groundedness_rationale': 'The context provides information about the three statistical models used for projecting nominal private sector regular average weekly earnings growth. It mentions a wage equation based on Yellen (2017), a wage equation based on Haldane (2018), and an error-correction model based on productivity, inflation expectations, and slack in the labor market.',\n",
       "  'relevance_score': '3.5',\n",
       "  'relevance_rationale': 'While the question is specific, it assumes that there is a known source being referred to. If the source is provided, the question can be quite useful for economists looking to understand the methodology behind earnings growth projections. However, if the source is not specified, it may require additional research to find the relevant information.',\n",
       "  'standalone_score': '5',\n",
       "  'standalone_rationale': 'The question provides enough context and specific information to understand what it\\'s asking, even though it contains technical terms like \"statistical models,\" \"projecting,\" and \"nominal private sector regular average weekly earnings growth.\" It does not require additional information from a specific source to be understood.'},\n",
       " {'context': 'Business investment Interest rate rises impact businesses through many of the same mechanisms laid out above, including increased loan costs for those with debt and reduced assets available for collateral. There is evidence that the increase in interest rates so far is becoming more salient for businesses. Chart 3.11 shows the share of businesses reporting various issues as the primary concern for their business. High inflation and energy prices have consistently ranked as the main concerns. The share of businesses most concerned about interest rates is small but it has risen, up from close to zero in much of 2022 to 7% of businesses in October 2023.Chart 3.10: Housing investment has fallen since early 2022, with lower investment in new dwellings and lower transfer costs the key drivers Real housing investment (a) Sources: ONS and Bank calculations. (a) Dashed line shows the latest Bank forecast for total real housing investment. Private existing dwellings investment captures improvements, repair and maintenance of existing dwellings. The other category mostly comprises dwelling investment in existing and new dwellings for non-financial public corporations. The total is calculated as the sum of the individual components. The final data outturns refer to',\n",
       "  'question': 'What percentage of businesses reported interest rates as their primary concern in October 2023?',\n",
       "  'answer': '7% of businesses.',\n",
       "  'groundedness_score': '5',\n",
       "  'groundedness_rationale': 'The context clearly states that \"the share of businesses most concerned about interest rates is small but it has risen, up from close to zero in much of 2022 to 7% of businesses in October 2023.\" This information directly answers the factoid question.',\n",
       "  'relevance_score': '2',\n",
       "  'relevance_rationale': 'The question is asking for a specific piece of information that may not be readily available and is tied to a future date, making it less useful for general purposes.',\n",
       "  'standalone_score': '1',\n",
       "  'standalone_rationale': 'The question refers to a specific time (October 2023) and asks about the percentage of businesses reporting interest rates as their primary concern. This information is context-dependent, as it requires knowledge of a particular survey or report from October 2023.'},\n",
       " {'context': '2: Current economic conditions Global growth continues to be subdued, with stronger growth in the US of fset by weaker growth in the euro area. Consumer price inflation remains elevated in advanced economies, but it has been falling this year. Global export prices are declining, reflecting lower energy prices, the continued clearing of supply chain bottlenecks and weak producer price inflation. The paths for policy rates implied by financial markets suggest rates are at or near their peaks in the UK, US and euro area. UK economic growth is slowing. Based on the steer from a range of business surveys, the level of GDP is expected to increase only slightly over 2023 H2, weaker than the growth over 2023 H1, and the projection in the August Report. Some of this slowing is likely to reflect the impact of the tightening in monetary policy that has been needed to combat high inflation. The labour market remains tight but there are clear signs of loosening, with the slowdown in output growth feeding into a softening of labour demand and an easing of recruitment difficulties. Despite that loosening, all indicators suggest that nominal wage growth is still very high. But the recent rise in the official measure of',\n",
       "  'question': 'What is the expected GDP growth rate for the UK in 2023 H2 compared to 2023 H1?',\n",
       "  'answer': 'The level of GDP is expected to increase only slightly over 2023 H2, weaker than the growth over 2023 H1.',\n",
       "  'groundedness_score': '5',\n",
       "  'groundedness_rationale': 'The context provides information about the expected GDP growth rate for the UK in 2023 H2, stating that it will be weaker than the growth over 2023 H1. It also mentions that the level of GDP is expected to increase only slightly over 2023 H2 compared to 2023 H1.',\n",
       "  'relevance_score': '2',\n",
       "  'relevance_rationale': 'This question seeks specific numerical data that is not currently available, making it difficult for macro-economists to provide a definitive answer. However, the question does encourage an analysis of potential factors affecting GDP growth in the UK, such as economic policies, global trade, and technological advancements.',\n",
       "  'standalone_score': '5',\n",
       "  'standalone_rationale': 'The given question asks for a specific economic figure, which is factual information that can be found independently of any particular context. It only requires knowledge about the expected GDP growth rate for the UK in the second half (H2) of 2023 compared to the first half (H1) of the same year.'},\n",
       " {'context': 'Government bond yields have fallen across major advanced economies since the November Report. Yields on 10-year government bonds are 70 basis points lower in the US, 60 basis points lower in Germany and 70 basis points lower in the UK. The recent declines in long-term rates reflect to some extent lower expected rates, but also appear to have been driven by lower term premia – the compensation that investors require for the risks associated with holding government bonds of longer duration. Corporate credit spreads have also declined by over 20 basis points across advanced economies, and equity prices have picked up by around 11% in the US and 8% in the euro area. UK equity prices have increased by around 2%, partly reflecting the FTSE’s relatively higher weight of energy and commodity firms, which have performed less well since November. The sterling effective exchange rate has appreciated by about 2% since the November Report. Sterling has appreciated by 4% against the dollar and by 1% against the euro. Fixed-rate mortgages make up around 85% of the stock of UK mortgages, with the rates on those products influenced by expectations of Bank Rate. Quoted fixed-rate mortgage rates have been falling since July, around',\n",
       "  'question': 'What is the change in 10-year government bond yields in the US, Germany, and the UK since November?',\n",
       "  'answer': 'The yields on 10-year government bonds are 70 basis points lower in the US, 60 basis points lower in Germany, and 70 basis points lower in the UK.',\n",
       "  'groundedness_score': '5',\n",
       "  'groundedness_rationale': 'The context clearly states the changes in 10-year government bond yields for the US (70 basis points lower), Germany (60 basis points lower), and the UK (70 basis points lower) since November. The question asks for the change in these yields, which is directly provided in the context.',\n",
       "  'relevance_score': '4',\n",
       "  'relevance_rationale': 'This question seeks specific numerical data that can provide insight into the relative attractiveness of these three countries as investment destinations, as well as their respective monetary policies. Macro-economists working at the Bank of England would likely be interested in comparing bond yields across different economies to understand global trends and make informed decisions.',\n",
       "  'standalone_score': '5',\n",
       "  'standalone_rationale': 'This question provides all necessary context within itself. It specifies the subject (10-year government bond yields), the countries (US, Germany, and the UK), and the time period (since November). No additional information is required to understand the question.'},\n",
       " {'context': 'months to December, while euro-area compensation per employee increased by 5.2% in 2023 Q3 and UK whole-economy AWE by 6.5% for the three months to November. That said, there were signs of easing in all three economies. Global consumer price inflation rates are expected to moderate further in the near term. US headline PCE inflation is expected to fall to around 2% at the end of 2024 Q1, driven mainly by lower services inflation. Euro-area headline inflation is expected to fall to around 2% later this year , driven by falling energy prices as well as a continuing moderation in core goods and services inflation. However , significant risks to the global inflation outlook remain (Section 1). Over the past two years, central banks in the UK, US and euro area have tightened policy (Chart 2.6). Since November, the FOMC and the ECB Governing Council have kept their main policy rates unchanged, at 5.25%–5.5% and 4% respectively.Chart 2.5: Core goods inflation has fallen more quickly than services inflation across advanced economies Annual core goods and services consumer price inflation',\n",
       "  'question': 'What was the compensation per employee increase in the euro area for Q3 of 2023?',\n",
       "  'answer': 'The compensation per employee increased by 5.2% in the euro area for Q3 of 2023.',\n",
       "  'groundedness_score': '5',\n",
       "  'groundedness_rationale': 'The context clearly states that \"euro-area compensation per employee increased by 5.2% in 2023 Q3.\" It directly answers the question without any ambiguity.',\n",
       "  'relevance_score': '4',\n",
       "  'relevance_rationale': 'This question is useful because it requires understanding of economic indicators related to employment and wages in the euro area, which can help in making informed decisions about monetary policy, fiscal policy, and other economic strategies. Additionally, this information could be relevant for analyzing inflationary pressures and labor market trends.',\n",
       "  'standalone_score': '5',\n",
       "  'standalone_rationale': 'This question is context-independent as it refers to a specific piece of information that can be answered with a number, and does not require additional context or explanation to understand the question itself.'}]"
      ]
     },
     "execution_count": 271,
     "metadata": {},
     "output_type": "execute_result"
    }
   ],
   "source": [
    "outputs"
   ]
  },
  {
   "cell_type": "code",
   "execution_count": 272,
   "metadata": {},
   "outputs": [],
   "source": [
    "# Filter out any bad outputs using the scores - simple lambda\n",
    "filtered_outputs = list(filter(lambda x: float(x['groundedness_score']) >= 2 and float(x['relevance_score']) >= 2 and float(x['standalone_score']) >= 2, outputs))"
   ]
  },
  {
   "cell_type": "code",
   "execution_count": 275,
   "metadata": {},
   "outputs": [
    {
     "data": {
      "text/plain": [
       "(10, 7)"
      ]
     },
     "execution_count": 275,
     "metadata": {},
     "output_type": "execute_result"
    }
   ],
   "source": [
    "len(outputs), len(filtered_outputs)"
   ]
  },
  {
   "cell_type": "markdown",
   "metadata": {},
   "source": [
    "Old"
   ]
  },
  {
   "cell_type": "code",
   "execution_count": 62,
   "metadata": {},
   "outputs": [],
   "source": [
    "question_groundedness_critique_prompt = \"\"\"\n",
    "Your task is to provide a 'total rating' scoring how well one can answer the given question unambiguously with the given context.\n",
    "Give your answer on a scale of 1 to 5, where 1 means that the question is not answerable at all given the context, and 5 means that the question is clearly and unambiguously answerable with the context.\n",
    "\n",
    "Provide your answer as follows:\n",
    "\n",
    "Answer:::\n",
    "Evaluation: (your rationale for the rating, as a text)\n",
    "Total rating: (your rating, as a number between 1 and 5)\n",
    "\n",
    "You MUST provide values for 'Evaluation:' and 'Total rating:' in your answer.\n",
    "\n",
    "Now here are the question and context.\n",
    "\n",
    "Question: {question}\\n\n",
    "Context: {context}\\n\n",
    "Answer::: \"\"\""
   ]
  },
  {
   "cell_type": "code",
   "execution_count": 132,
   "metadata": {},
   "outputs": [],
   "source": [
    "question_relevance_critique_prompt = \"\"\"\n",
    "You will be given a question.\n",
    "Your task is to provide a 'total rating' representing how useful this question can be to macro-economists looking for information at the Bank of England.\n",
    "Give your answer on a scale of 1 to 5, where 1 means that the question is not useful at all, and 5 means that the question is extremely useful.\n",
    "\n",
    "Provide your answer as follows:\n",
    "\n",
    "Answer:::\n",
    "Evaluation: (your rationale for the rating, as a text)\n",
    "Total rating: (your rating, as a number between 1 and 5)\n",
    "\n",
    "You MUST provide values for 'Evaluation:' and 'Total rating:' in your answer.\n",
    "\n",
    "Now here is the question.\n",
    "\n",
    "Question: {question}\\n\n",
    "Answer::: \"\"\""
   ]
  },
  {
   "cell_type": "code",
   "execution_count": 139,
   "metadata": {},
   "outputs": [],
   "source": [
    "question_standalone_critique_prompt = \"\"\"\n",
    "You will be given a question.\n",
    "Your task is to provide a 'total rating' representing how context-independent this question is.\n",
    "Give your answer on a scale of 1 to 5, where 1 means that the question depends on additional information to be understood, and 5 means that the question makes sense by itself.\n",
    "For instance, if the question refers to a particular setting, like 'in the context' or 'in the document', the rating must be 1.\n",
    "The questions can contain obscure technical nouns or acronyms like MPC, Committee, CPI or YBUS and still be a 5: it must simply be clear to an operator with access to documentation what the question is about.\n",
    "\n",
    "For instance, \"What is the name of the checkpoint from which the ViT model is imported?\" should receive a 1, since there is an implicit mention of a context, thus the question is not independant from the context.\n",
    "\n",
    "Provide your answer as follows:\n",
    "\n",
    "Answer:::\n",
    "Evaluation: (your rationale for the rating, as a text)\n",
    "Total rating: (your rating, as a number between 1 and 5)\n",
    "\n",
    "You MUST provide values for 'Evaluation:' and 'Total rating:' in your answer.\n",
    "\n",
    "Now here is the question.\n",
    "\n",
    "Question: {question}\\n\n",
    "Answer::: \"\"\""
   ]
  },
  {
   "cell_type": "code",
   "execution_count": 180,
   "metadata": {},
   "outputs": [
    {
     "data": {
      "application/vnd.jupyter.widget-view+json": {
       "model_id": "4919516b9d104f0db5ef338695965d19",
       "version_major": 2,
       "version_minor": 0
      },
      "text/plain": [
       "  0%|          | 0/10 [00:00<?, ?it/s]"
      ]
     },
     "metadata": {},
     "output_type": "display_data"
    }
   ],
   "source": [
    "raw_evals = []\n",
    "for output_bundle in tqdm(outputs, desc=\"Evaluating QA pairs\"):\n",
    "    \n",
    "    groundedness_eval = llm(\n",
    "        prompt=question_groundedness_critique_prompt.format(\n",
    "            question=output_bundle['question'],\n",
    "            context=output_bundle['context']\n",
    "        ),\n",
    "        max_tokens=None,\n",
    "        echo=True\n",
    "    )\n",
    "    \n",
    "    relevance_eval = llm(\n",
    "        prompt=question_relevance_critique_prompt.format(\n",
    "            question=output_bundle['question']\n",
    "        ),\n",
    "        max_tokens=None,\n",
    "        echo=True\n",
    "    )\n",
    "    \n",
    "    standalone_eval = llm(\n",
    "        prompt=question_standalone_critique_prompt.format(\n",
    "            question=output_bundle['question']\n",
    "        ),\n",
    "        max_tokens=None,\n",
    "        echo=True\n",
    "    )\n",
    "\n",
    "    # Extract the scores and write them\n",
    "    for eval_type, eval_output in zip([\"groundedness\", \"relevance\", \"standalone\"], [groundedness_eval, relevance_eval, standalone_eval]):\n",
    "        # If the model has stopped generating text due to stopping itself, rather than max tokens, etc.\n",
    "        if eval_output['choices'][0][\"finish_reason\"] == 'stop':\n",
    "            output_bundle.update(\n",
    "                {\n",
    "                    f\"{eval_type}_score\": eval_output['choices'][0]['text'].split(\"Total rating:\")[-1].strip(),\n",
    "                    f\"{eval_type}_rationale\": eval_output['choices'][0]['text'].split(\"Evaluation:\")[-1].strip()\n",
    "                }\n",
    "            )\n",
    "        else:\n",
    "            output_bundle.update(\n",
    "                {\n",
    "                    f\"{eval_type}_score\": \"0\",\n",
    "                    f\"{eval_type}_rationale\": \"\"\n",
    "                }\n",
    "            )\n",
    "\n",
    "    # output_bundle.update(\n",
    "    #     {\n",
    "    #         \"groundedness_score\": groundedness_eval['choices'][0]['text'].split(\"Total rating:\")[-1].strip(),\n",
    "    #         \"relevance_score\": relevance_eval['choices'][0]['text'].split(\"Total rating:\")[-1].strip(),\n",
    "    #         \"standalone_score\": standalone_eval['choices'][0]['text'].split(\"Total rating:\")[-1].strip(),\n",
    "    #     }\n",
    "    # )    \n",
    "    \n",
    "    raw_evals.append(\n",
    "        {\n",
    "            \"groundedness\": groundedness_eval,\n",
    "            \"relevance\": relevance_eval,\n",
    "            \"standalone\": standalone_eval\n",
    "        }\n",
    "    )"
   ]
  },
  {
   "cell_type": "code",
   "execution_count": 385,
   "metadata": {},
   "outputs": [
    {
     "data": {
      "text/plain": [
       "{'groundedness': {'id': 'chatcmpl-38f54963-e6e6-43c0-b489-237e3b4e3e4f',\n",
       "  'object': 'chat.completion',\n",
       "  'created': 1721336490,\n",
       "  'model': '/Users/lukasalemu/Documents/00. Bank of England/00. Degree/Dissertation/structured-rag/capybarahermes-2.5-mistral-7b.Q5_K_M.gguf',\n",
       "  'choices': [{'index': 0,\n",
       "    'message': {'role': 'assistant',\n",
       "     'content': 'Evaluation: The context provides information about the expected GDP growth in Q4 for the UK, specifically stating that \"On balance, Bank staff expect GDP to grow by 0.1% in the fourth quarter.\" This statement directly answers the question.\\n\\nTotal rating: 5'},\n",
       "    'logprobs': None,\n",
       "    'finish_reason': 'stop'}],\n",
       "  'usage': {'prompt_tokens': 810,\n",
       "   'completion_tokens': 59,\n",
       "   'total_tokens': 869}},\n",
       " 'relevance': {'id': 'chatcmpl-89b43625-a79b-4f64-bcf7-3163aef6f22b',\n",
       "  'object': 'chat.completion',\n",
       "  'created': 1721336500,\n",
       "  'model': '/Users/lukasalemu/Documents/00. Bank of England/00. Degree/Dissertation/structured-rag/capybarahermes-2.5-mistral-7b.Q5_K_M.gguf',\n",
       "  'choices': [{'index': 0,\n",
       "    'message': {'role': 'assistant',\n",
       "     'content': 'Answer::: The expected GDP growth in Q4 for the UK, according to Bank staff, can vary depending on the specific time frame and the most recent information available from the Bank of England. To find the latest forecast, one should refer to the official Bank of England reports or visit their website for updates.\\n\\nEvaluation: This question requires a specific number and is highly dependent on the current time frame. The answer can change frequently as new data becomes available. While it may be useful for someone looking for the most recent information, its usefulness will decrease quickly as the information becomes outdated.\\n\\nTotal rating: 3'},\n",
       "    'logprobs': None,\n",
       "    'finish_reason': 'stop'}],\n",
       "  'usage': {'prompt_tokens': 191,\n",
       "   'completion_tokens': 130,\n",
       "   'total_tokens': 321}},\n",
       " 'standalone': {'id': 'chatcmpl-b514f90b-8a76-4d20-ba34-6a1b6eb449ee',\n",
       "  'object': 'chat.completion',\n",
       "  'created': 1721336509,\n",
       "  'model': '/Users/lukasalemu/Documents/00. Bank of England/00. Degree/Dissertation/structured-rag/capybarahermes-2.5-mistral-7b.Q5_K_M.gguf',\n",
       "  'choices': [{'index': 0,\n",
       "    'message': {'role': 'assistant',\n",
       "     'content': \"Answer::: The question asks for the expected Gross Domestic Product (GDP) growth rate in Q4 for the United Kingdom as per the estimation by Bank staff.\\n\\nEvaluation: This question is context-dependent because it requires specific information from a certain source, which is the Bank's estimation. It also assumes that there is an available and known data set from the bank regarding the UK GDP growth in Q4.\\n\\nTotal rating: 2\"},\n",
       "    'logprobs': None,\n",
       "    'finish_reason': 'stop'}],\n",
       "  'usage': {'prompt_tokens': 295,\n",
       "   'completion_tokens': 97,\n",
       "   'total_tokens': 392}}}"
      ]
     },
     "execution_count": 385,
     "metadata": {},
     "output_type": "execute_result"
    }
   ],
   "source": [
    "# pprint(outputs[5])\n",
    "# raw_evals[0]['groundedness']['choices'][0]['text']\n",
    "raw_evals[0]"
   ]
  },
  {
   "cell_type": "code",
   "execution_count": 176,
   "metadata": {},
   "outputs": [],
   "source": [
    "# Filter out any bad outputs using the scores - simple lambda\n",
    "filtered_outputs = list(filter(lambda x: float(x['groundedness_score']) >= 2 and float(x['relevance_score']) >= 2 and float(x['standalone_score']) >= 2, outputs))"
   ]
  },
  {
   "cell_type": "code",
   "execution_count": 390,
   "metadata": {},
   "outputs": [
    {
     "data": {
      "text/plain": [
       "{'context': 'A measure of medium-term inflation compensation in financial markets has risen over the course of the year and stands well above its average level over the previous decade, though still below its peak in the first half of 2022 (Chart 2.21). Interpreting these data is challenging because they can move for reasons unrelated to inflation expectations, for example due to illiquidity in markets and the use of these instruments in hedging pension liabilities. As this is a measure of RPI inflation compensation, any changes in the outlook for the wedge between RPI and CPI can also affect these data. The median respondent in the November Market Participants Survey expected CPI inflation of 2.1% three years ahead, down slightly from 2.2% in August. The distribution of survey responses remained skewed to the upside.Chart 2.20: Firms’ CPI inflation expectations have fallen back Firm inflation expectations (a) Source: DMP Survey. (a) Data are based on responses to the question: ‘What do you think the annual CPI inflation rate will be in the UK, one year from now and three years from now?’. The latest data points are for October 2023. Market-based measures of',\n",
       " 'question': \"What was the median respondent's expected CPI inflation rate three years ahead in the November Market Participants Survey?\",\n",
       " 'answer': '2.1%',\n",
       " 'groundedness_score': '5',\n",
       " 'groundedness_rationale': \"The context provides information about the median respondent's expected CPI inflation rate three years ahead in the November Market Participants Survey. It clearly states that the median respondent expected a CPI inflation rate of 2.1% three years ahead, which directly answers the question.\",\n",
       " 'relevance_score': '4',\n",
       " 'relevance_rationale': '(This question provides relevant data on inflation expectations, which is an important factor in macroeconomic analysis and decision-making.)',\n",
       " 'standalone_score': '5',\n",
       " 'standalone_rationale': 'This question is context-independent because it refers to a specific piece of information that can be found in the results of a survey. The only additional information needed is the actual data from the November Market Participants Survey, which is an explicit and well-defined source.'}"
      ]
     },
     "execution_count": 390,
     "metadata": {},
     "output_type": "execute_result"
    }
   ],
   "source": [
    "filtered_outputs[1]"
   ]
  },
  {
   "cell_type": "code",
   "execution_count": 179,
   "metadata": {},
   "outputs": [
    {
     "data": {
      "text/plain": [
       "[{'context': 'outcomes for GDP  growth. It has been conditioned on Bank Rate\\nfollowing a path implied by market yields, but allows the Committee’ s judgement on the risks around the other\\nconditioning assumptions set out in Section 1.1, including wholesale energy prices, to af fect the calibration of the fan\\nchart skew. To the left of the shaded area, the distribution reflects uncertainty around revisions to the data over the past.\\nTo the right of the shaded area, the distribution reflects uncertainty over the evolution of GDP growth in the future. If\\neconomic circumstances identical to today’s were to prevail on 100 occasions, the MPC’s best collective judgement is\\nthat the mature estimate of GDP growth would lie within the darkest central band on only 30 of those occasions. The fan\\nchart is constructed so that outturns are also expected to lie within each pair of the lighter aqua areas on 30 occasions.\\nIn any particular quarter of the forecast period, GDP growth is therefore expected to lie somewhere within the fan on 90\\nout of 100 occasions. And on the remaining 10 out of 100 occasions GDP growth can fall anywhere outside the aqua\\narea of the fan chart. Over the forecast period, this has been depicted by the grey background.',\n",
       "  'question': \"Factoid question: What is the probability that the MPC's best collective judgement estimate of GDP growth would lie within the darkest central band in 100 identical economic circumstances?\",\n",
       "  'answer': 'Answer: only 30 occasions',\n",
       "  'groundedness_score': '0',\n",
       "  'relevance_score': '2',\n",
       "  'standalone_score': '5'},\n",
       " {'context': 'or ‘reserves’, placed with the Bank o f England \\n–this is Bank  Rate. Second, we can buy government and corporate bonds, financed by the\\nissuance of central bank reserves – this is asset purchases or quantitative easing.  \\nThe Monetary Policy Report  \\nThe MPC is committed to clear, transparent comm unication. The Monetary Policy Report \\n(MPR) is a key part of that. It allows the MPC to share its thinking and explain the reasons for \\nits decisions.  \\nThe Report is produced quarterly by Bank staff under the guidance of the members of the \\nMPC.  \\nThis Report has been prepared and published by the Bank of England in accordance with \\nsection 18 of the Bank of England Act 1998.  \\nBank of England  \\nPage 1',\n",
       "  'question': 'Factoid question: What are the two ways that the Bank of England can influence interest rates?',\n",
       "  'answer': 'Answer: The two ways that the Bank of England can influence interest rates are by setting the Bank Rate and through asset purchases or quantitative easing.',\n",
       "  'groundedness_score': '5',\n",
       "  'relevance_score': '2',\n",
       "  'standalone_score': '5'},\n",
       " {'context': 'Participation\\nrate ( y)63 63½ 63¼ 63¾ (63½) 63¼ (63) 62¾ (62¾) 62¾ (62½)\\nCPI inflation\\n(z)1½ 2¼ 10¾ 4¼ (4¾) 2¾ (3¼) 2½ (2) 2 (1½)\\nUK import\\nprices (aa)-¼ 1½ 12½ -1 (-1¾) -1¾ (-3) ¾ (¼) 0 (0)\\nEnergy prices\\n– direct\\ncontribution to\\nCPI inflation\\n(ab)¼ ¼ 3¾ -1¼ (-1¼) -¼ (½) ¼ (-¼) 0 (-¼)\\nAverage\\nweekly\\nearnings\\n(AWE) (ac)4¼ 2 6½ 5¾ (6¾) 4 (4¼) 2¾ (2¾) 1¾ (2)\\nUnit labour\\ncosts (ad)3 1¼ 7 4½ (5) 2¾ (3¾) 1¾ (2¼) ¾ (1¼)\\nPrivate sector\\nregular pay-\\nbased',\n",
       "  'question': 'Factoid question: What is the average weekly earnings (AWE) in the given context?',\n",
       "  'answer': 'Answer: The average weekly earnings (AWE) in the given context are £4.25.',\n",
       "  'groundedness_score': '0',\n",
       "  'relevance_score': '4\\n\\nExplanation: The question is quite specific and requires a certain level of understanding and parsing ability. It is relevant to developers working on factoid extraction models, which can be applied in various NLP applications. However, it might not have broad applicability across the entire spectrum of NLP tasks related to building with Hugging Face. Therefore, the rating is 4 - useful but not extremely generalizable.',\n",
       "  'standalone_score': '2'},\n",
       " {'context': 'Despite the headwinds to income growth, households are relatively optimistic about their\\nfuture finances. In the Bank’s NMG survey, the measure of households’ expectations for\\ntheir own financial situation over the next year has improved substantially since 2022 and\\nis now in line with results prior to the pandemic. Survey responses also suggest that\\nhouseholds’ perceived risk of job loss has been falling and is now at its lowest level since\\n2015, although expectations for the level of economy-wide unemployment have increased\\nslightly over the past six months. The NMG’s measure of household income expectations\\nhas also risen, although this largely reflects the expectation that nominal incomes will\\ngrow given high inflation.\\nDuring the pandemic, household consumption fell by more than income as households\\nwere less able to spend on services, which meant that in aggregate households built up\\nadditional savings. Much of these additional savings took the form of bank deposits. As\\nshown on the left of Chart 3.4, the total stock of household deposits rose materially ,\\npeaking around 10% higher than its previous trend in 2022 Q1. A similar pattern has been\\nobserved across advanced economies (IMF (2023) ).…although households in the NMG survey remain',\n",
       "  'question': 'Factoid question: By how much did the total stock of household deposits rise peak compared to its previous trend in 2022 Q1?',\n",
       "  'answer': 'Answer: 10% higher than its previous trend',\n",
       "  'groundedness_score': '0',\n",
       "  'relevance_score': '5',\n",
       "  'standalone_score': '3'},\n",
       " {'context': 'Since the November Report, CPI inflation had fallen back broadly as expected, while there\\nhad been some downside news in private sector regular AWE growth. However, key indicators\\nof UK inflation persistence remained elevated. As anticipated, tighter monetary policy was\\nleading to a looser labour market and was weighing on activity in the real economy more\\ngenerally. Given the significant increase in Bank Rate since the start of this tightening cycle,\\nthe monetary policy stance was restrictive.\\nThe MPC would continue to monitor closely indications of persistent inflationary pressures and\\nresilience in the economy as a whole, including a range of measures of the underlying\\ntightness of labour market conditions, wage growth and services price inflation. Monetary\\npolicy would need to be sufficiently restrictive for sufficiently long to return inflation to the 2%\\ntarget sustainably in the medium term, in line with the Committee’ s remit. As illustrated by the\\nNovember Report projections, the Committee continued to judge that monetary policy is likely\\nto need to be restrictive for an extended period of time. Further tightening in monetary policy\\nwould be required if there were evidence of more persistent inflationary pressures.\\nPage 28\\nBank of England',\n",
       "  'question': 'Factoid question: What was the remit of the Committee according to the context?',\n",
       "  'answer': 'Answer: The remit of the Committee was to return inflation to the 2% target sustainably in the medium term.',\n",
       "  'groundedness_score': '0',\n",
       "  'relevance_score': '4',\n",
       "  'standalone_score': '1'},\n",
       " {'context': 'only slightly in 2023 Q3. Underlying\\ngrowth in the second half of 2023 was also likely to be weaker than expected.\\nThere had been some further signs of a loosening in the labour market, although it\\nremained tight by historical standards. The vacancies to unemployment ratio had\\ncontinued to decline, reflecting both a steady fall in the number of vacancies and\\nrising unemployment. The Labour Force Survey unemployment rate had risen to\\n4.3% in the three months to July, higher than expected in the August Report.\\nIndicators of employment had generally softened against the backdrop of subdued\\nactivity.\\nAnnual private sector regular average weekly earnings (AWE) growth had\\nincreased to 8.1% in the three months to July, 0.8 percentage points above the\\nAugust Report projection. The recent path of the AWE was, however, difficult to\\nreconcile with other indicators of pay growth. Most of these had tended to be more\\nstable at rates of growth that were elevated but not quite as high as the AWE series.\\nTwelve-month CPI inflation fell from 7.9% in June to 6.7% in August, 0.4 percentage\\npoints below expectations at the time of the',\n",
       "  'question': 'Factoid question: What was the rate of annual private sector regular average weekly earnings growth in the three months to July?',\n",
       "  'answer': 'Answer: 8.1%',\n",
       "  'groundedness_score': '0',\n",
       "  'relevance_score': '1.5\\n\\nThe above answer is provided based on a specific question. If you have another question, please ask it using the same template as above. The AI model will then respond with an appropriate answer based on the provided question.',\n",
       "  'standalone_score': '5'},\n",
       " {'context': 'expected interest rate differentials in the Committee’s conditioning assumption.Wholesale energy prices that follow their respective futures curves over the forecast period. Since\\nNovember, oil and gas prices have declined materially (Chart 2.3), despite the recent disruptions\\nto shipping in the Red Sea. Significant uncertainty remains around the outlook for wholesale\\nenergy prices, including related to recent geopolitical developments (Key judgement 3).UK household energy prices that move in line with Bank staff estimates of the Ofgem price cap\\nimplied by the path of wholesale energy prices (Section 2.3).\\nFiscal policy that evolves in line with announced UK government policies to date. As discussed in\\nBox A, additional fiscal measures were announced in the Autumn Statement, including a two\\npence cut in the main rate of employee National Insurance contributions, a permanent 100%\\nPage 8\\nBank of England',\n",
       "  'question': 'Factoid question: What was the material decline observed in oil and gas prices since November?',\n",
       "  'answer': 'Answer: Oil and gas prices have declined materially.',\n",
       "  'groundedness_score': '5',\n",
       "  'relevance_score': '5',\n",
       "  'standalone_score': '4'},\n",
       " {'context': 'household income and housing supply growth. However, given information asymmetries,\\nmoving costs, and other frictions within the rental market, landlords may temporarily have\\nmarket power to raise rents. Landlords may also choose to sell their property , and there is\\nsome evidence that recent market exit by landlords has caused a degree of shrinkage of\\nthe private rented sector. Evidence from the Bank’s Agents suggests some smaller BTL\\ninvestors have left the market due to regulatory changes (the scale of selling in the BTL\\nsector is discussed in Bank of England (2023)).\\nTogether, these effects appear to be contributing to rapid increases in rents. The CPI\\nmeasure of rents rose by 6.4% over the year to 2023 Q3 – the fastest pace since 1994.\\nThis measure is also a lagging indicator of the potential impact of interest rate rises on\\nrents as it measures rent increases across all rental properties rather than the increases\\nfaced by those moving home. Estimates from Rightmove suggest that average new rents\\nrose by 10% over the year to 2023 Q3. Most of this rapid increase in rents will reflect high\\nnominal income growth during the period of high inflation. But higher rents from',\n",
       "  'question': 'Factoid question: What was the fastest pace at which the CPI measure of rents rose since 1994?',\n",
       "  'answer': 'Answer: The CPI measure of rents rose by 6.4% over the year to 2023 Q3.',\n",
       "  'groundedness_score': '0',\n",
       "  'relevance_score': '1',\n",
       "  'standalone_score': '5'},\n",
       " {'context': 'Based on a weighted average of household and corporate loan and\\ndeposit spreads over appropriate risk-free rates. Indexed to equal zero in 2007 Q3.\\n(t) Annual average. Per cent of potential GDP. A negative figure implies output is below potential and a positive figure that it is above.\\n(u) GDP per hour worked. Hours worked based on YBUS.\\n(v) Four-quarter growth in the ILO definition of employment in Q4. Up to June 2023, this projection is based on LFS employment data\\n(MGRZ). Beyond this point, the Committee is drawing on the collective steer from other indicators of employment to inform its\\nprojection.\\n(w) Level in Q4. Average weekly hours worked, in main job and second job. Based on YBUS/MGRZ up to June 2023.\\n(x) ILO definition of unemployment rate in Q4. Up to June 2023, this projection is based on LFS unemployment data (MGSX). Beyond\\nthis point, the Committee is drawing on the collective steer from other indicators of unemployment to inform its projection.\\n(y) ILO definition of labour force participation in Q4 as a percentage of the 16+ population. Up to June 2023, this projection is based',\n",
       "  'question': 'Factoid question: What does the abbreviation \"ILO\" stand for in the context?',\n",
       "  'answer': 'Answer: International Labour Organization',\n",
       "  'groundedness_score': '0',\n",
       "  'relevance_score': '0',\n",
       "  'standalone_score': '0'},\n",
       " {'context': 'Glossary and other information\\nAWE – average weekly earnings.\\nCPI – consumer prices index.\\nCPI inflation – inflation measured by the consumer prices index.\\nCPIH – consumer prices index including owner-occupiers’ housing costs.\\nDMP – Decision Maker Panel.\\nERI – exchange rate index.\\nGDP – gross domestic product.\\nHICP – harmonised index of consumer prices.\\nLFS – Labour Force Survey.\\nM4 – UK non-bank, non-building society private sector’s holdings of sterling notes and\\ncoin, and their sterling deposits (including certificates of deposit, holdings of commercial\\npaper and other short-term instruments and claims arising from repos) held at UK banks\\nand building societies.\\nMWSS – Monthly Wages and Salaries Survey.\\nOIS – overnight index swap.\\nPCE – personal consumption expenditure.\\nPMI – purchasing managers’ index.\\nPPI – producer price index.\\nRPI – retail prices index.Glossary of selected data and instruments\\nBank of England  \\nPage 102',\n",
       "  'question': 'Factoid question: What is the definition of M4 in the context?',\n",
       "  'answer': \"Answer: UK non-bank, non-building society private sector's holdings of sterling notes and coin, and their sterling deposits (including certificates of deposit, holdings of commercial paper and other short-term instruments and claims arising from repos) held at UK banks and building societies.\",\n",
       "  'groundedness_score': '5',\n",
       "  'relevance_score': '5',\n",
       "  'standalone_score': '1'}]"
      ]
     },
     "execution_count": 179,
     "metadata": {},
     "output_type": "execute_result"
    }
   ],
   "source": [
    "outputs\n"
   ]
  },
  {
   "cell_type": "markdown",
   "metadata": {},
   "source": [
    "### 3. Generate answers to the Qs with the RAG system"
   ]
  },
  {
   "cell_type": "code",
   "execution_count": 389,
   "metadata": {},
   "outputs": [
    {
     "name": "stdout",
     "output_type": "stream",
     "text": [
      "estimates of the participation and employment rates in mid-2022 Indicative staff estimates of the impact of updating the LFS population weights (a) Sources: ONS and Bank calculations. (a) Indicative staff estimates are based on the ONS’s January 2023 population projections. Bars represent the change between 2019 Q4 and the three months to July 2022 in the current LFS estimates versus the indicative post-revision estimates calculated by Bank staff. Bank of England  Page 68\n"
     ]
    }
   ],
   "source": [
    "for qa_bundle in filtered_outputs:\n",
    "    print(qa_bundle['context'])\n",
    "    break"
   ]
  },
  {
   "cell_type": "code",
   "execution_count": 393,
   "metadata": {},
   "outputs": [
    {
     "ename": "TypeError",
     "evalue": "StructRAGInquirer.__init__() got an unexpected keyword argument 'llm_type'",
     "output_type": "error",
     "traceback": [
      "\u001b[0;31m---------------------------------------------------------------------------\u001b[0m",
      "\u001b[0;31mTypeError\u001b[0m                                 Traceback (most recent call last)",
      "Cell \u001b[0;32mIn[393], line 1\u001b[0m\n\u001b[0;32m----> 1\u001b[0m rag_agent_llm \u001b[38;5;241m=\u001b[39m \u001b[43mStructRAGInquirer\u001b[49m\u001b[43m(\u001b[49m\n\u001b[1;32m      2\u001b[0m \u001b[43m    \u001b[49m\u001b[38;5;28;43mstr\u001b[39;49m\u001b[43m(\u001b[49m\u001b[43m(\u001b[49m\u001b[43mPROJECT_ROOT\u001b[49m\u001b[43m \u001b[49m\u001b[38;5;241;43m/\u001b[39;49m\u001b[43m \u001b[49m\u001b[38;5;124;43m\"\u001b[39;49m\u001b[38;5;124;43mresults\u001b[39;49m\u001b[38;5;124;43m\"\u001b[39;49m\u001b[43m \u001b[49m\u001b[38;5;241;43m/\u001b[39;49m\u001b[43m \u001b[49m\u001b[38;5;124;43m'\u001b[39;49m\u001b[38;5;124;43mv0\u001b[39;49m\u001b[38;5;124;43m'\u001b[39;49m\u001b[43m \u001b[49m\u001b[38;5;241;43m/\u001b[39;49m\u001b[43m \u001b[49m\u001b[38;5;124;43m'\u001b[39;49m\u001b[38;5;124;43m2024-07-18\u001b[39;49m\u001b[38;5;124;43m'\u001b[39;49m\u001b[43m)\u001b[49m\u001b[38;5;241;43m.\u001b[39;49m\u001b[43mresolve\u001b[49m\u001b[43m(\u001b[49m\u001b[43m)\u001b[49m\u001b[43m)\u001b[49m\u001b[43m,\u001b[49m\n\u001b[1;32m      3\u001b[0m \u001b[43m    \u001b[49m\u001b[43mllm_type\u001b[49m\u001b[38;5;241;43m=\u001b[39;49m\u001b[38;5;124;43m\"\u001b[39;49m\u001b[38;5;124;43mllamacpp\u001b[39;49m\u001b[38;5;124;43m\"\u001b[39;49m\u001b[43m,\u001b[49m\n\u001b[1;32m      4\u001b[0m \u001b[43m    \u001b[49m\u001b[43mmodel_path\u001b[49m\u001b[43m \u001b[49m\u001b[38;5;241;43m=\u001b[39;49m\u001b[43m \u001b[49m\u001b[38;5;28;43mstr\u001b[39;49m\u001b[43m(\u001b[49m\u001b[43mPROJECT_ROOT\u001b[49m\u001b[43m \u001b[49m\u001b[38;5;241;43m/\u001b[39;49m\u001b[43m \u001b[49m\u001b[38;5;124;43m\"\u001b[39;49m\u001b[38;5;124;43mcapybarahermes-2.5-mistral-7b.Q5_K_M.gguf\u001b[39;49m\u001b[38;5;124;43m\"\u001b[39;49m\u001b[43m)\u001b[49m\u001b[43m,\u001b[49m\n\u001b[1;32m      5\u001b[0m \u001b[43m    \u001b[49m\u001b[43muse_anchor_document\u001b[49m\u001b[38;5;241;43m=\u001b[39;49m\u001b[38;5;28;43;01mFalse\u001b[39;49;00m\u001b[43m,\u001b[49m\n\u001b[1;32m      6\u001b[0m \u001b[43m    \u001b[49m\u001b[43mllm_max_tokens\u001b[49m\u001b[38;5;241;43m=\u001b[39;49m\u001b[38;5;241;43m1400\u001b[39;49m\u001b[43m,\u001b[49m\n\u001b[1;32m      7\u001b[0m \u001b[43m)\u001b[49m\n",
      "\u001b[0;31mTypeError\u001b[0m: StructRAGInquirer.__init__() got an unexpected keyword argument 'llm_type'"
     ]
    }
   ],
   "source": [
    "rag_agent_llm = StructRAGInquirer(\n",
    "    str((PROJECT_ROOT / \"results\" / 'v0' / '2024-07-18').resolve()),\n",
    "    llm_type=\"llamacpp\",\n",
    "    model_path = str(PROJECT_ROOT / \"capybarahermes-2.5-mistral-7b.Q5_K_M.gguf\"),\n",
    "    use_anchor_document=False,\n",
    "    llm_max_tokens=1400,\n",
    ")"
   ]
  },
  {
   "cell_type": "code",
   "execution_count": null,
   "metadata": {},
   "outputs": [],
   "source": [
    "response = rag_agent_llm.run_inquirer(\n",
    "    query = filtered_outputs[0]['question'],\n",
    "    source_document_name=None,\n",
    "    k_context = 3,\n",
    ")"
   ]
  },
  {
   "cell_type": "markdown",
   "metadata": {},
   "source": [
    "### 4. Use the filtered QA pairs and RAG answers to assess the RAG system, with a 'judge' agent.\n",
    "\n",
    "There are different types of [evaluation metrics in RAG](https://docs.ragas.io/en/latest/concepts/metrics/index.html)\n",
    "\n",
    "We will focus on:\n",
    "1. Answer relevancy\n",
    "2. Faithfullness\n",
    "\n",
    "We will use https://huggingface.co/prometheus-eval/prometheus-13b-v1.0 as our evaluation model, or something similar. Found [a GGUF vsevolodl/prometheus-7b-v2.0-GGUF](https://huggingface.co/vsevolodl/prometheus-7b-v2.0-GGUF)"
   ]
  },
  {
   "cell_type": "code",
   "execution_count": 383,
   "metadata": {},
   "outputs": [],
   "source": [
    "judge_llm = Llama.from_pretrained(\n",
    "    repo_id=\"vsevolodl/prometheus-7b-v2.0-GGUF\",\n",
    "    filename=\"prometheus-7b-v2.0.Q6_K.gguf\",\n",
    "    local_dir=PROJECT_ROOT,\n",
    "    verbose=False,\n",
    "    n_gpu_layers=-1, # Uncomment to use GPU acceleration\n",
    "    n_ctx=1400,\n",
    ")"
   ]
  },
  {
   "cell_type": "code",
   "execution_count": 382,
   "metadata": {},
   "outputs": [],
   "source": [
    "# Instruction wit\n",
    "judge_prompt = \"\"\"\n",
    "###Task Description:\n",
    "An instruction (might include an Input inside it), a response to evaluate, a reference answer that gets a score of 5, and a score rubric representing a evaluation criteria are given.\n",
    "1. Write a detailed feedback that assess the quality of the response strictly based on the given score rubric, not evaluating in general.\n",
    "2. After writing a feedback, write a score that is an integer between 1 and 5. You should refer to the score rubric.\n",
    "3. The output format should look as follows: \\\"Feedback: (write a feedback for criteria) [RESULT] (an integer number between 1 and 5)\\\"\n",
    "4. Please do not generate any other opening, closing, and explanations.\n",
    "\n",
    "###The instruction to evaluate:\n",
    "{query} Use the following context to answer the question: \n",
    "Context: {context}\n",
    "\n",
    "###Response to evaluate:\n",
    "{answer_RAG_system}\n",
    "\n",
    "###Reference Answer (Score 5):\n",
    "{reference_answer}\n",
    "\n",
    "###Score Rubrics:\n",
    "[Is the response correct, accurate, and factual based on the reference answer?]\n",
    "Score 1: The response is completely incorrect, inaccurate, and/or not factual.\n",
    "Score 2: The response is mostly incorrect, inaccurate, and/or not factual.\n",
    "Score 3: The response is somewhat correct, accurate, and/or factual.\n",
    "Score 4: The response is mostly correct, accurate, and factual.\n",
    "Score 5: The response is completely correct, accurate, and factual.\n",
    "\n",
    "###Feedback: \n",
    "\"\"\"\n",
    "\n",
    "conv = mistral_conversation.get_conv_template(\"llama-2\")\n",
    "conv.set_system_message(\"You are a fair judge assistant tasked with providing clear, objective feedback based on specific criteria, ensuring each assessment reflects the absolute standards set for performance.\")\n",
    "conv.append_message(conv.roles[0], judge_prompt)\n",
    "conv.append_message(conv.roles[1], None)\n",
    "\n",
    "judge_prompt = conv.get_prompt()"
   ]
  },
  {
   "cell_type": "code",
   "execution_count": 323,
   "metadata": {},
   "outputs": [
    {
     "data": {
      "text/plain": [
       "{'id': 'cmpl-7d7203d7-62b2-4251-8a71-ec75de68b023',\n",
       " 'object': 'text_completion',\n",
       " 'created': 1721320091,\n",
       " 'model': '/Users/lukasalemu/Documents/00. Bank of England/00. Degree/Dissertation/structured-rag/prometheus-7b-v2.0.Q6_K.gguf',\n",
       " 'choices': [{'text': '[INST] <<SYS>>\\nYou are a fair judge assistant tasked with providing clear, objective feedback based on specific criteria, ensuring each assessment reflects the absolute standards set for performance.\\n<</SYS>>\\n\\n\\n###Task Description:\\nAn instruction (might include an Input inside it), a response to evaluate, a reference answer that gets a score of 5, and a score rubric representing a evaluation criteria are given.\\n1. Write a detailed feedback that assess the quality of the response strictly based on the given score rubric, not evaluating in general.\\n2. After writing a feedback, write a score that is an integer between 1 and 5. You should refer to the score rubric.\\n3. The output format should look as follows: \"Feedback: (write a feedback for criteria) [RESULT] (an integer number between 1 and 5)\"\\n4. Please do not generate any other opening, closing, and explanations.\\n\\n###The instruction to evaluate:\\nWhat is the change between 2019 Q4 and the three months to July 2022 in the employment rate according to the current LFS estimates? Use the following context to answer the question: \\nContext: estimates of the participation and employment rates in mid-2022 Indicative staff estimates of the impact of updating the LFS population weights (a) Sources: ONS and Bank calculations. (a) Indicative staff estimates are based on the ONS’s January 2023 population projections. Bars represent the change between 2019 Q4 and the three months to July 2022 in the current LFS estimates versus the indicative post-revision estimates calculated by Bank staff. Bank of England  Page 68\\n\\n###Response to evaluate:\\nThe quick brown fox jumps over the lazy dog\\n\\n###Reference Answer (Score 5):\\nThe specific change in the employment rate between 2019 Q4 and the three months to July 2022 in the current LFS estimates is not provided in the given context. It would be necessary to refer to the original source or a more detailed version of the report for this information.\\n\\n###Score Rubrics:\\n[Is the response correct, accurate, and factual based on the reference answer?]\\nScore 1: The response is completely incorrect, inaccurate, and/or not factual.\\nScore 2: The response is mostly incorrect, inaccurate, and/or not factual.\\nScore 3: The response is somewhat correct, accurate, and/or factual.\\nScore 4: The response is mostly correct, accurate, and factual.\\nScore 5: The response is completely correct, accurate, and factual.\\n\\n###Feedback: \\n [/INST]The provided response does not address the question asked at all. It offers no information regarding the change in the employment rate between 2019 Q4 and the three months to July 2022, nor does it make any reference to the LFS estimates or the context given in the instruction. Instead, it introduces an entirely unrelated topic with a metaphorical sentence about a fox and a dog. This response fails to meet any of the criteria outlined in the score rubric, as it is neither correct, accurate, nor factual in relation to the given context or question. Therefore, based on the lack of relevance to the task, it is evident that this response does not fulfill the expectations set by the instruction and the score rubric. So the overall score is 1. [RESULT] 1',\n",
       "   'index': 0,\n",
       "   'logprobs': None,\n",
       "   'finish_reason': 'stop'}],\n",
       " 'usage': {'prompt_tokens': 606,\n",
       "  'completion_tokens': 169,\n",
       "  'total_tokens': 775}}"
      ]
     },
     "execution_count": 323,
     "metadata": {},
     "output_type": "execute_result"
    }
   ],
   "source": [
    "evaluation = judge_llm(\n",
    "    prompt=judge_prompt.format(\n",
    "        query=filtered_outputs[0]['question'],\n",
    "        context=filtered_outputs[0]['context'],\n",
    "        reference_answer=filtered_outputs[0]['answer'],\n",
    "        answer_RAG_system=\"The quick brown fox jumps over the lazy dog\",\n",
    "    ),\n",
    "    max_tokens=None,\n",
    "    echo=True\n",
    ")"
   ]
  }
 ],
 "metadata": {
  "kernelspec": {
   "display_name": "dissertation_rag",
   "language": "python",
   "name": "python3"
  },
  "language_info": {
   "codemirror_mode": {
    "name": "ipython",
    "version": 3
   },
   "file_extension": ".py",
   "mimetype": "text/x-python",
   "name": "python",
   "nbconvert_exporter": "python",
   "pygments_lexer": "ipython3",
   "version": "3.10.13"
  }
 },
 "nbformat": 4,
 "nbformat_minor": 2
}
