{
 "cells": [
  {
   "cell_type": "markdown",
   "metadata": {},
   "source": [
    "# Analysis for the report"
   ]
  },
  {
   "cell_type": "code",
   "execution_count": 2,
   "metadata": {},
   "outputs": [],
   "source": [
    "import os\n",
    "import sys\n",
    "import pickle\n",
    "import networkx as nx\n",
    "import matplotlib as mpl\n",
    "import numpy as np\n",
    "import random\n",
    "import matplotlib.pyplot as plt\n",
    "import re\n",
    "from pprint import pprint\n",
    "import pandas as pd\n",
    "import seaborn as sns\n",
    "# Add the project root directory to the system path\n",
    "project_root = os.path.abspath(os.path.join(os.getcwd(), \"..\"))\n",
    "sys.path.append(project_root)\n",
    "\n",
    "# from ydata_profiling import ProfileReport"
   ]
  },
  {
   "cell_type": "code",
   "execution_count": 5,
   "metadata": {},
   "outputs": [
    {
     "name": "stdout",
     "output_type": "stream",
     "text": [
      "Experiment: v0\n",
      "     || Run: 2024-05-28\n",
      "     || Run: 2024-06-15\n",
      "     || Run: 2024-07-12\n",
      "     || Run: 2024-07-19\n",
      "     || Run: 2024-08-06\n",
      "Experiment: v1\n",
      "     || Run: 2024-05-28\n",
      "     || Run: 2024-06-16\n",
      "     || Run: 2024-07-13\n",
      "     || Run: 2024-07-26\n",
      "     || Run: 2024-08-06\n",
      "Experiment: v3\n",
      "     || Run: 2024-05-28\n",
      "     || Run: 2024-06-16\n",
      "     || Run: 2024-07-13\n",
      "     || Run: 2024-07-20\n",
      "     || Run: 2024-08-07\n",
      "Experiment: v4\n",
      "     || Run: 2024-05-28\n",
      "     || Run: 2024-06-16\n",
      "     || Run: 2024-07-13\n",
      "     || Run: 2024-07-20\n",
      "     || Run: 2024-08-06\n",
      "Experiment: v5\n",
      "     || Run: 2024-05-19\n",
      "     || Run: 2024-07-14\n",
      "     || Run: 2024-07-20\n",
      "     || Run: 2024-08-07\n"
     ]
    }
   ],
   "source": [
    "# Select the runs you want to load\n",
    "for experiment in sorted(os.listdir('../results')):\n",
    "    print('Experiment:', experiment)\n",
    "    for run in sorted(os.listdir('../results/' + experiment)):\n",
    "        print(\"     || Run:\", run)\n",
    "        \n",
    "run_path = 'v0/2024-08-06'"
   ]
  },
  {
   "cell_type": "code",
   "execution_count": 6,
   "metadata": {},
   "outputs": [
    {
     "name": "stderr",
     "output_type": "stream",
     "text": [
      "c:\\Miniconda3\\envs\\diss_rag\\lib\\site-packages\\tqdm\\auto.py:21: TqdmWarning: IProgress not found. Please update jupyter and ipywidgets. See https://ipywidgets.readthedocs.io/en/stable/user_install.html\n",
      "  from .autonotebook import tqdm as notebook_tqdm\n"
     ]
    }
   ],
   "source": [
    "# Read the file using pickle\n",
    "with open(f'../results/{run_path}/embedded_index.pickle', 'rb') as f:\n",
    "    embedded_index = pickle.load(f)"
   ]
  },
  {
   "cell_type": "code",
   "execution_count": 7,
   "metadata": {},
   "outputs": [
    {
     "name": "stdout",
     "output_type": "stream",
     "text": [
      "total number of documents is: 87\n"
     ]
    }
   ],
   "source": [
    "print(f'total number of documents is: {len(set([doc.metadata[\"file_name\"] for doc in embedded_index]))}')"
   ]
  },
  {
   "cell_type": "code",
   "execution_count": 9,
   "metadata": {},
   "outputs": [
    {
     "data": {
      "text/plain": [
       "<seaborn.axisgrid.FacetGrid at 0x1af7d389930>"
      ]
     },
     "execution_count": 9,
     "metadata": {},
     "output_type": "execute_result"
    },
    {
     "data": {
      "image/png": "[encoded data removed]",
      "text/plain": [
       "<Figure size 500x500 with 1 Axes>"
      ]
     },
     "metadata": {},
     "output_type": "display_data"
    }
   ],
   "source": [
    "doc_lens = []\n",
    "for doc_node in embedded_index:\n",
    "    doc_lens.append(len(doc_node.text))\n",
    "\n",
    "g = sns.displot(doc_lens, kde=False)\n",
    "\n",
    "g.set(xlabel='Document string length', ylabel='Count')\n",
    "\n",
    "# # Add a watermark with TEMPORARY on it at an angle\n",
    "# g.figure.text(0.9, 0.9, 'TEMPORARY', fontsize=50, color='gray',\n",
    "#            ha='right', va='top', alpha=0.5, rotation=45);"
   ]
  },
  {
   "cell_type": "markdown",
   "metadata": {},
   "source": [
    "## Get summary statistics of the documents in the corpus - maybe use yprofiling.\n"
   ]
  },
  {
   "cell_type": "code",
   "execution_count": 15,
   "metadata": {},
   "outputs": [
    {
     "data": {
      "text/html": [
       "<div>\n",
       "<style scoped>\n",
       "    .dataframe tbody tr th:only-of-type {\n",
       "        vertical-align: middle;\n",
       "    }\n",
       "\n",
       "    .dataframe tbody tr th {\n",
       "        vertical-align: top;\n",
       "    }\n",
       "\n",
       "    .dataframe thead th {\n",
       "        text-align: right;\n",
       "    }\n",
       "</style>\n",
       "<table border=\"1\" class=\"dataframe\">\n",
       "  <thead>\n",
       "    <tr style=\"text-align: right;\">\n",
       "      <th></th>\n",
       "      <th>Name</th>\n",
       "      <th>Description</th>\n",
       "      <th>Type</th>\n",
       "      <th>Date</th>\n",
       "      <th>Authors</th>\n",
       "      <th>Topics</th>\n",
       "      <th>Brands</th>\n",
       "      <th>Academic Research Cited?</th>\n",
       "      <th>Divisions</th>\n",
       "      <th>MPC Round</th>\n",
       "      <th>Forecast Round</th>\n",
       "    </tr>\n",
       "  </thead>\n",
       "  <tbody>\n",
       "    <tr>\n",
       "      <th>0</th>\n",
       "      <td>Monetary policy report November 2023</td>\n",
       "      <td>Our quarterly Monetary Policy Report sets out ...</td>\n",
       "      <td>MPR</td>\n",
       "      <td>2023-02-11</td>\n",
       "      <td>Bank of England</td>\n",
       "      <td>Inflation, GDP, Labour Market, Forecasts</td>\n",
       "      <td>MPR</td>\n",
       "      <td>No</td>\n",
       "      <td>Monetary Analysis</td>\n",
       "      <td>Nov 2023</td>\n",
       "      <td>Nov 2023</td>\n",
       "    </tr>\n",
       "    <tr>\n",
       "      <th>1</th>\n",
       "      <td>Monetary policy report February 2024</td>\n",
       "      <td>The 2024 MPR from the Bank of England for the ...</td>\n",
       "      <td>MPR</td>\n",
       "      <td>2024-02-04</td>\n",
       "      <td>Bank of England</td>\n",
       "      <td>Inflation, GDP, Labour Market, Forecasts</td>\n",
       "      <td>MPR</td>\n",
       "      <td>No</td>\n",
       "      <td>Monetary Analysis</td>\n",
       "      <td>Feb 2024</td>\n",
       "      <td>Feb 2024</td>\n",
       "    </tr>\n",
       "  </tbody>\n",
       "</table>\n",
       "</div>"
      ],
      "text/plain": [
       "                                   Name  \\\n",
       "0  Monetary policy report November 2023   \n",
       "1  Monetary policy report February 2024   \n",
       "\n",
       "                                         Description Type       Date  \\\n",
       "0  Our quarterly Monetary Policy Report sets out ...  MPR 2023-02-11   \n",
       "1  The 2024 MPR from the Bank of England for the ...  MPR 2024-02-04   \n",
       "\n",
       "           Authors                                    Topics Brands  \\\n",
       "0  Bank of England  Inflation, GDP, Labour Market, Forecasts    MPR   \n",
       "1  Bank of England  Inflation, GDP, Labour Market, Forecasts    MPR   \n",
       "\n",
       "  Academic Research Cited?          Divisions MPC Round Forecast Round  \n",
       "0                       No  Monetary Analysis  Nov 2023       Nov 2023  \n",
       "1                       No  Monetary Analysis  Feb 2024       Feb 2024  "
      ]
     },
     "execution_count": 15,
     "metadata": {},
     "output_type": "execute_result"
    }
   ],
   "source": [
    "# Get summary statistics of the documents in the corpus - maybe use yprofiling.\n",
    "metadata_doc = pd.read_excel(project_root + '/config/data_organisation.xlsx')\n",
    "\n",
    "metadata_doc = metadata_doc.rename({\n",
    "    'T': \"Name\"\n",
    "}, axis=1).drop(\n",
    "    columns=[\n",
    "        'Tags',\n",
    "        'Related Notes'\n",
    "    ]\n",
    ")\n",
    "\n",
    "metadata_doc"
   ]
  },
  {
   "cell_type": "code",
   "execution_count": 19,
   "metadata": {},
   "outputs": [],
   "source": [
    "report = ProfileReport(metadata_doc, title='Structured Metadata Profiling Report', sample=None)"
   ]
  },
  {
   "cell_type": "code",
   "execution_count": 20,
   "metadata": {},
   "outputs": [
    {
     "data": {
      "application/vnd.jupyter.widget-view+json": {
       "model_id": "38b7d1afb37a4cd0bf8294e1eb281ca9",
       "version_major": 2,
       "version_minor": 0
      },
      "text/plain": [
       "Summarize dataset:   0%|          | 0/5 [00:00<?, ?it/s]"
      ]
     },
     "metadata": {},
     "output_type": "display_data"
    },
    {
     "data": {
      "application/vnd.jupyter.widget-view+json": {
       "model_id": "173dff22761147fba6f01f0c7ccf8b99",
       "version_major": 2,
       "version_minor": 0
      },
      "text/plain": [
       "Generate report structure:   0%|          | 0/1 [00:00<?, ?it/s]"
      ]
     },
     "metadata": {},
     "output_type": "display_data"
    },
    {
     "data": {
      "application/vnd.jupyter.widget-view+json": {
       "model_id": "c07aae1914a246e88420756cd12203ac",
       "version_major": 2,
       "version_minor": 0
      },
      "text/plain": [
       "Render HTML:   0%|          | 0/1 [00:00<?, ?it/s]"
      ]
     },
     "metadata": {},
     "output_type": "display_data"
    },
    {
     "data": {
      "application/vnd.jupyter.widget-view+json": {
       "model_id": "61f04d57f2704e67a62426297fa7a1a0",
       "version_major": 2,
       "version_minor": 0
      },
      "text/plain": [
       "Export report to file:   0%|          | 0/1 [00:00<?, ?it/s]"
      ]
     },
     "metadata": {},
     "output_type": "display_data"
    }
   ],
   "source": [
    "report.to_file(project_root + '/data/03_output/metadata_profiling_report.html')"
   ]
  },
  {
   "cell_type": "code",
   "execution_count": null,
   "metadata": {},
   "outputs": [],
   "source": [
    "# load the document index\n",
    "with open(project_root + '/data/01_raw/document_index.pkl', 'rb') as f:\n",
    "    document_index = pickle.load(f)"
   ]
  }
 ],
 "metadata": {
  "kernelspec": {
   "display_name": "dissertation_rag",
   "language": "python",
   "name": "python3"
  },
  "language_info": {
   "codemirror_mode": {
    "name": "ipython",
    "version": 3
   },
   "file_extension": ".py",
   "mimetype": "text/x-python",
   "name": "python",
   "nbconvert_exporter": "python",
   "pygments_lexer": "ipython3",
   "version": "3.10.14"
  }
 },
 "nbformat": 4,
 "nbformat_minor": 2
}
