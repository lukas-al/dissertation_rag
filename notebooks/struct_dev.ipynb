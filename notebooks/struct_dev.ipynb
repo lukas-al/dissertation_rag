{
 "cells": [
  {
   "cell_type": "markdown",
   "metadata": {},
   "source": [
    "# Structured Search\n",
    "To enrich our embedding based search, we need to extract metadata from both the query and the nodes (datasets)\n",
    "\n",
    "- For the documents (nodes), if we use the Notes Portal, we get a lot of metadata for each node.\n",
    "- For the query itself, how can we match these features? Either we can use the features for a single prediction model of the most relevant information, or we can use the different dimensions to do a multidimensional nearest-neighour search (or some such).\n"
   ]
  },
  {
   "cell_type": "markdown",
   "metadata": {},
   "source": [
    "## Search dimensions from the query\n",
    "We can naturally rely on the embeddings from the LLM to do some nice magic on the query.\n",
    "\n",
    "We can also attempt to classify the text against different topics?"
   ]
  },
  {
   "cell_type": "code",
   "execution_count": null,
   "metadata": {},
   "outputs": [],
   "source": []
  },
  {
   "cell_type": "code",
   "execution_count": null,
   "metadata": {},
   "outputs": [],
   "source": []
  }
 ],
 "metadata": {
  "language_info": {
   "name": "python"
  }
 },
 "nbformat": 4,
 "nbformat_minor": 2
}
