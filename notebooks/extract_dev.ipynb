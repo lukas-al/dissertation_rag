{
 "cells": [
  {
   "cell_type": "markdown",
   "metadata": {},
   "source": [
    "# Loading the data from the notes"
   ]
  },
  {
   "cell_type": "code",
   "execution_count": 2,
   "metadata": {},
   "outputs": [],
   "source": [
    "from llama_index.core import Settings, VectorStoreIndex, SimpleDirectoryReader\n",
    "from llama_index.vector_stores.duckdb import DuckDBVectorStore\n",
    "from llama_index.core import StorageContext\n",
    "from llama_index.embeddings.huggingface import HuggingFaceEmbedding\n",
    "from fuzzywuzzy import process\n",
    "from fuzzywuzzy import fuzz\n",
    "\n",
    "import pathlib\n",
    "import pandas as pd\n",
    "import glob\n",
    "import PyPDF2\n",
    "from collections import Counter\n",
    "import fitz\n",
    "import os\n",
    "import re"
   ]
  },
  {
   "cell_type": "markdown",
   "metadata": {},
   "source": [
    "### Metadata extraction & data loading"
   ]
  },
  {
   "cell_type": "code",
   "execution_count": 3,
   "metadata": {},
   "outputs": [],
   "source": [
    "# Load the excel sheet where I've manually logged all the metadata\n",
    "metadata_df = pd.read_excel(\n",
    "    r\"../config/data_organisation.xlsx\",\n",
    "    index_col=0\n",
    ")"
   ]
  },
  {
   "cell_type": "markdown",
   "metadata": {},
   "source": [
    "problem - not all our filenames match the keys. I made some errors in copying. Maybe I can do a simple fuzzy match? Performance is not a concern here..."
   ]
  },
  {
   "cell_type": "code",
   "execution_count": 4,
   "metadata": {},
   "outputs": [
    {
     "name": "stdout",
     "output_type": "stream",
     "text": [
      "Monetary policy report November 2023\n"
     ]
    }
   ],
   "source": [
    "def match_name(name, df, min_score=0):\n",
    "    max_score = -1\n",
    "    max_name = \"\"\n",
    "\n",
    "    processed_name = re.sub(r'[^a-zA-Z0-9]', '', name)\n",
    "    \n",
    "    for n in df.index.tolist():\n",
    "        processed_n = re.sub(r'[^a-zA-Z0-9]', '', n)\n",
    "        \n",
    "        # Calculate different string similarity metrics\n",
    "        ratio_score = fuzz.ratio(processed_name, processed_n)\n",
    "        partial_ratio_score = fuzz.partial_ratio(processed_name, processed_n)\n",
    "        token_sort_ratio_score = fuzz.token_sort_ratio(processed_name, processed_n)\n",
    "        token_set_ratio_score = fuzz.token_set_ratio(processed_name, processed_n)\n",
    "        \n",
    "        # Calculate weighted average of the scores\n",
    "        weighted_score = (0.4 * ratio_score + 0.3 * partial_ratio_score + 0.2 * token_sort_ratio_score + 0.1 * token_set_ratio_score) / 100\n",
    "        \n",
    "        if weighted_score > min_score:\n",
    "            if weighted_score > max_score:\n",
    "                max_name = n\n",
    "                max_score = weighted_score\n",
    "            elif weighted_score == max_score and len(n) < len(max_name):\n",
    "                max_name = n\n",
    "                max_score = weighted_score\n",
    "    \n",
    "    return (max_name, max_score)\n",
    "\n",
    "file_name = 'monetary policy report 2023'\n",
    "nm, _ = match_name(file_name, metadata_df)\n",
    "metadata_df.loc[nm].to_dict()\n",
    "print(nm)"
   ]
  },
  {
   "cell_type": "markdown",
   "metadata": {},
   "source": [
    "This works - lets wrap this in a function to work for the llamaindex boilerplate"
   ]
  },
  {
   "cell_type": "code",
   "execution_count": 5,
   "metadata": {},
   "outputs": [],
   "source": [
    "def match_notes_metadata(file_path: str, metadata_df: pd.DataFrame):\n",
    "    \"\"\"Match the metadata using the file name and the manual extracts\n",
    "    I pasted into the 'data organisation' spreadsheet. \n",
    "\n",
    "    Args:\n",
    "        file_path (str): absolute file path to the pdf to match\n",
    "        metadata_df (pd.DataFrame): dataframe of the data organisation spreadsheet\n",
    "\n",
    "    Returns:\n",
    "        dict: dictionary containing the matched metadata\n",
    "    \"\"\"\n",
    "    file_name = file_path.split('\\\\')[-1]\n",
    "    idx_nm, _ = match_name(file_name, metadata_df)\n",
    "    matched_metadata = metadata_df.loc[idx_nm].to_dict()\n",
    "    \n",
    "    return matched_metadata\n",
    "\n",
    "def get_random_metadata(file_path: str):\n",
    "    \"\"\"Dummy function to demonstrate how we could extract extra\n",
    "    metadata from the text. We're going to need to make this \n",
    "    much more sophisticated.\n",
    "\n",
    "    Args:\n",
    "        file_path (str): absolute file path to the pdf\n",
    "\n",
    "    Returns:\n",
    "        dict: collection of random metadata\n",
    "    \"\"\"\n",
    "    random_metadata = {}\n",
    "    # Read the document and extract metadata as a dictionary\n",
    "    with open(file_path, 'rb') as file:\n",
    "        pdf_reader = PyPDF2.PdfReader(file)\n",
    "\n",
    "        # Get the number of characters in the pdf\n",
    "        text = ''\n",
    "        for page in pdf_reader.pages:\n",
    "            text += page.extract_text()\n",
    "        random_metadata['num_characters'] = len(text)\n",
    "\n",
    "        # Get the number of words in the pdf\n",
    "        words = text.split()\n",
    "        random_metadata['num_words'] = len(words)\n",
    "\n",
    "        # Get the most common 5 words in the pdf\n",
    "        word_counts = Counter(words)\n",
    "        random_metadata['most_common_words'] = dict(word_counts.most_common(5))\n",
    "\n",
    "    return random_metadata"
   ]
  },
  {
   "cell_type": "markdown",
   "metadata": {},
   "source": [
    "Let's create a function to extract links"
   ]
  },
  {
   "cell_type": "code",
   "execution_count": 6,
   "metadata": {},
   "outputs": [
    {
     "name": "stdout",
     "output_type": "stream",
     "text": [
      "['https://www.gov.uk/government/publications/monetary-policy-remit-autumn-statement-2023', 'http://www.bankofengland.co.uk/monetary-policy-report/2024/february-2024', 'http://www.bankofengland.co.uk/monetary-policy-report/2024/february-2024', 'https://www.bankofengland.co.uk/monetary-policy-report/2024/february-2024#chapter-10', 'https://www.federalreserve.gov/newsevents/speech/files/yellen20170926a.pdf', 'https://www.bankofengland.co.uk/speech/2018/andy-haldane-advisory-conciliation-and-arbitration-service-future-of-work-conference', 'https://www.bankofengland.co.uk/speech/2018/andy-haldane-advisory-conciliation-and-arbitration-service-future-of-work-conference', 'https://www.bankofengland.co.uk/monetary-policy-report/2024/february-2024#chapter-10', 'https://www.bankofengland.co.uk/monetary-policy-report/2024/february-2024#chapter-10', 'https://www.bankofengland.co.uk/monetary-policy-report/2023/may-2023', 'https://www.bankofengland.co.uk/credit-conditions-survey/2023/2023-q4', 'https://www.bankofengland.co.uk/financial-policy-summary-and-record/2023/december-2023', 'https://www.bankofengland.co.uk/monetary-policy-report/2023/november-2023', 'https://www.bankofengland.co.uk/statistics/details/further-details-about-m4-data', 'https://www.bankofengland.co.uk/statistics/details/further-details-about-m4-data', 'https://www.bankofengland.co.uk/statistics/details/further-details-about-m4-excluding-intermediate-other-financial-corporations-data', 'https://www.bankofengland.co.uk/statistics/details/further-details-about-m4-lending-excluding-lending-to-intermediate-other-financial-corporations-data', 'https://www.bankofengland.co.uk/statistics/details/further-details-about-m4-lending-excluding-lending-to-intermediate-other-financial-corporations-data', 'https://www.bankofengland.co.uk/monetary-policy-report/2023/november-2023', 'https://www.bankofengland.co.uk/monetary-policy-report/2023/november-2023', 'https://www.bankofengland.co.uk/speech/2023/december/ben-broadbent-speech-at-london-business-school', 'https://www.bankofengland.co.uk/speech/2023/december/ben-broadbent-speech-at-london-business-school', 'https://www.bankofengland.co.uk/monetary-policy-report/2023/november-2023', 'https://www.bankofengland.co.uk/monetary-policy-report/2023/november-2023', 'https://blog.ons.gov.uk/2022/03/29/making-everybody-count-how-were-transforming-the-labour-force-survey/', 'https://blog.ons.gov.uk/2022/03/29/making-everybody-count-how-were-transforming-the-labour-force-survey/', 'https://www.bankofengland.co.uk/speech/2023/december/ben-broadbent-speech-at-london-business-school', 'https://www.bankofengland.co.uk/monetary-policy-report/2023/november-2023', 'https://bankunderground.co.uk/2023/08/17/forecasting-near-term-trends-in-the-labour-market/', 'https://bankunderground.co.uk/2023/08/17/forecasting-near-term-trends-in-the-labour-market/', 'https://www.bankofengland.co.uk/speech/2023/november/jonathan-haskel-speech-at-warwick-university#:~:text=%E2%88%92%20speech%20by%20Jonathan%20Haskel,-Given%20at%20the&text=Jonathan%20explores%20the%20drivers%20of,in%20explaining%20recent%20UK%20inflation.', 'https://www.bankofengland.co.uk/monetary-policy-report/2019/november-2019', 'https://www.bankofengland.co.uk/monetary-policy-report/2023/november-2023', 'https://direct.mit.edu/rest/article-abstract/98/4/770/58346/Core-Inflation-and-Trend-Inflation', 'https://www.federalreserve.gov/newsevents/speech/files/yellen20170926a.pdf', 'https://www.gov.uk/government/publications/minimum-wage-rates-for-2024/low-pay-commission-summary-of-evidence-2023', 'https://bankunderground.co.uk/2022/10/27/how-broad-based-is-the-increase-in-uk-inflation/', 'https://www.bankofengland.co.uk/monetary-policy-report/2023/november-2023', 'https://www.bankofengland.co.uk/monetary-policy-report/2023/november-2023', 'https://www.bankofengland.co.uk/inflation-report/2018/august-2018', 'https://www.nber.org/papers/w31949?utm_campaign=ntwh&utm_medium=email&utm_source=ntwg12', 'https://www.bankofengland.co.uk/speech/2023/november/megan-greene-speech-at-leeds-university', 'http://www.sciencedirect.com/science/article/pii/S0378426616000443', 'https://www.bankofengland.co.uk/speech/2016/monetary-policy-expectations-and-long-term-interest-rates', 'https://www.bankofengland.co.uk/speech/2016/monetary-policy-expectations-and-long-term-interest-rates', 'https://www.bankofengland.co.uk/working-paper/2015/long-run-priors-for-term-structure-models', 'https://www.bankofengland.co.uk/monetary-policy-report/2023/february-2023', 'https://www.bankofengland.co.uk/speech/2023/march/andrew-bailey-speech-at-london-school-of-economics', 'https://www.bankofengland.co.uk/monetary-policy-report/2019/november-2019', 'https://www.economicsobservatory.com/how-has-brexit-affected-business-investment-in-the-uk', 'https://www.bankofengland.co.uk/monetary-policy-report/2023/february-2023', 'https://www.bankofengland.co.uk/monetary-policy-report/2023/november-2023', 'https://www.bankofengland.co.uk/monetary-policy-report/2023/february-2023', 'https://www.bankofengland.co.uk/monetary-policy-report/2023/february-2023', 'https://www.imperial.ac.uk/people/j.haskel/document/9802/Haskel%20Martin%20sickness%20inactivity%20v2/?Haskel%20Martin%20sickness%20inactivity%20v2.pdf', 'https://www.bankofengland.co.uk/monetary-policy-report/2023/november-2023', 'https://www.bankofengland.co.uk/monetary-policy-report/2023/november-2023', 'https://www.bankofengland.co.uk/monetary-policy-report/2023/february-2023', 'https://www.bankofengland.co.uk/monetary-policy-report/2023/february-2023', 'https://www.bankofengland.co.uk/working-paper/2011/the-impact-of-permanent-energy-price-shocks-on-the-uk-economy', 'https://www.imf.org/en/Publications/selected-issues-papers/Issues/2023/07/13/The-Energy-Price-Shock-Impact-Policy-Responses-and-Reform-Options-United-Kingdom-536294', 'https://www.ecb.europa.eu/pub/pdf/scpwps/ecb.wp2523~2c34a5782a.en.pdf?03513339cd0d36cfd2a81adedcf71e39', 'https://onlinelibrary.wiley.com/doi/full/10.1111/jmcb.12496', 'https://onlinelibrary.wiley.com/doi/full/10.1111/jmcb.12496', 'https://www.bankofengland.co.uk/monetary-policy-report/2023/february-2023', 'https://www.bankofengland.co.uk/monetary-policy-report/2023/november-2023', 'https://www.science.org/doi/10.1126/science.adh2586', 'https://www.nber.org/books-and-chapters/economics-artificial-intelligence-agenda/impact-artificial-intelligence-innovation-exploratory-analysis', 'https://academic.oup.com/oxrep/article/37/3/521/6374675', 'https://www.mckinsey.com/capabilities/mckinsey-digital/our-insights/the-economic-potential-of-generative-AI-the-next-productivity-frontier', 'https://www.gspublishing.com/content/research/en/reports/2023/03/27/d64e052b-0f6e-45d7-967b-d7be35fabd16.html', 'https://www.bankofengland.co.uk/quarterly-bulletin/2022/2022-q4/climate-change-possible-macroeconomic-implications', 'https://www.ngfs.net/en/ngfs-climate-scenarios-phase-iv-november-2023', 'https://www.bankofengland.co.uk/inflation-report/2018/february-2018']\n"
     ]
    }
   ],
   "source": [
    "def extract_links_from_pdf(file_path):\n",
    "    # Open the PDF file\n",
    "    doc = fitz.open(file_path)\n",
    "\n",
    "    links = []\n",
    "\n",
    "    # Iterate over PDF pages\n",
    "    for page_num in range(len(doc)):\n",
    "        page = doc.load_page(page_num)\n",
    "\n",
    "        # Extract links\n",
    "        links_on_page = page.get_links()\n",
    "\n",
    "        # Iterate over links and append to list\n",
    "        for link in links_on_page:\n",
    "            if 'uri' in link.keys():\n",
    "                links.append(link['uri'])\n",
    "\n",
    "    return links\n",
    "\n",
    "# Use the function\n",
    "pdf_file = \"../data/01_raw/monetary policy report february 2024.pdf\"\n",
    "print(extract_links_from_pdf(pdf_file))"
   ]
  },
  {
   "cell_type": "code",
   "execution_count": 7,
   "metadata": {},
   "outputs": [],
   "source": [
    "def get_metadata(file_path: str):\n",
    "    \"\"\"Gather all the metadata into one spot\n",
    "\n",
    "    Args:\n",
    "        file_path (str): absolute file path to pdf \n",
    "\n",
    "    Returns:\n",
    "        dict: collection of our metadata\n",
    "    \"\"\"\n",
    "    \n",
    "    matched_metadata = match_notes_metadata(file_path, metadata_df)\n",
    "    random_metadata = get_random_metadata(file_path)\n",
    "\n",
    "    \n",
    "    total_metadata = {\n",
    "        **matched_metadata, \n",
    "        **random_metadata, \n",
    "        'links': extract_links_from_pdf(file_path)\n",
    "    }\n",
    "    \n",
    "    # Convert all metadata to strings\n",
    "    total_metadata = {k: str(v) for k, v in total_metadata.items()}\n",
    "\n",
    "    return total_metadata"
   ]
  },
  {
   "cell_type": "code",
   "execution_count": 8,
   "metadata": {},
   "outputs": [],
   "source": [
    "# Load the documents\n",
    "path_to_docs = pathlib.PurePosixPath(r\"../data/01_raw\")\n",
    "documents = SimpleDirectoryReader(path_to_docs, file_metadata=get_metadata).load_data()"
   ]
  },
  {
   "cell_type": "code",
   "execution_count": 9,
   "metadata": {},
   "outputs": [
    {
     "data": {
      "text/plain": [
       "Document(id_='d30dcf1d-25f4-40fe-b177-a4ade33203bd', embedding=None, metadata={'page_label': 'Cover', 'file_name': '/Users/lukasalemu/Documents/00. Bank of England/00. Degree/Dissertation/structured-rag/notebooks/../data/01_raw/MPR November 2023.pdf', 'Description': 'Our quarterly Monetary Policy Report sets out the economic analysis and inflation projections that the Monetary Policy Committee uses to make its interest rate decisions.', 'Type': 'MPR', 'Date': '2023-02-11 00:00:00', 'Authors': 'Bank of England', 'Topics': 'Inflation, GDP, Labour Market, Forecasts', 'Brands': 'MPR', 'Academic Research Cited?': 'No', 'Divisions': 'Monetary Analysis', 'MPC Round': 'Nov 2023', 'Forecast Round': 'Nov 2023', 'Tags': 'nan', 'Related Notes': 'nan', 'num_characters': '191572', 'num_words': '30758', 'most_common_words': \"{'the': 1753, 'of': 1017, 'to': 935, 'in': 931, 'and': 651}\", 'links': \"['https://www.bankofengland.co.uk/monetary-policy-report/2023/november-2023#chapter-10', 'https://www.bankofengland.co.uk/monetary-policy-report/2023/november-2023#chapter-10', 'https://www.federalreserve.gov/newsevents/speech/files/yellen20170926a.pdf', 'https://www.bankofengland.co.uk/speech/2018/andy-haldane-advisory-conciliation-and-arbitration-service-future-of-work-conference', 'https://www.bankofengland.co.uk/monetary-policy-report/2023/november-2023#chapter-10', 'https://www.bankofengland.co.uk/monetary-policy-report/2023/november-2023#chapter-10', 'https://www.federalreserve.gov/econres/notes/feds-notes/accumulated-savings-during-the-pandemic-an-international-comparison-with-historical-perspective-20230623.html', 'https://www.bankofengland.co.uk/speech/2023/august/ben-broadbent-panellist-at-2023-economic-policy-symposium-jackson-hole-wyoming', 'https://www.ecb.europa.eu/pub/economic-bulletin/focus/2023/html/ecb.ebbox202304_01~d76c76c27c.en.html', 'https://www.bankofengland.co.uk/-/media/boe/files/quarterly-bulletin/2018/from-the-middle-kingdom-to-the-united-kingdom-spillovers-from-china.pdf', 'https://www.bankofengland.co.uk/monetary-policy-report/2022/february-2022', 'https://www.bankofengland.co.uk/monetary-policy-report/2023/may-2023', 'https://www.fca.org.uk/news/press-releases/action-plan-cash-savings', 'https://www.fca.org.uk/news/press-releases/action-plan-cash-savings', 'https://www.bankofengland.co.uk/credit-conditions-survey/2023/2023-q3', 'https://www.bankofengland.co.uk/statistics/articles/2019/introduction-of-new-quoted-rates-data', 'https://www2.deloitte.com/uk/en/pages/finance/articles/deloitte-cfo-survey.html', 'https://www.fsb.org.uk/resource-report/small-business-index-quarter-2-2023.html', 'https://www.bva-bdrc.com/sme-finance-monitor/', 'https://www.bankofengland.co.uk/financial-policy-summary-and-record/2023/october-2023', 'https://www.bankofengland.co.uk/statistics/details/further-details-about-m4-data', 'https://www.bankofengland.co.uk/statistics/details/further-details-about-m4-excluding-intermediate-other-financial-corporations-data', 'https://www.bankofengland.co.uk/statistics/details/further-details-about-m4-excluding-intermediate-other-financial-corporations-data', 'https://www.bankofengland.co.uk/statistics/details/further-details-about-m4-lending-excluding-lending-to-intermediate-other-financial-corporations-data', 'https://www.bankofengland.co.uk/statistics/details/further-details-about-m4-lending-excluding-lending-to-intermediate-other-financial-corporations-data', 'https://bankunderground.co.uk/2023/08/17/forecasting-near-term-trends-in-the-labour-market/', 'https://bankunderground.co.uk/2023/08/17/forecasting-near-term-trends-in-the-labour-market/', 'https://www.bankofengland.co.uk/monetary-policy-report/2019/november-2019', 'https://www.bankofengland.co.uk/inflation-report/2018/february-2018', 'https://www.bankofengland.co.uk/inflation-report/2018/february-2018', 'https://www.bankofengland.co.uk/monetary-policy-report/2023/february-2023', 'https://www.bankofengland.co.uk/monetary-policy-report/2023/august-2023', 'https://www.federalreserve.gov/newsevents/speech/files/yellen20170926a.pdf', 'https://www.bankofengland.co.uk/monetary-policy-report/2023/august-2023', 'https://www.bankofengland.co.uk/monetary-policy-report/2023/august-2023', 'https://bankunderground.co.uk/2022/10/27/how-broad-based-is-the-increase-in-uk-inflation/', 'https://bankunderground.co.uk/2023/09/22/has-the-import-price-shock-been-worse-in-the-uk-or-euro-area/', 'https://bankunderground.co.uk/2023/08/30/profits-in-a-time-of-inflation-some-insights-from-recent-and-past-energy-shocks-in-the-uk/', 'https://www.ons.gov.uk/employmentandlabourmarket/peopleinwork/employmentandemployeetypes/methodologies/labourforcesurveyperformanceandqualitymonitoringreport', 'https://surveyinsights.org/?p=10452', 'https://blog.ons.gov.uk/2022/03/29/making-everybody-count-how-were-transforming-the-labour-force-survey/', 'https://blog.ons.gov.uk/2022/03/29/making-everybody-count-how-were-transforming-the-labour-force-survey/', 'https://osr.statisticsauthority.gov.uk/correspondence/ed-humpherson-to-darren-morgan-labour-market-statistics-derived-from-the-ons-labour-force-survey-lfs/', 'https://osr.statisticsauthority.gov.uk/correspondence/ed-humpherson-to-darren-morgan-labour-market-statistics-derived-from-the-ons-labour-force-survey-lfs/', 'https://www.ons.gov.uk/economy/grossdomesticproductgdp/articles/impactofbluebook2023changesongrossdomesticproduct/2023-09-01', 'https://blog.ons.gov.uk/2023/09/01/improving-our-estimate-of-businesses-outgoings-during-the-covid-19-pandemic/', 'https://blog.ons.gov.uk/2023/09/01/improving-our-estimate-of-businesses-outgoings-during-the-covid-19-pandemic/', 'https://www.bankofengland.co.uk/speech/2023/may/andrew-bailey-keynote-speech-british-chambers-of-commerce-global-annual-conference', 'https://www.imf.org/en/Publications/WEO/Issues/2023/10/10/world-economic-outlook-october-2023', 'https://www.resolutionfoundation.org/publications/arrears-fears/', 'https://www.bankofengland.co.uk/speech/2023/february/catherine-l-mann-speech-resolution-foundation', 'https://www.bankofengland.co.uk/speech/2023/february/catherine-l-mann-speech-resolution-foundation', 'https://www.bankofengland.co.uk/monetary-policy-report/2023/may-2023', 'https://www.bankofengland.co.uk/monetary-policy-report/2023/may-2023', 'https://www.dnb.nl/media/vkumkxmi/working-paper-no-551_tcm47-355601.pdf', 'https://www.bankofengland.co.uk/working-paper/2022/financial-concerns-and-the-marginal-propensity-to-consume-in-covid-times', 'https://www.bankofengland.co.uk/monetary-policy-report/2023/may-2023', 'https://www.bankofengland.co.uk/monetary-policy-report/2023/may-2023', 'https://ideas.repec.org/a/eee/finana/v42y2015icp316-323.html', 'https://www.bankofengland.co.uk/quarterly-bulletin/2006/q2/house-prices-and-consumer-spending', 'https://www.bankofengland.co.uk/speech/2022/october/ben-broadbent-speech-at-imperial-college-the-inflationary-consequences-of-real-shocks', 'https://www.bankofengland.co.uk/bank-overground/2023/has-the-private-rental-sector-been-shrinking', 'https://www.ons.gov.uk/economy/grossdomesticproductgdp/bulletins/businessinvestment/apriltojune2023provisionalresults', 'https://www.ons.gov.uk/economy/grossdomesticproductgdp/bulletins/businessinvestment/apriltojune2023provisionalresults', 'https://www.ons.gov.uk/economy/grossdomesticproductgdp/bulletins/businessinvestment/apriltojune2023revisedresults', 'https://www.ons.gov.uk/economy/grossdomesticproductgdp/bulletins/businessinvestment/apriltojune2023revisedresults']\"}, excluded_embed_metadata_keys=['file_name', 'file_type', 'file_size', 'creation_date', 'last_modified_date', 'last_accessed_date'], excluded_llm_metadata_keys=['file_name', 'file_type', 'file_size', 'creation_date', 'last_modified_date', 'last_accessed_date'], relationships={}, text='Bank of England\\nMonetary Policy Report\\nMonetary Policy Committee \\nNovember 2\\n023', start_char_idx=None, end_char_idx=None, text_template='{metadata_str}\\n\\n{content}', metadata_template='{key}: {value}', metadata_seperator='\\n')"
      ]
     },
     "execution_count": 9,
     "metadata": {},
     "output_type": "execute_result"
    }
   ],
   "source": [
    "documents[0]"
   ]
  },
  {
   "cell_type": "markdown",
   "metadata": {},
   "source": [
    "# At this point - lets consider this metadata fixed\n",
    "Now we need to consider how to create distance metrics for all the different dimensions\n",
    "\n",
    "| Dimension | Distance Metric | Notes | Apply? |\n",
    "| - | - | - | - |\n",
    "| Node text | Difference between embeddings | Standard | ✅ |\n",
    "| Source File | Boolean | Is same or isn't the same. Might be useful as a dummy feature? | ❌ |\n",
    "| Description | Difference between emeddings | Should I just add this to the original text? | ✅ |\n",
    "| Type | Categorical - needs manual construction | Either this is a yes/no distance metric, or I need to construct some sort of logical structure | ✅ |\n",
    "| Date | Simple difference between dates | Need to engineer this feature. Either simple difference, or the quarterly difference, etc | ✅ |\n",
    "| Authors | Boolean | Is same or isnt - but at the same time there can be multiple overlapping authors | ✅ |\n",
    "| Topics | Categorical - manual | Simple fuzzy-match of Hamming distance / Jaccard index or something more sophisticated built on a knowledge graph | ✅ | \n",
    "| Brands | Similar to that above - fuzzy match of Hamming distance. There are also nested distances? | Difficult to deal with the nesting | ✅ |\n",
    "| Academic Research Cited? | Not sure | Could use as a flag to do a deeper index and search for related concepts in the cited academic papers? | ❌ |\n",
    "| Divisions | Some sort of manual construct | Need to create a manual listing to map the categories together here | ✅ |\n",
    "| MPC Round | Boolean? Or also some distance due to date? | Not sure | ✅ |\n",
    "| Forecast Round | Same as above | N/A | ✅ |\n",
    "| Tags | N/A | These are always empty | ❌ |\n",
    "| Related Notes | N/A | These are always empty | ❌ |\n",
    " "
   ]
  },
  {
   "cell_type": "markdown",
   "metadata": {},
   "source": [
    "# OTHER STUFF FOR EMEDDINGS INDEX"
   ]
  },
  {
   "cell_type": "code",
   "execution_count": 10,
   "metadata": {},
   "outputs": [],
   "source": [
    "# this breaks the code as I'm lazy"
   ]
  },
  {
   "cell_type": "markdown",
   "metadata": {},
   "source": [
    "### Persist the data into a db"
   ]
  },
  {
   "cell_type": "code",
   "execution_count": 11,
   "metadata": {},
   "outputs": [],
   "source": [
    "path_to_db = pathlib.PurePosixPath(r\"../data/02_processed\") \n",
    "\n",
    "# Check if the file exists\n",
    "if os.path.exists(path_to_db / \"pg.duckdb\"):\n",
    "    # Delete the file\n",
    "    os.remove(path_to_db / \"pg.duckdb\")\n",
    "\n",
    "# Instantiate the vector store\n",
    "vector_store = DuckDBVectorStore(\"pg.duckdb\", persist_dir=str(path_to_db))"
   ]
  },
  {
   "cell_type": "markdown",
   "metadata": {},
   "source": [
    "### Configure the embedd model"
   ]
  },
  {
   "cell_type": "code",
   "execution_count": 12,
   "metadata": {},
   "outputs": [],
   "source": [
    "# Instantiate the db\n",
    "embed_model = HuggingFaceEmbedding(model_name=\"BAAI/bge-small-en-v1.5\")"
   ]
  },
  {
   "cell_type": "code",
   "execution_count": 13,
   "metadata": {},
   "outputs": [],
   "source": [
    "# embed_model.get_text_embedding(\"hello world\")"
   ]
  },
  {
   "cell_type": "markdown",
   "metadata": {},
   "source": [
    "### Configure the boilerplate"
   ]
  },
  {
   "cell_type": "code",
   "execution_count": 14,
   "metadata": {},
   "outputs": [],
   "source": [
    "# Configure things to point in the right place\n",
    "Settings.embed_model = embed_model\n",
    "Settings.chunk_size = 3024\n",
    "\n",
    "storage_settings = StorageContext.from_defaults(\n",
    "    vector_store=vector_store,\n",
    ")"
   ]
  },
  {
   "cell_type": "markdown",
   "metadata": {},
   "source": [
    "### Construct the index and save"
   ]
  },
  {
   "cell_type": "code",
   "execution_count": 15,
   "metadata": {},
   "outputs": [],
   "source": [
    "# Construct the index\n",
    "index = VectorStoreIndex.from_documents(documents, storage_context=storage_settings)"
   ]
  },
  {
   "cell_type": "markdown",
   "metadata": {},
   "source": [
    "### Load the index from the vector db"
   ]
  },
  {
   "cell_type": "code",
   "execution_count": 16,
   "metadata": {},
   "outputs": [],
   "source": [
    "# Load the vector store from local\n",
    "vector_store = DuckDBVectorStore.from_local(str(path_to_db/\"pg.duckdb\"))\n",
    "index = VectorStoreIndex.from_vector_store(vector_store)"
   ]
  },
  {
   "cell_type": "markdown",
   "metadata": {},
   "source": [
    "### Query"
   ]
  },
  {
   "cell_type": "code",
   "execution_count": 17,
   "metadata": {},
   "outputs": [
    {
     "name": "stdout",
     "output_type": "stream",
     "text": [
      "2\n",
      "Monetary policy at the Bank of England\n",
      "The objectives of monetary policy\n",
      "The Bank’s Monetary Policy Committee (MPC) sets monetary policy to keep inflation low and stable,\n",
      "which supports growth and jobs. Subject to maintaining price stability , the MPC is also required to\n",
      "support the Government’s economic policy.\n",
      "The Government has set the MPC a target for the 12-month increase in the Consumer Prices Index\n",
      "of 2%.\n",
      "The 2% inflation target is symmetric and applies at all times.\n",
      "The MPC’s remit recognises, however, that the actual inflation rate will depart from its target as a\n",
      "result of shocks and disturbances, and that attempts to keep inflation at target in these circumstances\n",
      "may cause undesirable volatility in output. In exceptional circumstances, the appropriate horizon for\n",
      "returning inflation to target can vary. The MPC will communicate how and when it intends to return\n",
      "inflation to the target.\n",
      "The instruments of monetary policy\n",
      "The MPC currently uses two main monetary policy tools. First, we set the interest rate that banks and\n",
      "building societies earn on deposits, or ‘reserves’, placed with the Bank of England – this isBank Rate. Second, we can buy government and corporate bonds, financed by the issuance of\n",
      "central bank reserves – this is asset purchases or quantitative easing.\n",
      "The Monetary Policy Report\n",
      "The MPC is committed to clear, transparent communication. The Monetary Policy Report (MPR) is a\n",
      "key part of that. It allows the MPC to share its thinking and explain the reasons for its decisions.\n",
      "The Report is produced quarterly by Bank staff under the guidance of the members of the MPC.\n",
      "This Report has been prepared and published by the Bank of England in accordance with section 18\n",
      "of the Bank of England Act 1998.\n",
      "Page 1\n",
      "Bank of England\n",
      "{'page_label': '1', 'file_name': '/Users/lukasalemu/Documents/00. Bank of England/00. Degree/Dissertation/structured-rag/notebooks/../data/01_raw/monetary policy report february 2024.pdf', 'Description': 'The 2024 MPR from the Bank of England for the month of February. Contains the forecasts, projections, etc.', 'Type': 'MPR', 'Date': '2024-02-04 00:00:00', 'Authors': 'Bank of England', 'Topics': 'Inflation, GDP, Labour Market, Forecasts', 'Brands': 'MPR', 'Academic Research Cited?': 'No', 'Divisions': 'Monetary Analysis', 'MPC Round': 'Feb 2024', 'Forecast Round': 'Feb 2024', 'Tags': 'nan', 'Related Notes': 'nan', 'num_characters': '193118', 'num_words': '30984', 'most_common_words': \"{'the': 1741, 'of': 1019, 'to': 979, 'in': 862, 'and': 700}\", 'links': \"['https://www.gov.uk/government/publications/monetary-policy-remit-autumn-statement-2023', 'http://www.bankofengland.co.uk/monetary-policy-report/2024/february-2024', 'http://www.bankofengland.co.uk/monetary-policy-report/2024/february-2024', 'https://www.bankofengland.co.uk/monetary-policy-report/2024/february-2024#chapter-10', 'https://www.federalreserve.gov/newsevents/speech/files/yellen20170926a.pdf', 'https://www.bankofengland.co.uk/speech/2018/andy-haldane-advisory-conciliation-and-arbitration-service-future-of-work-conference', 'https://www.bankofengland.co.uk/speech/2018/andy-haldane-advisory-conciliation-and-arbitration-service-future-of-work-conference', 'https://www.bankofengland.co.uk/monetary-policy-report/2024/february-2024#chapter-10', 'https://www.bankofengland.co.uk/monetary-policy-report/2024/february-2024#chapter-10', 'https://www.bankofengland.co.uk/monetary-policy-report/2023/may-2023', 'https://www.bankofengland.co.uk/credit-conditions-survey/2023/2023-q4', 'https://www.bankofengland.co.uk/financial-policy-summary-and-record/2023/december-2023', 'https://www.bankofengland.co.uk/monetary-policy-report/2023/november-2023', 'https://www.bankofengland.co.uk/statistics/details/further-details-about-m4-data', 'https://www.bankofengland.co.uk/statistics/details/further-details-about-m4-data', 'https://www.bankofengland.co.uk/statistics/details/further-details-about-m4-excluding-intermediate-other-financial-corporations-data', 'https://www.bankofengland.co.uk/statistics/details/further-details-about-m4-lending-excluding-lending-to-intermediate-other-financial-corporations-data', 'https://www.bankofengland.co.uk/statistics/details/further-details-about-m4-lending-excluding-lending-to-intermediate-other-financial-corporations-data', 'https://www.bankofengland.co.uk/monetary-policy-report/2023/november-2023', 'https://www.bankofengland.co.uk/monetary-policy-report/2023/november-2023', 'https://www.bankofengland.co.uk/speech/2023/december/ben-broadbent-speech-at-london-business-school', 'https://www.bankofengland.co.uk/speech/2023/december/ben-broadbent-speech-at-london-business-school', 'https://www.bankofengland.co.uk/monetary-policy-report/2023/november-2023', 'https://www.bankofengland.co.uk/monetary-policy-report/2023/november-2023', 'https://blog.ons.gov.uk/2022/03/29/making-everybody-count-how-were-transforming-the-labour-force-survey/', 'https://blog.ons.gov.uk/2022/03/29/making-everybody-count-how-were-transforming-the-labour-force-survey/', 'https://www.bankofengland.co.uk/speech/2023/december/ben-broadbent-speech-at-london-business-school', 'https://www.bankofengland.co.uk/monetary-policy-report/2023/november-2023', 'https://bankunderground.co.uk/2023/08/17/forecasting-near-term-trends-in-the-labour-market/', 'https://bankunderground.co.uk/2023/08/17/forecasting-near-term-trends-in-the-labour-market/', 'https://www.bankofengland.co.uk/speech/2023/november/jonathan-haskel-speech-at-warwick-university#:~:text=%E2%88%92%20speech%20by%20Jonathan%20Haskel,-Given%20at%20the&text=Jonathan%20explores%20the%20drivers%20of,in%20explaining%20recent%20UK%20inflation.', 'https://www.bankofengland.co.uk/monetary-policy-report/2019/november-2019', 'https://www.bankofengland.co.uk/monetary-policy-report/2023/november-2023', 'https://direct.mit.edu/rest/article-abstract/98/4/770/58346/Core-Inflation-and-Trend-Inflation', 'https://www.federalreserve.gov/newsevents/speech/files/yellen20170926a.pdf', 'https://www.gov.uk/government/publications/minimum-wage-rates-for-2024/low-pay-commission-summary-of-evidence-2023', 'https://bankunderground.co.uk/2022/10/27/how-broad-based-is-the-increase-in-uk-inflation/', 'https://www.bankofengland.co.uk/monetary-policy-report/2023/november-2023', 'https://www.bankofengland.co.uk/monetary-policy-report/2023/november-2023', 'https://www.bankofengland.co.uk/inflation-report/2018/august-2018', 'https://www.nber.org/papers/w31949?utm_campaign=ntwh&utm_medium=email&utm_source=ntwg12', 'https://www.bankofengland.co.uk/speech/2023/november/megan-greene-speech-at-leeds-university', 'http://www.sciencedirect.com/science/article/pii/S0378426616000443', 'https://www.bankofengland.co.uk/speech/2016/monetary-policy-expectations-and-long-term-interest-rates', 'https://www.bankofengland.co.uk/speech/2016/monetary-policy-expectations-and-long-term-interest-rates', 'https://www.bankofengland.co.uk/working-paper/2015/long-run-priors-for-term-structure-models', 'https://www.bankofengland.co.uk/monetary-policy-report/2023/february-2023', 'https://www.bankofengland.co.uk/speech/2023/march/andrew-bailey-speech-at-london-school-of-economics', 'https://www.bankofengland.co.uk/monetary-policy-report/2019/november-2019', 'https://www.economicsobservatory.com/how-has-brexit-affected-business-investment-in-the-uk', 'https://www.bankofengland.co.uk/monetary-policy-report/2023/february-2023', 'https://www.bankofengland.co.uk/monetary-policy-report/2023/november-2023', 'https://www.bankofengland.co.uk/monetary-policy-report/2023/february-2023', 'https://www.bankofengland.co.uk/monetary-policy-report/2023/february-2023', 'https://www.imperial.ac.uk/people/j.haskel/document/9802/Haskel%20Martin%20sickness%20inactivity%20v2/?Haskel%20Martin%20sickness%20inactivity%20v2.pdf', 'https://www.bankofengland.co.uk/monetary-policy-report/2023/november-2023', 'https://www.bankofengland.co.uk/monetary-policy-report/2023/november-2023', 'https://www.bankofengland.co.uk/monetary-policy-report/2023/february-2023', 'https://www.bankofengland.co.uk/monetary-policy-report/2023/february-2023', 'https://www.bankofengland.co.uk/working-paper/2011/the-impact-of-permanent-energy-price-shocks-on-the-uk-economy', 'https://www.imf.org/en/Publications/selected-issues-papers/Issues/2023/07/13/The-Energy-Price-Shock-Impact-Policy-Responses-and-Reform-Options-United-Kingdom-536294', 'https://www.ecb.europa.eu/pub/pdf/scpwps/ecb.wp2523~2c34a5782a.en.pdf?03513339cd0d36cfd2a81adedcf71e39', 'https://onlinelibrary.wiley.com/doi/full/10.1111/jmcb.12496', 'https://onlinelibrary.wiley.com/doi/full/10.1111/jmcb.12496', 'https://www.bankofengland.co.uk/monetary-policy-report/2023/february-2023', 'https://www.bankofengland.co.uk/monetary-policy-report/2023/november-2023', 'https://www.science.org/doi/10.1126/science.adh2586', 'https://www.nber.org/books-and-chapters/economics-artificial-intelligence-agenda/impact-artificial-intelligence-innovation-exploratory-analysis', 'https://academic.oup.com/oxrep/article/37/3/521/6374675', 'https://www.mckinsey.com/capabilities/mckinsey-digital/our-insights/the-economic-potential-of-generative-AI-the-next-productivity-frontier', 'https://www.gspublishing.com/content/research/en/reports/2023/03/27/d64e052b-0f6e-45d7-967b-d7be35fabd16.html', 'https://www.bankofengland.co.uk/quarterly-bulletin/2022/2022-q4/climate-change-possible-macroeconomic-implications', 'https://www.ngfs.net/en/ngfs-climate-scenarios-phase-iv-november-2023', 'https://www.bankofengland.co.uk/inflation-report/2018/february-2018']\", '_node_content': '{\"id_\": \"9e3adfe0-2d86-4309-a96b-9983c8c97adc\", \"embedding\": null, \"metadata\": {\"page_label\": \"1\", \"file_name\": \"/Users/lukasalemu/Documents/00. Bank of England/00. Degree/Dissertation/structured-rag/notebooks/../data/01_raw/monetary policy report february 2024.pdf\", \"Description\": \"The 2024 MPR from the Bank of England for the month of February. Contains the forecasts, projections, etc.\", \"Type\": \"MPR\", \"Date\": \"2024-02-04 00:00:00\", \"Authors\": \"Bank of England\", \"Topics\": \"Inflation, GDP, Labour Market, Forecasts\", \"Brands\": \"MPR\", \"Academic Research Cited?\": \"No\", \"Divisions\": \"Monetary Analysis\", \"MPC Round\": \"Feb 2024\", \"Forecast Round\": \"Feb 2024\", \"Tags\": \"nan\", \"Related Notes\": \"nan\", \"num_characters\": \"193118\", \"num_words\": \"30984\", \"most_common_words\": \"{\\'the\\': 1741, \\'of\\': 1019, \\'to\\': 979, \\'in\\': 862, \\'and\\': 700}\", \"links\": \"[\\'https://www.gov.uk/government/publications/monetary-policy-remit-autumn-statement-2023\\', \\'http://www.bankofengland.co.uk/monetary-policy-report/2024/february-2024\\', \\'http://www.bankofengland.co.uk/monetary-policy-report/2024/february-2024\\', \\'https://www.bankofengland.co.uk/monetary-policy-report/2024/february-2024#chapter-10\\', \\'https://www.federalreserve.gov/newsevents/speech/files/yellen20170926a.pdf\\', \\'https://www.bankofengland.co.uk/speech/2018/andy-haldane-advisory-conciliation-and-arbitration-service-future-of-work-conference\\', \\'https://www.bankofengland.co.uk/speech/2018/andy-haldane-advisory-conciliation-and-arbitration-service-future-of-work-conference\\', \\'https://www.bankofengland.co.uk/monetary-policy-report/2024/february-2024#chapter-10\\', \\'https://www.bankofengland.co.uk/monetary-policy-report/2024/february-2024#chapter-10\\', \\'https://www.bankofengland.co.uk/monetary-policy-report/2023/may-2023\\', \\'https://www.bankofengland.co.uk/credit-conditions-survey/2023/2023-q4\\', \\'https://www.bankofengland.co.uk/financial-policy-summary-and-record/2023/december-2023\\', \\'https://www.bankofengland.co.uk/monetary-policy-report/2023/november-2023\\', \\'https://www.bankofengland.co.uk/statistics/details/further-details-about-m4-data\\', \\'https://www.bankofengland.co.uk/statistics/details/further-details-about-m4-data\\', \\'https://www.bankofengland.co.uk/statistics/details/further-details-about-m4-excluding-intermediate-other-financial-corporations-data\\', \\'https://www.bankofengland.co.uk/statistics/details/further-details-about-m4-lending-excluding-lending-to-intermediate-other-financial-corporations-data\\', \\'https://www.bankofengland.co.uk/statistics/details/further-details-about-m4-lending-excluding-lending-to-intermediate-other-financial-corporations-data\\', \\'https://www.bankofengland.co.uk/monetary-policy-report/2023/november-2023\\', \\'https://www.bankofengland.co.uk/monetary-policy-report/2023/november-2023\\', \\'https://www.bankofengland.co.uk/speech/2023/december/ben-broadbent-speech-at-london-business-school\\', \\'https://www.bankofengland.co.uk/speech/2023/december/ben-broadbent-speech-at-london-business-school\\', \\'https://www.bankofengland.co.uk/monetary-policy-report/2023/november-2023\\', \\'https://www.bankofengland.co.uk/monetary-policy-report/2023/november-2023\\', \\'https://blog.ons.gov.uk/2022/03/29/making-everybody-count-how-were-transforming-the-labour-force-survey/\\', \\'https://blog.ons.gov.uk/2022/03/29/making-everybody-count-how-were-transforming-the-labour-force-survey/\\', \\'https://www.bankofengland.co.uk/speech/2023/december/ben-broadbent-speech-at-london-business-school\\', \\'https://www.bankofengland.co.uk/monetary-policy-report/2023/november-2023\\', \\'https://bankunderground.co.uk/2023/08/17/forecasting-near-term-trends-in-the-labour-market/\\', \\'https://bankunderground.co.uk/2023/08/17/forecasting-near-term-trends-in-the-labour-market/\\', \\'https://www.bankofengland.co.uk/speech/2023/november/jonathan-haskel-speech-at-warwick-university#:~:text=%E2%88%92%20speech%20by%20Jonathan%20Haskel,-Given%20at%20the&text=Jonathan%20explores%20the%20drivers%20of,in%20explaining%20recent%20UK%20inflation.\\', \\'https://www.bankofengland.co.uk/monetary-policy-report/2019/november-2019\\', \\'https://www.bankofengland.co.uk/monetary-policy-report/2023/november-2023\\', \\'https://direct.mit.edu/rest/article-abstract/98/4/770/58346/Core-Inflation-and-Trend-Inflation\\', \\'https://www.federalreserve.gov/newsevents/speech/files/yellen20170926a.pdf\\', \\'https://www.gov.uk/government/publications/minimum-wage-rates-for-2024/low-pay-commission-summary-of-evidence-2023\\', \\'https://bankunderground.co.uk/2022/10/27/how-broad-based-is-the-increase-in-uk-inflation/\\', \\'https://www.bankofengland.co.uk/monetary-policy-report/2023/november-2023\\', \\'https://www.bankofengland.co.uk/monetary-policy-report/2023/november-2023\\', \\'https://www.bankofengland.co.uk/inflation-report/2018/august-2018\\', \\'https://www.nber.org/papers/w31949?utm_campaign=ntwh&utm_medium=email&utm_source=ntwg12\\', \\'https://www.bankofengland.co.uk/speech/2023/november/megan-greene-speech-at-leeds-university\\', \\'http://www.sciencedirect.com/science/article/pii/S0378426616000443\\', \\'https://www.bankofengland.co.uk/speech/2016/monetary-policy-expectations-and-long-term-interest-rates\\', \\'https://www.bankofengland.co.uk/speech/2016/monetary-policy-expectations-and-long-term-interest-rates\\', \\'https://www.bankofengland.co.uk/working-paper/2015/long-run-priors-for-term-structure-models\\', \\'https://www.bankofengland.co.uk/monetary-policy-report/2023/february-2023\\', \\'https://www.bankofengland.co.uk/speech/2023/march/andrew-bailey-speech-at-london-school-of-economics\\', \\'https://www.bankofengland.co.uk/monetary-policy-report/2019/november-2019\\', \\'https://www.economicsobservatory.com/how-has-brexit-affected-business-investment-in-the-uk\\', \\'https://www.bankofengland.co.uk/monetary-policy-report/2023/february-2023\\', \\'https://www.bankofengland.co.uk/monetary-policy-report/2023/november-2023\\', \\'https://www.bankofengland.co.uk/monetary-policy-report/2023/february-2023\\', \\'https://www.bankofengland.co.uk/monetary-policy-report/2023/february-2023\\', \\'https://www.imperial.ac.uk/people/j.haskel/document/9802/Haskel%20Martin%20sickness%20inactivity%20v2/?Haskel%20Martin%20sickness%20inactivity%20v2.pdf\\', \\'https://www.bankofengland.co.uk/monetary-policy-report/2023/november-2023\\', \\'https://www.bankofengland.co.uk/monetary-policy-report/2023/november-2023\\', \\'https://www.bankofengland.co.uk/monetary-policy-report/2023/february-2023\\', \\'https://www.bankofengland.co.uk/monetary-policy-report/2023/february-2023\\', \\'https://www.bankofengland.co.uk/working-paper/2011/the-impact-of-permanent-energy-price-shocks-on-the-uk-economy\\', \\'https://www.imf.org/en/Publications/selected-issues-papers/Issues/2023/07/13/The-Energy-Price-Shock-Impact-Policy-Responses-and-Reform-Options-United-Kingdom-536294\\', \\'https://www.ecb.europa.eu/pub/pdf/scpwps/ecb.wp2523~2c34a5782a.en.pdf?03513339cd0d36cfd2a81adedcf71e39\\', \\'https://onlinelibrary.wiley.com/doi/full/10.1111/jmcb.12496\\', \\'https://onlinelibrary.wiley.com/doi/full/10.1111/jmcb.12496\\', \\'https://www.bankofengland.co.uk/monetary-policy-report/2023/february-2023\\', \\'https://www.bankofengland.co.uk/monetary-policy-report/2023/november-2023\\', \\'https://www.science.org/doi/10.1126/science.adh2586\\', \\'https://www.nber.org/books-and-chapters/economics-artificial-intelligence-agenda/impact-artificial-intelligence-innovation-exploratory-analysis\\', \\'https://academic.oup.com/oxrep/article/37/3/521/6374675\\', \\'https://www.mckinsey.com/capabilities/mckinsey-digital/our-insights/the-economic-potential-of-generative-AI-the-next-productivity-frontier\\', \\'https://www.gspublishing.com/content/research/en/reports/2023/03/27/d64e052b-0f6e-45d7-967b-d7be35fabd16.html\\', \\'https://www.bankofengland.co.uk/quarterly-bulletin/2022/2022-q4/climate-change-possible-macroeconomic-implications\\', \\'https://www.ngfs.net/en/ngfs-climate-scenarios-phase-iv-november-2023\\', \\'https://www.bankofengland.co.uk/inflation-report/2018/february-2018\\']\"}, \"excluded_embed_metadata_keys\": [\"file_name\", \"file_type\", \"file_size\", \"creation_date\", \"last_modified_date\", \"last_accessed_date\"], \"excluded_llm_metadata_keys\": [\"file_name\", \"file_type\", \"file_size\", \"creation_date\", \"last_modified_date\", \"last_accessed_date\"], \"relationships\": {\"1\": {\"node_id\": \"65fb3391-9de3-4962-9732-edbbe5d100c7\", \"node_type\": \"4\", \"metadata\": {\"page_label\": \"1\", \"file_name\": \"/Users/lukasalemu/Documents/00. Bank of England/00. Degree/Dissertation/structured-rag/notebooks/../data/01_raw/monetary policy report february 2024.pdf\", \"Description\": \"The 2024 MPR from the Bank of England for the month of February. Contains the forecasts, projections, etc.\", \"Type\": \"MPR\", \"Date\": \"2024-02-04 00:00:00\", \"Authors\": \"Bank of England\", \"Topics\": \"Inflation, GDP, Labour Market, Forecasts\", \"Brands\": \"MPR\", \"Academic Research Cited?\": \"No\", \"Divisions\": \"Monetary Analysis\", \"MPC Round\": \"Feb 2024\", \"Forecast Round\": \"Feb 2024\", \"Tags\": \"nan\", \"Related Notes\": \"nan\", \"num_characters\": \"193118\", \"num_words\": \"30984\", \"most_common_words\": \"{\\'the\\': 1741, \\'of\\': 1019, \\'to\\': 979, \\'in\\': 862, \\'and\\': 700}\", \"links\": \"[\\'https://www.gov.uk/government/publications/monetary-policy-remit-autumn-statement-2023\\', \\'http://www.bankofengland.co.uk/monetary-policy-report/2024/february-2024\\', \\'http://www.bankofengland.co.uk/monetary-policy-report/2024/february-2024\\', \\'https://www.bankofengland.co.uk/monetary-policy-report/2024/february-2024#chapter-10\\', \\'https://www.federalreserve.gov/newsevents/speech/files/yellen20170926a.pdf\\', \\'https://www.bankofengland.co.uk/speech/2018/andy-haldane-advisory-conciliation-and-arbitration-service-future-of-work-conference\\', \\'https://www.bankofengland.co.uk/speech/2018/andy-haldane-advisory-conciliation-and-arbitration-service-future-of-work-conference\\', \\'https://www.bankofengland.co.uk/monetary-policy-report/2024/february-2024#chapter-10\\', \\'https://www.bankofengland.co.uk/monetary-policy-report/2024/february-2024#chapter-10\\', \\'https://www.bankofengland.co.uk/monetary-policy-report/2023/may-2023\\', \\'https://www.bankofengland.co.uk/credit-conditions-survey/2023/2023-q4\\', \\'https://www.bankofengland.co.uk/financial-policy-summary-and-record/2023/december-2023\\', \\'https://www.bankofengland.co.uk/monetary-policy-report/2023/november-2023\\', \\'https://www.bankofengland.co.uk/statistics/details/further-details-about-m4-data\\', \\'https://www.bankofengland.co.uk/statistics/details/further-details-about-m4-data\\', \\'https://www.bankofengland.co.uk/statistics/details/further-details-about-m4-excluding-intermediate-other-financial-corporations-data\\', \\'https://www.bankofengland.co.uk/statistics/details/further-details-about-m4-lending-excluding-lending-to-intermediate-other-financial-corporations-data\\', \\'https://www.bankofengland.co.uk/statistics/details/further-details-about-m4-lending-excluding-lending-to-intermediate-other-financial-corporations-data\\', \\'https://www.bankofengland.co.uk/monetary-policy-report/2023/november-2023\\', \\'https://www.bankofengland.co.uk/monetary-policy-report/2023/november-2023\\', \\'https://www.bankofengland.co.uk/speech/2023/december/ben-broadbent-speech-at-london-business-school\\', \\'https://www.bankofengland.co.uk/speech/2023/december/ben-broadbent-speech-at-london-business-school\\', \\'https://www.bankofengland.co.uk/monetary-policy-report/2023/november-2023\\', \\'https://www.bankofengland.co.uk/monetary-policy-report/2023/november-2023\\', \\'https://blog.ons.gov.uk/2022/03/29/making-everybody-count-how-were-transforming-the-labour-force-survey/\\', \\'https://blog.ons.gov.uk/2022/03/29/making-everybody-count-how-were-transforming-the-labour-force-survey/\\', \\'https://www.bankofengland.co.uk/speech/2023/december/ben-broadbent-speech-at-london-business-school\\', \\'https://www.bankofengland.co.uk/monetary-policy-report/2023/november-2023\\', \\'https://bankunderground.co.uk/2023/08/17/forecasting-near-term-trends-in-the-labour-market/\\', \\'https://bankunderground.co.uk/2023/08/17/forecasting-near-term-trends-in-the-labour-market/\\', \\'https://www.bankofengland.co.uk/speech/2023/november/jonathan-haskel-speech-at-warwick-university#:~:text=%E2%88%92%20speech%20by%20Jonathan%20Haskel,-Given%20at%20the&text=Jonathan%20explores%20the%20drivers%20of,in%20explaining%20recent%20UK%20inflation.\\', \\'https://www.bankofengland.co.uk/monetary-policy-report/2019/november-2019\\', \\'https://www.bankofengland.co.uk/monetary-policy-report/2023/november-2023\\', \\'https://direct.mit.edu/rest/article-abstract/98/4/770/58346/Core-Inflation-and-Trend-Inflation\\', \\'https://www.federalreserve.gov/newsevents/speech/files/yellen20170926a.pdf\\', \\'https://www.gov.uk/government/publications/minimum-wage-rates-for-2024/low-pay-commission-summary-of-evidence-2023\\', \\'https://bankunderground.co.uk/2022/10/27/how-broad-based-is-the-increase-in-uk-inflation/\\', \\'https://www.bankofengland.co.uk/monetary-policy-report/2023/november-2023\\', \\'https://www.bankofengland.co.uk/monetary-policy-report/2023/november-2023\\', \\'https://www.bankofengland.co.uk/inflation-report/2018/august-2018\\', \\'https://www.nber.org/papers/w31949?utm_campaign=ntwh&utm_medium=email&utm_source=ntwg12\\', \\'https://www.bankofengland.co.uk/speech/2023/november/megan-greene-speech-at-leeds-university\\', \\'http://www.sciencedirect.com/science/article/pii/S0378426616000443\\', \\'https://www.bankofengland.co.uk/speech/2016/monetary-policy-expectations-and-long-term-interest-rates\\', \\'https://www.bankofengland.co.uk/speech/2016/monetary-policy-expectations-and-long-term-interest-rates\\', \\'https://www.bankofengland.co.uk/working-paper/2015/long-run-priors-for-term-structure-models\\', \\'https://www.bankofengland.co.uk/monetary-policy-report/2023/february-2023\\', \\'https://www.bankofengland.co.uk/speech/2023/march/andrew-bailey-speech-at-london-school-of-economics\\', \\'https://www.bankofengland.co.uk/monetary-policy-report/2019/november-2019\\', \\'https://www.economicsobservatory.com/how-has-brexit-affected-business-investment-in-the-uk\\', \\'https://www.bankofengland.co.uk/monetary-policy-report/2023/february-2023\\', \\'https://www.bankofengland.co.uk/monetary-policy-report/2023/november-2023\\', \\'https://www.bankofengland.co.uk/monetary-policy-report/2023/february-2023\\', \\'https://www.bankofengland.co.uk/monetary-policy-report/2023/february-2023\\', \\'https://www.imperial.ac.uk/people/j.haskel/document/9802/Haskel%20Martin%20sickness%20inactivity%20v2/?Haskel%20Martin%20sickness%20inactivity%20v2.pdf\\', \\'https://www.bankofengland.co.uk/monetary-policy-report/2023/november-2023\\', \\'https://www.bankofengland.co.uk/monetary-policy-report/2023/november-2023\\', \\'https://www.bankofengland.co.uk/monetary-policy-report/2023/february-2023\\', \\'https://www.bankofengland.co.uk/monetary-policy-report/2023/february-2023\\', \\'https://www.bankofengland.co.uk/working-paper/2011/the-impact-of-permanent-energy-price-shocks-on-the-uk-economy\\', \\'https://www.imf.org/en/Publications/selected-issues-papers/Issues/2023/07/13/The-Energy-Price-Shock-Impact-Policy-Responses-and-Reform-Options-United-Kingdom-536294\\', \\'https://www.ecb.europa.eu/pub/pdf/scpwps/ecb.wp2523~2c34a5782a.en.pdf?03513339cd0d36cfd2a81adedcf71e39\\', \\'https://onlinelibrary.wiley.com/doi/full/10.1111/jmcb.12496\\', \\'https://onlinelibrary.wiley.com/doi/full/10.1111/jmcb.12496\\', \\'https://www.bankofengland.co.uk/monetary-policy-report/2023/february-2023\\', \\'https://www.bankofengland.co.uk/monetary-policy-report/2023/november-2023\\', \\'https://www.science.org/doi/10.1126/science.adh2586\\', \\'https://www.nber.org/books-and-chapters/economics-artificial-intelligence-agenda/impact-artificial-intelligence-innovation-exploratory-analysis\\', \\'https://academic.oup.com/oxrep/article/37/3/521/6374675\\', \\'https://www.mckinsey.com/capabilities/mckinsey-digital/our-insights/the-economic-potential-of-generative-AI-the-next-productivity-frontier\\', \\'https://www.gspublishing.com/content/research/en/reports/2023/03/27/d64e052b-0f6e-45d7-967b-d7be35fabd16.html\\', \\'https://www.bankofengland.co.uk/quarterly-bulletin/2022/2022-q4/climate-change-possible-macroeconomic-implications\\', \\'https://www.ngfs.net/en/ngfs-climate-scenarios-phase-iv-november-2023\\', \\'https://www.bankofengland.co.uk/inflation-report/2018/february-2018\\']\"}, \"hash\": \"9668cbc829ba9c475b48344778285b6f04cd01c86cffbdc06c94b04842dde388\", \"class_name\": \"RelatedNodeInfo\"}, \"2\": {\"node_id\": \"77342d2f-7d4a-4248-8bad-9bfd4a0055f7\", \"node_type\": \"1\", \"metadata\": {\"page_label\": \"Cover\", \"file_name\": \"/Users/lukasalemu/Documents/00. Bank of England/00. Degree/Dissertation/structured-rag/notebooks/../data/01_raw/monetary policy report february 2024.pdf\", \"Description\": \"The 2024 MPR from the Bank of England for the month of February. Contains the forecasts, projections, etc.\", \"Type\": \"MPR\", \"Date\": \"2024-02-04 00:00:00\", \"Authors\": \"Bank of England\", \"Topics\": \"Inflation, GDP, Labour Market, Forecasts\", \"Brands\": \"MPR\", \"Academic Research Cited?\": \"No\", \"Divisions\": \"Monetary Analysis\", \"MPC Round\": \"Feb 2024\", \"Forecast Round\": \"Feb 2024\", \"Tags\": \"nan\", \"Related Notes\": \"nan\", \"num_characters\": \"193118\", \"num_words\": \"30984\", \"most_common_words\": \"{\\'the\\': 1741, \\'of\\': 1019, \\'to\\': 979, \\'in\\': 862, \\'and\\': 700}\", \"links\": \"[\\'https://www.gov.uk/government/publications/monetary-policy-remit-autumn-statement-2023\\', \\'http://www.bankofengland.co.uk/monetary-policy-report/2024/february-2024\\', \\'http://www.bankofengland.co.uk/monetary-policy-report/2024/february-2024\\', \\'https://www.bankofengland.co.uk/monetary-policy-report/2024/february-2024#chapter-10\\', \\'https://www.federalreserve.gov/newsevents/speech/files/yellen20170926a.pdf\\', \\'https://www.bankofengland.co.uk/speech/2018/andy-haldane-advisory-conciliation-and-arbitration-service-future-of-work-conference\\', \\'https://www.bankofengland.co.uk/speech/2018/andy-haldane-advisory-conciliation-and-arbitration-service-future-of-work-conference\\', \\'https://www.bankofengland.co.uk/monetary-policy-report/2024/february-2024#chapter-10\\', \\'https://www.bankofengland.co.uk/monetary-policy-report/2024/february-2024#chapter-10\\', \\'https://www.bankofengland.co.uk/monetary-policy-report/2023/may-2023\\', \\'https://www.bankofengland.co.uk/credit-conditions-survey/2023/2023-q4\\', \\'https://www.bankofengland.co.uk/financial-policy-summary-and-record/2023/december-2023\\', \\'https://www.bankofengland.co.uk/monetary-policy-report/2023/november-2023\\', \\'https://www.bankofengland.co.uk/statistics/details/further-details-about-m4-data\\', \\'https://www.bankofengland.co.uk/statistics/details/further-details-about-m4-data\\', \\'https://www.bankofengland.co.uk/statistics/details/further-details-about-m4-excluding-intermediate-other-financial-corporations-data\\', \\'https://www.bankofengland.co.uk/statistics/details/further-details-about-m4-lending-excluding-lending-to-intermediate-other-financial-corporations-data\\', \\'https://www.bankofengland.co.uk/statistics/details/further-details-about-m4-lending-excluding-lending-to-intermediate-other-financial-corporations-data\\', \\'https://www.bankofengland.co.uk/monetary-policy-report/2023/november-2023\\', \\'https://www.bankofengland.co.uk/monetary-policy-report/2023/november-2023\\', \\'https://www.bankofengland.co.uk/speech/2023/december/ben-broadbent-speech-at-london-business-school\\', \\'https://www.bankofengland.co.uk/speech/2023/december/ben-broadbent-speech-at-london-business-school\\', \\'https://www.bankofengland.co.uk/monetary-policy-report/2023/november-2023\\', \\'https://www.bankofengland.co.uk/monetary-policy-report/2023/november-2023\\', \\'https://blog.ons.gov.uk/2022/03/29/making-everybody-count-how-were-transforming-the-labour-force-survey/\\', \\'https://blog.ons.gov.uk/2022/03/29/making-everybody-count-how-were-transforming-the-labour-force-survey/\\', \\'https://www.bankofengland.co.uk/speech/2023/december/ben-broadbent-speech-at-london-business-school\\', \\'https://www.bankofengland.co.uk/monetary-policy-report/2023/november-2023\\', \\'https://bankunderground.co.uk/2023/08/17/forecasting-near-term-trends-in-the-labour-market/\\', \\'https://bankunderground.co.uk/2023/08/17/forecasting-near-term-trends-in-the-labour-market/\\', \\'https://www.bankofengland.co.uk/speech/2023/november/jonathan-haskel-speech-at-warwick-university#:~:text=%E2%88%92%20speech%20by%20Jonathan%20Haskel,-Given%20at%20the&text=Jonathan%20explores%20the%20drivers%20of,in%20explaining%20recent%20UK%20inflation.\\', \\'https://www.bankofengland.co.uk/monetary-policy-report/2019/november-2019\\', \\'https://www.bankofengland.co.uk/monetary-policy-report/2023/november-2023\\', \\'https://direct.mit.edu/rest/article-abstract/98/4/770/58346/Core-Inflation-and-Trend-Inflation\\', \\'https://www.federalreserve.gov/newsevents/speech/files/yellen20170926a.pdf\\', \\'https://www.gov.uk/government/publications/minimum-wage-rates-for-2024/low-pay-commission-summary-of-evidence-2023\\', \\'https://bankunderground.co.uk/2022/10/27/how-broad-based-is-the-increase-in-uk-inflation/\\', \\'https://www.bankofengland.co.uk/monetary-policy-report/2023/november-2023\\', \\'https://www.bankofengland.co.uk/monetary-policy-report/2023/november-2023\\', \\'https://www.bankofengland.co.uk/inflation-report/2018/august-2018\\', \\'https://www.nber.org/papers/w31949?utm_campaign=ntwh&utm_medium=email&utm_source=ntwg12\\', \\'https://www.bankofengland.co.uk/speech/2023/november/megan-greene-speech-at-leeds-university\\', \\'http://www.sciencedirect.com/science/article/pii/S0378426616000443\\', \\'https://www.bankofengland.co.uk/speech/2016/monetary-policy-expectations-and-long-term-interest-rates\\', \\'https://www.bankofengland.co.uk/speech/2016/monetary-policy-expectations-and-long-term-interest-rates\\', \\'https://www.bankofengland.co.uk/working-paper/2015/long-run-priors-for-term-structure-models\\', \\'https://www.bankofengland.co.uk/monetary-policy-report/2023/february-2023\\', \\'https://www.bankofengland.co.uk/speech/2023/march/andrew-bailey-speech-at-london-school-of-economics\\', \\'https://www.bankofengland.co.uk/monetary-policy-report/2019/november-2019\\', \\'https://www.economicsobservatory.com/how-has-brexit-affected-business-investment-in-the-uk\\', \\'https://www.bankofengland.co.uk/monetary-policy-report/2023/february-2023\\', \\'https://www.bankofengland.co.uk/monetary-policy-report/2023/november-2023\\', \\'https://www.bankofengland.co.uk/monetary-policy-report/2023/february-2023\\', \\'https://www.bankofengland.co.uk/monetary-policy-report/2023/february-2023\\', \\'https://www.imperial.ac.uk/people/j.haskel/document/9802/Haskel%20Martin%20sickness%20inactivity%20v2/?Haskel%20Martin%20sickness%20inactivity%20v2.pdf\\', \\'https://www.bankofengland.co.uk/monetary-policy-report/2023/november-2023\\', \\'https://www.bankofengland.co.uk/monetary-policy-report/2023/november-2023\\', \\'https://www.bankofengland.co.uk/monetary-policy-report/2023/february-2023\\', \\'https://www.bankofengland.co.uk/monetary-policy-report/2023/february-2023\\', \\'https://www.bankofengland.co.uk/working-paper/2011/the-impact-of-permanent-energy-price-shocks-on-the-uk-economy\\', \\'https://www.imf.org/en/Publications/selected-issues-papers/Issues/2023/07/13/The-Energy-Price-Shock-Impact-Policy-Responses-and-Reform-Options-United-Kingdom-536294\\', \\'https://www.ecb.europa.eu/pub/pdf/scpwps/ecb.wp2523~2c34a5782a.en.pdf?03513339cd0d36cfd2a81adedcf71e39\\', \\'https://onlinelibrary.wiley.com/doi/full/10.1111/jmcb.12496\\', \\'https://onlinelibrary.wiley.com/doi/full/10.1111/jmcb.12496\\', \\'https://www.bankofengland.co.uk/monetary-policy-report/2023/february-2023\\', \\'https://www.bankofengland.co.uk/monetary-policy-report/2023/november-2023\\', \\'https://www.science.org/doi/10.1126/science.adh2586\\', \\'https://www.nber.org/books-and-chapters/economics-artificial-intelligence-agenda/impact-artificial-intelligence-innovation-exploratory-analysis\\', \\'https://academic.oup.com/oxrep/article/37/3/521/6374675\\', \\'https://www.mckinsey.com/capabilities/mckinsey-digital/our-insights/the-economic-potential-of-generative-AI-the-next-productivity-frontier\\', \\'https://www.gspublishing.com/content/research/en/reports/2023/03/27/d64e052b-0f6e-45d7-967b-d7be35fabd16.html\\', \\'https://www.bankofengland.co.uk/quarterly-bulletin/2022/2022-q4/climate-change-possible-macroeconomic-implications\\', \\'https://www.ngfs.net/en/ngfs-climate-scenarios-phase-iv-november-2023\\', \\'https://www.bankofengland.co.uk/inflation-report/2018/february-2018\\']\"}, \"hash\": \"4658cdf233fe4a737741248ad87bc396c0a14be270125a9643d8eaee803824ab\", \"class_name\": \"RelatedNodeInfo\"}, \"3\": {\"node_id\": \"be196b76-5e2a-44d9-8b30-267adb742ca6\", \"node_type\": \"1\", \"metadata\": {}, \"hash\": \"d74a96660ed4079727c509d701fef5a63f3bc8d9703bcf6d03f3614aee3d5a89\", \"class_name\": \"RelatedNodeInfo\"}}, \"text\": \"\", \"start_char_idx\": 0, \"end_char_idx\": 1771, \"text_template\": \"{metadata_str}\\\\n\\\\n{content}\", \"metadata_template\": \"{key}: {value}\", \"metadata_seperator\": \"\\\\n\", \"class_name\": \"TextNode\"}', '_node_type': 'TextNode', 'document_id': '65fb3391-9de3-4962-9732-edbbe5d100c7', 'doc_id': '65fb3391-9de3-4962-9732-edbbe5d100c7', 'ref_doc_id': '65fb3391-9de3-4962-9732-edbbe5d100c7'}\n"
     ]
    }
   ],
   "source": [
    "# Now we can retrieve similar documents to a given query\n",
    "query_text = \"What is the forecast\"\n",
    "\n",
    "results = index.as_retriever().retrieve(query_text)\n",
    "\n",
    "print(len(results))\n",
    "print(results[0].text)\n",
    "print(results[0].metadata)"
   ]
  },
  {
   "cell_type": "markdown",
   "metadata": {},
   "source": [
    "# POC1: Distance Metric for Node Text\n",
    "\n",
    "Technically this isn't too difficult - we're just making the embeddings and creating a function which compares them."
   ]
  },
  {
   "cell_type": "code",
   "execution_count": 28,
   "metadata": {},
   "outputs": [],
   "source": [
    "# First, for each document, we fill in the embedding metadata model\n",
    "\n",
    "# from sentence_transformers import SentenceTransformer\n",
    "\n",
    "for doc in documents:\n",
    "    doc.embedding = embed_model.get_text_embedding(doc.text)\n",
    "    # sent_embed = SentenceTransformer('all-MiniLM-L6-v2').encode(doc.text)\n",
    "    # break\n",
    "\n",
    "    # break"
   ]
  },
  {
   "cell_type": "code",
   "execution_count": null,
   "metadata": {},
   "outputs": [],
   "source": [
    "from sklearn.metrics.pairwise import cosine_similarity\n",
    "import numpy as np\n",
    "\n",
    "cosine_similarity(np.array(documents[0].embedding).reshape(1, -1), np.array(documents[1].embedding).reshape(1, -1))\n",
    "\n",
    "def text_distance_metric(doc1, doc2):\n",
    "    return cosine_similarity(np.array(doc1.embedding).reshape(1, -1), np.array(doc2.embedding).reshape(1, -1))[0][0]"
   ]
  },
  {
   "cell_type": "markdown",
   "metadata": {},
   "source": [
    "# POC2: Distance Metric for Document Name\n",
    "Again - lets use the embeddings for semantic similarity and a levenstein distance for the string (syntactic) similarity"
   ]
  },
  {
   "cell_type": "code",
   "execution_count": null,
   "metadata": {},
   "outputs": [
    {
     "data": {
      "text/plain": [
       "('MPR November 2023',\n",
       " 'MPR November 2023',\n",
       " 'monetary policy report february 2024')"
      ]
     },
     "execution_count": 55,
     "metadata": {},
     "output_type": "execute_result"
    }
   ],
   "source": [
    "test_name_1 = documents[0].metadata['file_name'].split(\"/\")[-1].split(\".\")[0]\n",
    "test_name_2 = documents[1].metadata['file_name'].split(\"/\")[-1].split(\".\")[0]\n",
    "test_name_3 = documents[-1].metadata['file_name'].split(\"/\")[-1].split(\".\")[0]\n",
    "\n",
    "test_name_1, test_name_2, test_name_3"
   ]
  },
  {
   "cell_type": "code",
   "execution_count": null,
   "metadata": {},
   "outputs": [
    {
     "name": "stdout",
     "output_type": "stream",
     "text": [
      "[[0.69027683]]\n",
      "[[1.]]\n"
     ]
    }
   ],
   "source": [
    "def semantic_similarity(doc0, doc1):\n",
    "    doc0_emb = embed_model.get_text_embedding(doc0.metadata['file_name'].split(\"/\")[-1].split(\".\")[0])\n",
    "    doc1_emb = embed_model.get_text_embedding(doc1.metadata['file_name'].split(\"/\")[-1].split(\".\")[0])\n",
    "    return cosine_similarity(np.array(doc0_emb).reshape(1, -1), np.array(doc1_emb).reshape(1, -1))\n",
    "\n",
    "print(semantic_similarity(documents[0], documents[-1]))\n",
    "print(semantic_similarity(documents[0], documents[0]))"
   ]
  },
  {
   "cell_type": "code",
   "execution_count": null,
   "metadata": {},
   "outputs": [
    {
     "name": "stdout",
     "output_type": "stream",
     "text": [
      "-0.320754716981132\n",
      "1.0\n"
     ]
    }
   ],
   "source": [
    "from Levenshtein import ratio\n",
    "\n",
    "def syntactic_similarity(doc0, doc1):\n",
    "    doc0_name = doc0.metadata['file_name'].split(\"/\")[-1].split(\".\")[0]\n",
    "    doc1_name = doc1.metadata['file_name'].split(\"/\")[-1].split(\".\")[0]\n",
    "    score = ratio(doc0_name, doc1_name)\n",
    "       \n",
    "    scaled_score = 2 * (score - 0) / (1 - 0) - 1\n",
    "    \n",
    "    return scaled_score\n",
    "\n",
    "\n",
    "print(syntactic_similarity(documents[0], documents[-1]))\n",
    "print(syntactic_similarity(documents[0], documents[0]))"
   ]
  },
  {
   "cell_type": "code",
   "execution_count": null,
   "metadata": {},
   "outputs": [
    {
     "name": "stdout",
     "output_type": "stream",
     "text": [
      "0.3869673627989685\n"
     ]
    }
   ],
   "source": [
    "def name_distance_metric(doc0, doc1):\n",
    "    return 0.3 * syntactic_similarity(doc0, doc1) + 0.7 * semantic_similarity(doc0, doc1)[0][0] # Random weights\n",
    "    \n",
    "print(name_distance_metric(documents[0], documents[-1]))"
   ]
  },
  {
   "cell_type": "markdown",
   "metadata": {},
   "source": [
    "# POC3: Distance Metric for Description\n",
    "\n",
    "Simply use the embeddings for semantic similarity"
   ]
  },
  {
   "cell_type": "code",
   "execution_count": null,
   "metadata": {},
   "outputs": [
    {
     "name": "stdout",
     "output_type": "stream",
     "text": [
      "0.6220706423974953\n"
     ]
    }
   ],
   "source": [
    "def description_distance_metric(doc0, doc1):\n",
    "    \"\"\"Use the cosine distance between the description embeddings to \n",
    "    calculate the distance between the two documents\n",
    "\n",
    "    Args:\n",
    "        doc0 (_type_): _description_\n",
    "        doc1 (_type_): _description_\n",
    "\n",
    "    Returns:\n",
    "        _type_: _description_\n",
    "    \"\"\"\n",
    "    doc0_desc = doc0.metadata['Description']\n",
    "    doc1_desc = doc1.metadata['Description']\n",
    "    \n",
    "    doc0_emb = embed_model.get_text_embedding(doc0_desc)\n",
    "    doc1_emb = embed_model.get_text_embedding(doc1_desc)\n",
    "    \n",
    "    return cosine_similarity(np.array(doc0_emb).reshape(1, -1), np.array(doc1_emb).reshape(1, -1))[0][0]\n",
    "\n",
    "# Test the function\n",
    "print(description_distance_metric(documents[0], documents[-1]))"
   ]
  },
  {
   "cell_type": "markdown",
   "metadata": {},
   "source": [
    "# POC4: Distance Metric for Type\n",
    "\n",
    "Categorical which needs manual construction, given I hold the understanding of similarity here."
   ]
  },
  {
   "cell_type": "code",
   "execution_count": null,
   "metadata": {},
   "outputs": [
    {
     "name": "stdout",
     "output_type": "stream",
     "text": [
      "-1.0\n",
      "-1.0\n",
      "1\n"
     ]
    }
   ],
   "source": [
    "# I only have one type of document (MPR) in this test set, so will use dummies for now\n",
    "# I reckon we can calculate this based on initially constructing a knowledge graph of the documents.\n",
    "\n",
    "# Higher is more similar\n",
    "doc_knowledge_graph = {\n",
    "    'MPR': {\n",
    "        'press release': 0.0,\n",
    "        'research paper': 0.9,\n",
    "        'speech': 0.6\n",
    "    },\n",
    "    'press release': {\n",
    "        'research paper': 0.9,\n",
    "        'speech': 0.7\n",
    "    },\n",
    "    'research paper': {\n",
    "        'speech': 0.7\n",
    "    },\n",
    "    'speech': {}\n",
    "}\n",
    "\n",
    "def calculate_doctype_distance(doc_type1, doc_type2, doc_knowledge_graph):\n",
    "    # If the document types are the same, return 1\n",
    "    if doc_type1 == doc_type2:\n",
    "        return 1    \n",
    "    \n",
    "    # Check if the document types exist in the knowledge graph\n",
    "    if doc_type1 not in doc_knowledge_graph or doc_type2 not in doc_knowledge_graph:\n",
    "        return \"Document types not found in the knowledge graph\"\n",
    "\n",
    "    # Get the distance from the knowledge graph\n",
    "    distance = doc_knowledge_graph[doc_type1].get(doc_type2, doc_knowledge_graph[doc_type2].get(doc_type1))\n",
    "\n",
    "    if distance is None:\n",
    "        return \"No path found between the document types in the knowledge graph\"\n",
    "\n",
    "    # Scale the distance to be between -1 and 1\n",
    "    scaled_distance = round(2 * (distance - 0.5), 2)\n",
    "\n",
    "    return scaled_distance\n",
    "\n",
    "# Test the function\n",
    "print(calculate_doctype_distance('press release', 'MPR', doc_knowledge_graph))\n",
    "print(calculate_doctype_distance('MPR', 'press release', doc_knowledge_graph))\n",
    "print(calculate_doctype_distance('MPR', 'MPR', doc_knowledge_graph))"
   ]
  },
  {
   "cell_type": "markdown",
   "metadata": {},
   "source": [
    "# POC5: Distance Metric for Date\n",
    "\n",
    "Simple difference between dates"
   ]
  },
  {
   "cell_type": "code",
   "execution_count": null,
   "metadata": {},
   "outputs": [
    {
     "data": {
      "text/plain": [
       "-1"
      ]
     },
     "execution_count": 296,
     "metadata": {},
     "output_type": "execute_result"
    }
   ],
   "source": [
    "import numpy as np\n",
    "from datetime import datetime, timedelta\n",
    "\n",
    "\n",
    "def scale_date_difference(date0, date1):\n",
    "    \n",
    "    # Date 0 is our base date\n",
    "    # Date 1 is the document we're comparing.\n",
    "    \n",
    "    # Try to convert the dates to datetime objects\n",
    "    date0 = pd.to_datetime(date0)\n",
    "    date1 = pd.to_datetime(date1) \n",
    "    diff = (date0 - date1).days\n",
    "\n",
    "    # Intuition - if date 1 > date 0 by a lot then it likely isn't related at all\n",
    "    if diff < -90:\n",
    "        return -1\n",
    "    \n",
    "    # Intuition - if date 1 < date 0 by a lot then it likely isn't related at all\n",
    "    elif diff > 365:\n",
    "        return -1\n",
    "    \n",
    "    # Intuition - if the difference is within a week, return 1\n",
    "    elif -15 < diff < 15:\n",
    "        return 1\n",
    "    \n",
    "    # Scale the diff to be between -1 and 1, with the min and max values being -365 and +365\n",
    "    else:\n",
    "        scaled_diff = 2 * (diff + 365) / (365 + 365) - 1\n",
    "        # Return the scaled diff as the output of a smoothing 1/x function\n",
    "        return 1 / (0.5 + scaled_diff **2) - 1\n",
    "\n",
    "# Test the function\n",
    "scale_date_difference(documents[0].metadata['Date'], documents[-1].metadata['Date'])"
   ]
  },
  {
   "cell_type": "code",
   "execution_count": null,
   "metadata": {},
   "outputs": [
    {
     "data": {
      "image/png": "[encoded data removed]",
      "text/plain": [
       "<Figure size 1000x600 with 1 Axes>"
      ]
     },
     "metadata": {},
     "output_type": "display_data"
    }
   ],
   "source": [
    "import matplotlib.pyplot as plt\n",
    "from datetime import datetime, timedelta\n",
    "\n",
    "# Assume the scale_date_difference function is defined here\n",
    "\n",
    "# Generate a range of dates from 2 years ago to 2 years in the future\n",
    "reference_date = datetime.now()\n",
    "dates = [reference_date + timedelta(days=i) for i in range(-400, 400)]\n",
    "\n",
    "# Calculate the scaled difference for each date\n",
    "scaled_differences = [scale_date_difference(reference_date, date) for date in dates]\n",
    "\n",
    "# Plot the results\n",
    "plt.figure(figsize=(10, 6))\n",
    "plt.plot([i for i in range(-400, 400)], scaled_differences)\n",
    "# plt.axvline(x=reference_date, color='red', linestyle='dotted')\n",
    "plt.xlabel('Days difference')\n",
    "plt.ylabel('Distance metric')\n",
    "plt.title('Distance metric vs Date difference')\n",
    "plt.grid(True)\n",
    "plt.show()"
   ]
  },
  {
   "cell_type": "markdown",
   "metadata": {},
   "source": [
    "# POC6: Distance Metric for Authors\n",
    "\n",
    "Simple Jaccard similarity. \n",
    "\n",
    "Might need more sophistication in how we weight authors and the number of them involved."
   ]
  },
  {
   "cell_type": "code",
   "execution_count": null,
   "metadata": {},
   "outputs": [
    {
     "data": {
      "text/plain": [
       "1.0"
      ]
     },
     "execution_count": 273,
     "metadata": {},
     "output_type": "execute_result"
    }
   ],
   "source": [
    "test_author_list_0 = ['John Doe', 'James Doe', 'Bob Smith']\n",
    "test_author_list_1 = ['John Doe', 'James Doe', 'Bob Smith']\n",
    "test_author_list_2 = 'John Doe'\n",
    "test_author_list_3 = ['John Doe', 'James Doe', 'Bob Smith', 'Jane Doe']\n",
    "\n",
    "def fuzzy_jaccard_similarity(set1, set2, threshold):\n",
    "    \n",
    "    # Deal with the case where either one of the inputs are single item strings\n",
    "    if isinstance(set1, str) | isinstance(set2, str):\n",
    "        return fuzz.ratio(set1, set2) / 100\n",
    "    \n",
    "    if isinstance(set1, str):\n",
    "        return fuzz.ratio(set1, set2) / 100\n",
    "    \n",
    "    if len(set1) == 0 and len(set2) == 0:\n",
    "        return 0.0\n",
    "\n",
    "    \n",
    "    intersection = set()\n",
    "    for el1 in set1:\n",
    "        if el1.strip():  # Check if el1 is not an empty string\n",
    "            el2, similarity = process.extractOne(el1, set2)\n",
    "            if similarity >= threshold:\n",
    "                intersection.add(el1)\n",
    "                \n",
    "    union = len(set1) + len(set2) - len(intersection)\n",
    "    return len(intersection) / union if union != 0 else 0  # Add a check to prevent division by zero\n",
    "\n",
    "def author_distance_metric(authors0, authors1, fuzz_thresh=90):\n",
    "    \n",
    "    if isinstance(authors0, str):\n",
    "        authors0 = [authors0]\n",
    "    \n",
    "    if isinstance(authors1, str):\n",
    "        authors1 = [authors1]\n",
    "        \n",
    "    # Calculate the Jaccard similarity between the two author lists\n",
    "    jacc_sim = fuzzy_jaccard_similarity(set(authors0), set(authors1), threshold=fuzz_thresh)\n",
    "    \n",
    "    # Scale the Jaccard similarity to be between -1 and 1\n",
    "    scaled_similarity = 2 * jacc_sim - 1\n",
    "    \n",
    "    return scaled_similarity\n",
    "\n",
    "author_distance_metric(test_author_list_0, test_author_list_1)"
   ]
  },
  {
   "cell_type": "markdown",
   "metadata": {},
   "source": [
    "# POC7: Topics\n",
    "\n",
    "Could either do a Jaccard similarity, or use a knowledge graph of related topics.\n",
    "\n",
    "Not sure how to ex-ante construct this knowledge graph. There is this one https://arxiv.org/pdf/2010.05172.pdf but they don't actually make it shareable...\n",
    "\n",
    "I believe there are also nested topics - not sure how to deal with this right now... I suspect just a simple Jaccard will do..."
   ]
  },
  {
   "cell_type": "code",
   "execution_count": null,
   "metadata": {},
   "outputs": [
    {
     "data": {
      "text/plain": [
       "1.0"
      ]
     },
     "execution_count": 251,
     "metadata": {},
     "output_type": "execute_result"
    }
   ],
   "source": [
    "def topic_distance_metric(doc0, doc1, fuzz_thresh=80):\n",
    "    # Get the topics from the metadata\n",
    "    topics0 = doc0.metadata['Topics'].split(',')\n",
    "    topics1 = doc1.metadata['Topics'].split(',')\n",
    "    \n",
    "    # Calculate the Jaccard similarity between the two topic lists\n",
    "    jacc_sim = fuzzy_jaccard_similarity(set(topics0), set(topics1), threshold=fuzz_thresh)\n",
    "    \n",
    "    # Scale the Jaccard similarity to be between -1 and 1\n",
    "    scaled_similarity = 2 * jacc_sim - 1\n",
    "    \n",
    "    return scaled_similarity\n",
    "\n",
    "topic_distance_metric(documents[0], documents[1], fuzz_thresh=80)"
   ]
  },
  {
   "cell_type": "code",
   "execution_count": null,
   "metadata": {},
   "outputs": [
    {
     "data": {
      "text/plain": [
       "'Inflation, GDP, Labour Market, Forecasts'"
      ]
     },
     "execution_count": 274,
     "metadata": {},
     "output_type": "execute_result"
    }
   ],
   "source": [
    "documents[0].metadata['Topics']"
   ]
  },
  {
   "cell_type": "markdown",
   "metadata": {},
   "source": [
    "# POC8: Brands\n",
    "Same as topics - but I believe there are nested brands. Not sure how to deal with this right now..."
   ]
  },
  {
   "cell_type": "code",
   "execution_count": null,
   "metadata": {},
   "outputs": [
    {
     "name": "stdout",
     "output_type": "stream",
     "text": [
      "MPR | MPR\n"
     ]
    },
    {
     "data": {
      "text/plain": [
       "1.0"
      ]
     },
     "execution_count": 252,
     "metadata": {},
     "output_type": "execute_result"
    }
   ],
   "source": [
    "def brand_distance_metric(doc0, doc1, fuzz_thresh=80):\n",
    "    # Get the brands from the metadata\n",
    "    brands0 = doc0.metadata['Brands']\n",
    "    brands1 = doc1.metadata['Brands']\n",
    "    \n",
    "    # Calculate the Jaccard similarity between the two brand lists\n",
    "    jacc_sim = fuzzy_jaccard_similarity(set(brands0), set(brands1), threshold=fuzz_thresh)\n",
    "    \n",
    "    # Scale the Jaccard similarity to be between -1 and 1\n",
    "    scaled_similarity = 2 * jacc_sim - 1\n",
    "    \n",
    "    return scaled_similarity\n",
    "\n",
    "# Test the function\n",
    "print(documents[0].metadata['Brands'],\"|\",documents[-1].metadata['Brands'])\n",
    "\n",
    "brand_distance_metric(documents[0], documents[-1], fuzz_thresh=80)\n"
   ]
  },
  {
   "cell_type": "markdown",
   "metadata": {},
   "source": [
    "# POC9: Division\n",
    "\n",
    "Again - simple jaccard similarity\n"
   ]
  },
  {
   "cell_type": "code",
   "execution_count": null,
   "metadata": {},
   "outputs": [
    {
     "name": "stdout",
     "output_type": "stream",
     "text": [
      "Monetary Analysis | Monetary Analysis\n"
     ]
    },
    {
     "data": {
      "text/plain": [
       "1.0"
      ]
     },
     "execution_count": 301,
     "metadata": {},
     "output_type": "execute_result"
    }
   ],
   "source": [
    "def division_distance_metric(doc0, doc1, fuzz_thresh=80):\n",
    "    # Get the divisions from the metadata\n",
    "    divisions0 = doc0.metadata['Divisions']\n",
    "    divisions1 = doc1.metadata['Divisions']\n",
    "    \n",
    "    if isinstance(divisions0, str):\n",
    "        divisions0 = [divisions0]\n",
    "        \n",
    "    if isinstance(divisions1, str):\n",
    "        divisions1 = [divisions1]\n",
    "    \n",
    "    # Calculate the Jaccard similarity between the two division lists\n",
    "    jacc_sim = fuzzy_jaccard_similarity(set(divisions0), set(divisions1), threshold=fuzz_thresh)\n",
    "    \n",
    "    # Scale the Jaccard similarity to be between -1 and 1\n",
    "    scaled_similarity = 2 * jacc_sim - 1\n",
    "    \n",
    "    return scaled_similarity\n",
    "\n",
    "# Test the function\n",
    "print(documents[0].metadata['Divisions'],\"|\",documents[-1].metadata['Divisions'])\n",
    "\n",
    "division_distance_metric(documents[0], documents[-1], fuzz_thresh=80)\n"
   ]
  },
  {
   "cell_type": "markdown",
   "metadata": {},
   "source": [
    "# POC10: MPC Round\n",
    "\n",
    "Simple date distance difference, but quantised to quarters"
   ]
  },
  {
   "cell_type": "code",
   "execution_count": null,
   "metadata": {},
   "outputs": [
    {
     "data": {
      "text/plain": [
       "-1"
      ]
     },
     "execution_count": 303,
     "metadata": {},
     "output_type": "execute_result"
    }
   ],
   "source": [
    "def mpc_round_distance_metric(doc0, doc1):\n",
    "    # Get the MPC round from the metadata\n",
    "    mpc_round0 = doc0.metadata['MPC Round']\n",
    "    mpc_round1 = doc1.metadata['MPC Round']\n",
    "    \n",
    "    # If the MPC round is the same, return 1\n",
    "    if mpc_round0 == mpc_round1:\n",
    "        return 1\n",
    "    \n",
    "    # If the MPC round is different, return -1\n",
    "    else:\n",
    "        return -1\n",
    "    \n",
    "# Test the function\n",
    "mpc_round_distance_metric(documents[0], documents[-1])"
   ]
  },
  {
   "cell_type": "markdown",
   "metadata": {},
   "source": [
    "# POC11: Forecast Round\n",
    "\n",
    "Same as mpc_round\n"
   ]
  },
  {
   "cell_type": "code",
   "execution_count": null,
   "metadata": {},
   "outputs": [
    {
     "data": {
      "text/plain": [
       "-1"
      ]
     },
     "execution_count": 308,
     "metadata": {},
     "output_type": "execute_result"
    }
   ],
   "source": [
    "def forecast_round_distance_metric(doc0, doc1):\n",
    "    # Get the forecast round from the metadata\n",
    "    forecast_round0 = doc0.metadata['Forecast Round']\n",
    "    forecast_round1 = doc1.metadata['Forecast Round']\n",
    "    \n",
    "    # If the forecast round is the same, return 1\n",
    "    if forecast_round0 == forecast_round1:\n",
    "        return 1\n",
    "    \n",
    "    # If the forecast round is different, return -1\n",
    "    else:\n",
    "        return -1\n",
    "    \n",
    "forecast_round_distance_metric(documents[0], documents[-1])"
   ]
  },
  {
   "cell_type": "markdown",
   "metadata": {},
   "source": [
    "# Calculate final composite vector of all the distances\n"
   ]
  },
  {
   "cell_type": "code",
   "execution_count": null,
   "metadata": {},
   "outputs": [
    {
     "data": {
      "text/plain": [
       "[0.6246020756456541,\n",
       " 0.3869673627989685,\n",
       " 0.6220706423974953,\n",
       " 1,\n",
       " -1,\n",
       " 1.0,\n",
       " 1.0,\n",
       " 1.0,\n",
       " 1.0,\n",
       " -1,\n",
       " -1]"
      ]
     },
     "execution_count": 322,
     "metadata": {},
     "output_type": "execute_result"
    }
   ],
   "source": [
    "def calculate_distance_vector(doc0, doc1):\n",
    "    # Calculate the distance metrics for each metadata field\n",
    "    text_distance = text_distance_metric(doc0, doc1)\n",
    "    name_distance = name_distance_metric(doc0, doc1)\n",
    "    description_distance = description_distance_metric(doc0, doc1)\n",
    "    doctype_distance = calculate_doctype_distance(doc0.metadata['Type'], doc1.metadata['Type'], doc_knowledge_graph)\n",
    "    date_distance = scale_date_difference(doc0.metadata['Date'], doc1.metadata['Date'])\n",
    "    author_distance = author_distance_metric(doc0.metadata['Authors'], doc1.metadata['Authors'])\n",
    "    topic_distance = topic_distance_metric(doc0, doc1)\n",
    "    brand_distance = brand_distance_metric(doc0, doc1)\n",
    "    division_distance = division_distance_metric(doc0, doc1)\n",
    "    mpc_round_distance = mpc_round_distance_metric(doc0, doc1)\n",
    "    forecast_round_distance = forecast_round_distance_metric(doc0, doc1)\n",
    "    \n",
    "    # Construct the distance vector\n",
    "    distance_vector = [\n",
    "        text_distance,\n",
    "        name_distance,\n",
    "        description_distance,\n",
    "        doctype_distance,\n",
    "        date_distance,\n",
    "        author_distance,\n",
    "        topic_distance,\n",
    "        brand_distance,\n",
    "        division_distance,\n",
    "        mpc_round_distance,\n",
    "        forecast_round_distance\n",
    "    ]\n",
    "    \n",
    "    return distance_vector\n",
    "\n",
    "# Test the function\n",
    "calculate_distance_vector(documents[0], documents[-1])"
   ]
  },
  {
   "cell_type": "markdown",
   "metadata": {},
   "source": [
    "This distance vector would be the input into our neural network, or whatever classifier model we choose."
   ]
  },
  {
   "cell_type": "code",
   "execution_count": null,
   "metadata": {},
   "outputs": [
    {
     "data": {
      "text/plain": [
       "{'page_label': 'Cover',\n",
       " 'file_name': '/Users/lukasalemu/Documents/00. Bank of England/00. Degree/Dissertation/structured-rag/notebooks/../data/01_raw/MPR November 2023.pdf',\n",
       " 'Description': 'Our quarterly Monetary Policy Report sets out the economic analysis and inflation projections that the Monetary Policy Committee uses to make its interest rate decisions.',\n",
       " 'Type': 'MPR',\n",
       " 'Date': '2023-02-11 00:00:00',\n",
       " 'Authors': 'Bank of England',\n",
       " 'Topics': 'Inflation, GDP, Labour Market, Forecasts',\n",
       " 'Brands': 'MPR',\n",
       " 'Academic Research Cited?': 'No',\n",
       " 'Divisions': 'Monetary Analysis',\n",
       " 'MPC Round': 'Nov 2023',\n",
       " 'Forecast Round': 'Nov 2023',\n",
       " 'Tags': 'nan',\n",
       " 'Related Notes': 'nan',\n",
       " 'num_characters': '191572',\n",
       " 'num_words': '30758',\n",
       " 'most_common_words': \"{'the': 1753, 'of': 1017, 'to': 935, 'in': 931, 'and': 651}\",\n",
       " 'links': \"['https://www.bankofengland.co.uk/monetary-policy-report/2023/november-2023#chapter-10', 'https://www.bankofengland.co.uk/monetary-policy-report/2023/november-2023#chapter-10', 'https://www.federalreserve.gov/newsevents/speech/files/yellen20170926a.pdf', 'https://www.bankofengland.co.uk/speech/2018/andy-haldane-advisory-conciliation-and-arbitration-service-future-of-work-conference', 'https://www.bankofengland.co.uk/monetary-policy-report/2023/november-2023#chapter-10', 'https://www.bankofengland.co.uk/monetary-policy-report/2023/november-2023#chapter-10', 'https://www.federalreserve.gov/econres/notes/feds-notes/accumulated-savings-during-the-pandemic-an-international-comparison-with-historical-perspective-20230623.html', 'https://www.bankofengland.co.uk/speech/2023/august/ben-broadbent-panellist-at-2023-economic-policy-symposium-jackson-hole-wyoming', 'https://www.ecb.europa.eu/pub/economic-bulletin/focus/2023/html/ecb.ebbox202304_01~d76c76c27c.en.html', 'https://www.bankofengland.co.uk/-/media/boe/files/quarterly-bulletin/2018/from-the-middle-kingdom-to-the-united-kingdom-spillovers-from-china.pdf', 'https://www.bankofengland.co.uk/monetary-policy-report/2022/february-2022', 'https://www.bankofengland.co.uk/monetary-policy-report/2023/may-2023', 'https://www.fca.org.uk/news/press-releases/action-plan-cash-savings', 'https://www.fca.org.uk/news/press-releases/action-plan-cash-savings', 'https://www.bankofengland.co.uk/credit-conditions-survey/2023/2023-q3', 'https://www.bankofengland.co.uk/statistics/articles/2019/introduction-of-new-quoted-rates-data', 'https://www2.deloitte.com/uk/en/pages/finance/articles/deloitte-cfo-survey.html', 'https://www.fsb.org.uk/resource-report/small-business-index-quarter-2-2023.html', 'https://www.bva-bdrc.com/sme-finance-monitor/', 'https://www.bankofengland.co.uk/financial-policy-summary-and-record/2023/october-2023', 'https://www.bankofengland.co.uk/statistics/details/further-details-about-m4-data', 'https://www.bankofengland.co.uk/statistics/details/further-details-about-m4-excluding-intermediate-other-financial-corporations-data', 'https://www.bankofengland.co.uk/statistics/details/further-details-about-m4-excluding-intermediate-other-financial-corporations-data', 'https://www.bankofengland.co.uk/statistics/details/further-details-about-m4-lending-excluding-lending-to-intermediate-other-financial-corporations-data', 'https://www.bankofengland.co.uk/statistics/details/further-details-about-m4-lending-excluding-lending-to-intermediate-other-financial-corporations-data', 'https://bankunderground.co.uk/2023/08/17/forecasting-near-term-trends-in-the-labour-market/', 'https://bankunderground.co.uk/2023/08/17/forecasting-near-term-trends-in-the-labour-market/', 'https://www.bankofengland.co.uk/monetary-policy-report/2019/november-2019', 'https://www.bankofengland.co.uk/inflation-report/2018/february-2018', 'https://www.bankofengland.co.uk/inflation-report/2018/february-2018', 'https://www.bankofengland.co.uk/monetary-policy-report/2023/february-2023', 'https://www.bankofengland.co.uk/monetary-policy-report/2023/august-2023', 'https://www.federalreserve.gov/newsevents/speech/files/yellen20170926a.pdf', 'https://www.bankofengland.co.uk/monetary-policy-report/2023/august-2023', 'https://www.bankofengland.co.uk/monetary-policy-report/2023/august-2023', 'https://bankunderground.co.uk/2022/10/27/how-broad-based-is-the-increase-in-uk-inflation/', 'https://bankunderground.co.uk/2023/09/22/has-the-import-price-shock-been-worse-in-the-uk-or-euro-area/', 'https://bankunderground.co.uk/2023/08/30/profits-in-a-time-of-inflation-some-insights-from-recent-and-past-energy-shocks-in-the-uk/', 'https://www.ons.gov.uk/employmentandlabourmarket/peopleinwork/employmentandemployeetypes/methodologies/labourforcesurveyperformanceandqualitymonitoringreport', 'https://surveyinsights.org/?p=10452', 'https://blog.ons.gov.uk/2022/03/29/making-everybody-count-how-were-transforming-the-labour-force-survey/', 'https://blog.ons.gov.uk/2022/03/29/making-everybody-count-how-were-transforming-the-labour-force-survey/', 'https://osr.statisticsauthority.gov.uk/correspondence/ed-humpherson-to-darren-morgan-labour-market-statistics-derived-from-the-ons-labour-force-survey-lfs/', 'https://osr.statisticsauthority.gov.uk/correspondence/ed-humpherson-to-darren-morgan-labour-market-statistics-derived-from-the-ons-labour-force-survey-lfs/', 'https://www.ons.gov.uk/economy/grossdomesticproductgdp/articles/impactofbluebook2023changesongrossdomesticproduct/2023-09-01', 'https://blog.ons.gov.uk/2023/09/01/improving-our-estimate-of-businesses-outgoings-during-the-covid-19-pandemic/', 'https://blog.ons.gov.uk/2023/09/01/improving-our-estimate-of-businesses-outgoings-during-the-covid-19-pandemic/', 'https://www.bankofengland.co.uk/speech/2023/may/andrew-bailey-keynote-speech-british-chambers-of-commerce-global-annual-conference', 'https://www.imf.org/en/Publications/WEO/Issues/2023/10/10/world-economic-outlook-october-2023', 'https://www.resolutionfoundation.org/publications/arrears-fears/', 'https://www.bankofengland.co.uk/speech/2023/february/catherine-l-mann-speech-resolution-foundation', 'https://www.bankofengland.co.uk/speech/2023/february/catherine-l-mann-speech-resolution-foundation', 'https://www.bankofengland.co.uk/monetary-policy-report/2023/may-2023', 'https://www.bankofengland.co.uk/monetary-policy-report/2023/may-2023', 'https://www.dnb.nl/media/vkumkxmi/working-paper-no-551_tcm47-355601.pdf', 'https://www.bankofengland.co.uk/working-paper/2022/financial-concerns-and-the-marginal-propensity-to-consume-in-covid-times', 'https://www.bankofengland.co.uk/monetary-policy-report/2023/may-2023', 'https://www.bankofengland.co.uk/monetary-policy-report/2023/may-2023', 'https://ideas.repec.org/a/eee/finana/v42y2015icp316-323.html', 'https://www.bankofengland.co.uk/quarterly-bulletin/2006/q2/house-prices-and-consumer-spending', 'https://www.bankofengland.co.uk/speech/2022/october/ben-broadbent-speech-at-imperial-college-the-inflationary-consequences-of-real-shocks', 'https://www.bankofengland.co.uk/bank-overground/2023/has-the-private-rental-sector-been-shrinking', 'https://www.ons.gov.uk/economy/grossdomesticproductgdp/bulletins/businessinvestment/apriltojune2023provisionalresults', 'https://www.ons.gov.uk/economy/grossdomesticproductgdp/bulletins/businessinvestment/apriltojune2023provisionalresults', 'https://www.ons.gov.uk/economy/grossdomesticproductgdp/bulletins/businessinvestment/apriltojune2023revisedresults', 'https://www.ons.gov.uk/economy/grossdomesticproductgdp/bulletins/businessinvestment/apriltojune2023revisedresults']\"}"
      ]
     },
     "execution_count": 305,
     "metadata": {},
     "output_type": "execute_result"
    }
   ],
   "source": [
    "documents[0].metadata"
   ]
  },
  {
   "cell_type": "code",
   "execution_count": 32,
   "metadata": {},
   "outputs": [
    {
     "data": {
      "text/plain": [
       "232"
      ]
     },
     "execution_count": 32,
     "metadata": {},
     "output_type": "execute_result"
    }
   ],
   "source": [
    "import sys\n",
    "metadata_dict = {}\n",
    "for doc in documents:\n",
    "    metadata_dict[doc.metadata['file_name']] = doc.metadata\n",
    "    \n",
    "sys.getsizeof(metadata_dict)"
   ]
  },
  {
   "cell_type": "code",
   "execution_count": 33,
   "metadata": {},
   "outputs": [
    {
     "data": {
      "text/plain": [
       "1656"
      ]
     },
     "execution_count": 33,
     "metadata": {},
     "output_type": "execute_result"
    }
   ],
   "source": [
    "sys.getsizeof(documents)"
   ]
  }
 ],
 "metadata": {
  "kernelspec": {
   "display_name": "diss_rag",
   "language": "python",
   "name": "python3"
  },
  "language_info": {
   "codemirror_mode": {
    "name": "ipython",
    "version": 3
   },
   "file_extension": ".py",
   "mimetype": "text/x-python",
   "name": "python",
   "nbconvert_exporter": "python",
   "pygments_lexer": "ipython3",
   "version": "3.10.13"
  }
 },
 "nbformat": 4,
 "nbformat_minor": 2
}
