{
 "cells": [
  {
   "cell_type": "markdown",
   "metadata": {},
   "source": [
    "# Dev\n",
    "\n",
    "- [] Fix the categorical knowledge graph"
   ]
  },
  {
   "cell_type": "code",
   "execution_count": 63,
   "metadata": {},
   "outputs": [
    {
     "name": "stdout",
     "output_type": "stream",
     "text": [
      "The autoreload extension is already loaded. To reload it, use:\n",
      "  %reload_ext autoreload\n",
      "Modules to reload:\n",
      "all-except-skipped\n",
      "\n",
      "Modules to skip:\n",
      "\n"
     ]
    }
   ],
   "source": [
    "%load_ext autoreload\n",
    "%autoreload all\n",
    "%aimport"
   ]
  },
  {
   "cell_type": "code",
   "execution_count": 69,
   "metadata": {},
   "outputs": [],
   "source": [
    "import os\n",
    "import sys\n",
    "import pickle\n",
    "import networkx as nx\n",
    "import matplotlib as mpl\n",
    "import numpy as np\n",
    "import random\n",
    "import matplotlib.pyplot as plt\n",
    "import re\n",
    "from pprint import pprint\n",
    "\n",
    "# Add the project root directory to the system path\n",
    "project_root = os.path.abspath(os.path.join(os.getcwd(), \"..\"))\n",
    "sys.path.append(project_root)\n",
    "\n",
    "from StructuredRag.evaluation import graph_scoring\n",
    "from StructuredRag.processing import graph_construction\n",
    "from StructuredRag.algorithms import v0, v1\n",
    "from StructuredRag.processing import distance_metrics"
   ]
  },
  {
   "cell_type": "code",
   "execution_count": 41,
   "metadata": {},
   "outputs": [
    {
     "name": "stdout",
     "output_type": "stream",
     "text": [
      "Loading item: adj_matrix\n",
      "Loading item: embedded_index\n",
      "Loading item: notes\n"
     ]
    }
   ],
   "source": [
    "### Load the embedded index\n",
    "run_path = 'v0/2024-05-17'\n",
    "\n",
    "data = {}\n",
    "# Read the data for the specified experiment\n",
    "for item in os.listdir('../results/' + run_path):\n",
    "    print('Loading item:', item.split('.')[0])\n",
    "    \n",
    "    with open('../results/' + run_path + '/' + item, 'rb') as f:\n",
    "        data[item.split('.')[0]] = pickle.load(f)\n",
    "\n",
    "embedded_index = data['embedded_index']"
   ]
  },
  {
   "cell_type": "markdown",
   "metadata": {},
   "source": [
    "# Doctype"
   ]
  },
  {
   "cell_type": "code",
   "execution_count": 3,
   "metadata": {},
   "outputs": [
    {
     "data": {
      "text/plain": [
       "{'Background Reading', 'Essential Reading', 'Recommended reading'}"
      ]
     },
     "execution_count": 3,
     "metadata": {},
     "output_type": "execute_result"
    }
   ],
   "source": [
    "### Print out all the different types of document\n",
    "doc_types = []\n",
    "for doc in embedded_index:\n",
    "    doc_types.append(doc.metadata['Type'])\n",
    "\n",
    "set(doc_types)"
   ]
  },
  {
   "cell_type": "code",
   "execution_count": 4,
   "metadata": {},
   "outputs": [
    {
     "name": "stdout",
     "output_type": "stream",
     "text": [
      "Essential Reading || Recommended reading || -1\n"
     ]
    }
   ],
   "source": [
    "doc1 = embedded_index[random.randint(0, 100)]\n",
    "doc2 = embedded_index[random.randint(0, 100)]\n",
    "\n",
    "print(doc1.metadata['Type'], '||', doc2.metadata['Type'], '||', distance_metrics.doctype_distance_metric(doc1, doc2))"
   ]
  },
  {
   "cell_type": "code",
   "execution_count": 12,
   "metadata": {},
   "outputs": [
    {
     "data": {
      "text/plain": [
       "<function matplotlib.pyplot.show(close=None, block=None)>"
      ]
     },
     "execution_count": 12,
     "metadata": {},
     "output_type": "execute_result"
    },
    {
     "data": {
      "image/png": "[encoded data removed]",
      "text/plain": [
       "<Figure size 640x480 with 1 Axes>"
      ]
     },
     "metadata": {},
     "output_type": "display_data"
    }
   ],
   "source": [
    "results = []\n",
    "for i in range(1000):\n",
    "    doc1 = embedded_index[random.randint(0, len(embedded_index)-1)]\n",
    "    doc2 = embedded_index[random.randint(0, len(embedded_index)-1)]\n",
    "\n",
    "    results.append(\n",
    "        distance_metrics.doctype_distance_metric(doc1, doc2)\n",
    "    )\n",
    "\n",
    "plt.hist(results)\n",
    "plt.show\n"
   ]
  },
  {
   "cell_type": "markdown",
   "metadata": {},
   "source": [
    "# Authors"
   ]
  },
  {
   "cell_type": "code",
   "execution_count": 13,
   "metadata": {},
   "outputs": [
    {
     "data": {
      "text/plain": [
       "{'Alexis Tessier, Luc Tucker',\n",
       " 'Alice Pugh',\n",
       " 'Alice Pugh, Lauren Barnes, Edwin Millar',\n",
       " 'Alice Pugh, Oliver Davies, Jenny Chan, Lauren Barnes, Edwin Millar',\n",
       " 'Angus Foulis, Saleem Bahaj, Gabor Pinter',\n",
       " 'Annalisa Stoddart',\n",
       " 'David Latto, Christopher Jackson, Alex Rattan, Edward Hall',\n",
       " 'David Latto, Liam Crowley-Reidy, Fergal Shortall, Maria Barriel',\n",
       " 'Fabrizio Cadamagnani',\n",
       " 'Fabrizio Cadamagnani, Georgina Green, Ryan Murphy',\n",
       " 'Florence Hubert, Frances Hill, Louise Parreira, Alexis Tessier, Iain Duff',\n",
       " 'Gabija Zemaityte, Jack Page, Sonal Patel, Mirko Licchetta, Julian Reynolds, James Own',\n",
       " 'Helena Patterson, Azuolas Alisauskas, Iain Ramsay, Sean Maloney',\n",
       " 'Iain Ramsay, William Hynes, Helena Patterson, Sean Maloney, Azuolas Alisauskas',\n",
       " 'Ian Short',\n",
       " 'James Owen, Shibo Feng, Katie Farrant, Julian Reynolds, Emil Iordanov, Edward Manual, Hamzah Abbas',\n",
       " 'Jamie Satchithanantham, Rebecca Piggott, Colm Manning',\n",
       " 'Jasmine Stenning, Katie Taylor, Hamzah Abbas',\n",
       " 'Jenny Chan, Fergus Cumming, Olga Maizels, Kate Reinold',\n",
       " 'Joe Ganley',\n",
       " 'John Lewis, Antoine Lallour',\n",
       " 'Johnny, Elliot',\n",
       " 'Justin Beresford',\n",
       " 'Kerry Hatcher',\n",
       " 'Kristina Bluwstein, Marcus Buckmann, Andreas Joseph, Miao Kang',\n",
       " 'Lauren Barnes, Edwin Millar',\n",
       " 'Liam Crowley-Reidy, Seema Visavadia',\n",
       " 'Liam Crowley-Reidy, Serdar Sengul',\n",
       " 'Malindi Myers',\n",
       " 'Maren Froemel, Edwin Millar, Ryland Thomas',\n",
       " 'Maren Froemel, Iryna Kaminska, Ryland Thomas',\n",
       " 'Marta Lopresto',\n",
       " 'Mo Wazzi, Chris Duffy, Tim Boobier, Annalisa Stoddart, Gabija Zemaityte',\n",
       " 'Mo Wazzi, Chris Duffy, Tim Boobier, Gabija Zemaityte',\n",
       " 'Natalie Burr',\n",
       " 'Rob Elder',\n",
       " 'Ryan Murphy',\n",
       " 'Seema, Visavadia',\n",
       " 'Simon Whitaker, Thomas Viegas, Lukas von dem Berge, Gabija Zemaityte',\n",
       " 'Stephen Millard',\n",
       " 'Thomas Wise, Edward Manual, Jack Page, Alice Pugh, Anina Thiel, Anisha Tibrewal, Thomas Viegas',\n",
       " 'Will Dison, Mirko Licchetta, Sonal Patel, James Owen, Anisha Tibrewal, Simon Whitaker',\n",
       " 'Will Dison, Shibo Feng, Julian Reynolds',\n",
       " 'Will Dison, Shibo Feng, Julian Reynolds, Paul Alexander, Andrew Butcher, Christopher Mills',\n",
       " 'Zaar Khan, Nishat Anjum, Marta Lopresto'}"
      ]
     },
     "execution_count": 13,
     "metadata": {},
     "output_type": "execute_result"
    }
   ],
   "source": [
    "doc_types = []\n",
    "for doc in embedded_index:\n",
    "    doc_types.append(doc.metadata['Authors'])\n",
    "\n",
    "set(doc_types)"
   ]
  },
  {
   "cell_type": "code",
   "execution_count": 23,
   "metadata": {},
   "outputs": [
    {
     "name": "stdout",
     "output_type": "stream",
     "text": [
      "Will Dison, Shibo Feng, Julian Reynolds, Paul Alexander, Andrew Butcher, Christopher Mills || Will Dison, Shibo Feng, Julian Reynolds || 0.0\n"
     ]
    }
   ],
   "source": [
    "doc1 = embedded_index[random.randint(0, 100)]\n",
    "doc2 = embedded_index[random.randint(0, 100)]\n",
    "\n",
    "print(doc1.metadata['Authors'], '||', doc2.metadata['Authors'], '||', distance_metrics.author_distance_metric(doc1, doc2))"
   ]
  },
  {
   "cell_type": "code",
   "execution_count": 50,
   "metadata": {},
   "outputs": [
    {
     "data": {
      "text/plain": [
       "('Jasmine Stenning, Katie Taylor, Hamzah Abbas',\n",
       " 'James Owen, Shibo Feng, Katie Farrant, Julian Reynolds, Emil Iordanov, Edward Manual, Hamzah Abbas')"
      ]
     },
     "execution_count": 50,
     "metadata": {},
     "output_type": "execute_result"
    }
   ],
   "source": [
    "doc1.metadata['Authors'], doc2.metadata['Authors']"
   ]
  },
  {
   "cell_type": "code",
   "execution_count": 24,
   "metadata": {},
   "outputs": [
    {
     "data": {
      "text/plain": [
       "<function matplotlib.pyplot.show(close=None, block=None)>"
      ]
     },
     "execution_count": 24,
     "metadata": {},
     "output_type": "execute_result"
    },
    {
     "data": {
      "image/png": "[encoded data removed]",
      "text/plain": [
       "<Figure size 640x480 with 1 Axes>"
      ]
     },
     "metadata": {},
     "output_type": "display_data"
    }
   ],
   "source": [
    "results = []\n",
    "for i in range(1000):\n",
    "    doc1 = embedded_index[random.randint(0, len(embedded_index)-1)]\n",
    "    doc2 = embedded_index[random.randint(0, len(embedded_index)-1)]\n",
    "\n",
    "    results.append(\n",
    "        distance_metrics.author_distance_metric(doc1, doc2)\n",
    "    )\n",
    "\n",
    "plt.hist(results)\n",
    "plt.show\n"
   ]
  },
  {
   "cell_type": "markdown",
   "metadata": {},
   "source": [
    "# Fix topic"
   ]
  },
  {
   "cell_type": "code",
   "execution_count": 3,
   "metadata": {},
   "outputs": [
    {
     "data": {
      "text/plain": [
       "{'Business Conditions',\n",
       " 'Chartpack',\n",
       " 'Financial Markets',\n",
       " 'Financial Markets > Interest Rates, Policy',\n",
       " 'Financial Markets > Interest Rates, Policy > Forecast, Policy > Quantitative Easing',\n",
       " 'Financial Markets, International, Methodology, Policy > Forecast',\n",
       " 'Financial Markets, Money and Credit > Credit Conditions',\n",
       " 'GDP',\n",
       " 'GDP > Near Term Outlook',\n",
       " 'GDP, GDP > Near Term Outlook',\n",
       " 'GDP, Inflation, International, Labour Market',\n",
       " 'GDP, Inflation, Labour Market',\n",
       " 'GDP, Inflation, Labour Market > Unemployment',\n",
       " 'Includes Fim Data/Of Supervisory Interest',\n",
       " 'Inflation',\n",
       " 'Inflation > Inflation Expectations, Business Conditions',\n",
       " 'Inflation, GDP',\n",
       " 'Inflation, GDP, International, UK Trade, Labour Market',\n",
       " 'International',\n",
       " 'International > Asia and EMEs',\n",
       " 'International > Asia and EMEs, International > World Activity',\n",
       " 'International, International > Asia and EMEs',\n",
       " 'International, International > World Activity',\n",
       " 'Investment and Corporate, Labour Market, Policy',\n",
       " 'Labour Market, Inflation, Inflation > Inflation Expectations',\n",
       " 'Money and Credit',\n",
       " 'Money and Credit > Credit Conditions',\n",
       " 'Money and Credit > Credit Conditions, Money and Credit > Bank Funding and Capital, Policy > Forecast',\n",
       " 'Money and Credit, Money and Credit > Credit Conditions',\n",
       " 'Money and Credit, Money and Credit > Credit Conditions, Money and Credit > Bank Funcding and Capital',\n",
       " 'Policy > Forecast',\n",
       " 'Policy > Forecast, UK Trade > Trade Volumes, Supply',\n",
       " 'Policy > Monetary Strategy',\n",
       " 'Policy > Quantitative Easing, Policy > Forecast',\n",
       " 'Policy, Financial Markets > Interest Rates',\n",
       " 'Supply, Policy > Forecast',\n",
       " 'Supply, Supply > Productivity, Supply > Spare capacity, Policy > Forecast'}"
      ]
     },
     "execution_count": 3,
     "metadata": {},
     "output_type": "execute_result"
    }
   ],
   "source": [
    "doc_types = []\n",
    "for doc in embedded_index:\n",
    "    doc_types.append(doc.metadata['Topics'])\n",
    "\n",
    "set(doc_types)\n",
    "\n",
    "# embedded_index[0].metadata"
   ]
  },
  {
   "cell_type": "code",
   "execution_count": 5,
   "metadata": {},
   "outputs": [
    {
     "data": {
      "text/plain": [
       "<function matplotlib.pyplot.show(close=None, block=None)>"
      ]
     },
     "execution_count": 5,
     "metadata": {},
     "output_type": "execute_result"
    },
    {
     "data": {
      "image/png": "[encoded data removed]",
      "text/plain": [
       "<Figure size 640x480 with 1 Axes>"
      ]
     },
     "metadata": {},
     "output_type": "display_data"
    }
   ],
   "source": [
    "results = []\n",
    "for i in range(1000):\n",
    "    doc1 = embedded_index[random.randint(0, len(embedded_index)-1)]\n",
    "    doc2 = embedded_index[random.randint(0, len(embedded_index)-1)]\n",
    "    \n",
    "    doc1_topics = re.split('r[>,]', doc1.metadata['Topics'])\n",
    "    doc2_topics = re.split('r[>,]', doc2.metadata['Topics'])\n",
    "    \n",
    "    results.append(\n",
    "        distance_metrics.topic_distance_metric(doc1, doc2)\n",
    "        # distance_metrics.fuzzy_jaccard_similarity(doc1_topics, doc2_topics, threshold=80)\n",
    "    )\n",
    "\n",
    "plt.hist(results)\n",
    "plt.show\n"
   ]
  },
  {
   "cell_type": "code",
   "execution_count": 7,
   "metadata": {},
   "outputs": [
    {
     "name": "stdout",
     "output_type": "stream",
     "text": [
      "['GDP', 'Inflation', 'International', 'Labour Market'] || ['Policy', 'Financial Markets', 'Interest Rates'] || -1.0\n"
     ]
    }
   ],
   "source": [
    "doc1 = embedded_index[random.randint(0, 100)]\n",
    "doc2 = embedded_index[random.randint(0, 100)]\n",
    "\n",
    "doc1_topics = [topic.strip() for topic in re.split(r'[>|,]', doc1.metadata['Topics'])]\n",
    "doc2_topics = [topic.strip() for topic in re.split(r'[>|,]', doc2.metadata['Topics'])]\n",
    "\n",
    "\n",
    "print(doc1_topics, '||', doc2_topics, '||', distance_metrics.topic_distance_metric(doc1, doc2))"
   ]
  },
  {
   "cell_type": "markdown",
   "metadata": {},
   "source": [
    "# Brands"
   ]
  },
  {
   "cell_type": "code",
   "execution_count": 118,
   "metadata": {},
   "outputs": [
    {
     "data": {
      "text/plain": [
       "{'Agency',\n",
       " 'CAPD > External Forecasters',\n",
       " 'CAPD > Forecast Judgements Tracker',\n",
       " 'International Directorate',\n",
       " 'International Directorate > Global Pulse',\n",
       " 'International Directorate > International Analysis Note',\n",
       " 'International Directorate > International Forecast Note',\n",
       " 'MA-wide',\n",
       " 'MA-wide > Bank Underground',\n",
       " 'MA-wide > Note for Record',\n",
       " 'MA-wide > Pre-MPC Follow Up Questions',\n",
       " 'MA-wide > Research Insights',\n",
       " 'MA-wide > Research Summary',\n",
       " 'MASD > Balance Sheet Model Note',\n",
       " 'MASD > Forecast',\n",
       " 'MFAD > Quarterly Asset Price Note',\n",
       " 'nan'}"
      ]
     },
     "execution_count": 118,
     "metadata": {},
     "output_type": "execute_result"
    }
   ],
   "source": [
    "doc_types = []\n",
    "for doc in embedded_index:\n",
    "    doc_types.append(doc.metadata['Brands'])\n",
    "\n",
    "set(doc_types)\n",
    "\n",
    "# embedded_index[0].metadata"
   ]
  },
  {
   "cell_type": "code",
   "execution_count": 119,
   "metadata": {},
   "outputs": [
    {
     "data": {
      "text/plain": [
       "'MA-wide > Note for Record'"
      ]
     },
     "execution_count": 119,
     "metadata": {},
     "output_type": "execute_result"
    }
   ],
   "source": [
    "\n",
    "doc1 = embedded_index[random.randint(0, len(embedded_index)-1)]\n",
    "doc2 = embedded_index[random.randint(0, len(embedded_index)-1)]\n",
    "\n",
    "doc1.metadata['Brands']"
   ]
  },
  {
   "cell_type": "code",
   "execution_count": 124,
   "metadata": {},
   "outputs": [
    {
     "data": {
      "text/plain": [
       "<function matplotlib.pyplot.show(close=None, block=None)>"
      ]
     },
     "execution_count": 124,
     "metadata": {},
     "output_type": "execute_result"
    },
    {
     "data": {
      "image/png": "[encoded data removed]",
      "text/plain": [
       "<Figure size 640x480 with 1 Axes>"
      ]
     },
     "metadata": {},
     "output_type": "display_data"
    }
   ],
   "source": [
    "results = []\n",
    "for i in range(1000):\n",
    "    doc1 = embedded_index[random.randint(0, len(embedded_index)-1)]\n",
    "    doc2 = embedded_index[random.randint(0, len(embedded_index)-1)]\n",
    "    \n",
    "    results.append(\n",
    "        distance_metrics.brand_distance_metric(doc1, doc2)\n",
    "        # distance_metrics.fuzzy_jaccard_similarity(doc1_topics, doc2_topics, threshold=80)\n",
    "    )\n",
    "\n",
    "plt.hist(results)\n",
    "plt.show\n"
   ]
  },
  {
   "cell_type": "code",
   "execution_count": 123,
   "metadata": {},
   "outputs": [
    {
     "data": {
      "text/plain": [
       "{-1.0, -0.334, 0, 1.0, 3.0}"
      ]
     },
     "execution_count": 123,
     "metadata": {},
     "output_type": "execute_result"
    }
   ],
   "source": [
    "set(results)"
   ]
  },
  {
   "cell_type": "code",
   "execution_count": 125,
   "metadata": {},
   "outputs": [
    {
     "name": "stdout",
     "output_type": "stream",
     "text": [
      "['nan'] || ['nan'] || 0\n"
     ]
    }
   ],
   "source": [
    "doc1 = embedded_index[random.randint(0, 100)]\n",
    "doc2 = embedded_index[random.randint(0, 100)]\n",
    "\n",
    "doc1_brands = [brand.strip() for brand in re.split(r'[>|,]', doc1.metadata['Brands'])]\n",
    "doc2_brands = [brand.strip() for brand in re.split(r'[>|,]', doc2.metadata['Brands'])]\n",
    "\n",
    "print(doc1_brands, '||', doc2_brands, '||', distance_metrics.brand_distance_metric(doc1, doc2))"
   ]
  },
  {
   "cell_type": "code",
   "execution_count": 19,
   "metadata": {},
   "outputs": [
    {
     "data": {
      "text/plain": [
       "True"
      ]
     },
     "execution_count": 19,
     "metadata": {},
     "output_type": "execute_result"
    }
   ],
   "source": [
    "doc1_brands[0].lower() == 'nan'"
   ]
  },
  {
   "cell_type": "markdown",
   "metadata": {},
   "source": [
    "# Division"
   ]
  },
  {
   "cell_type": "code",
   "execution_count": 100,
   "metadata": {},
   "outputs": [
    {
     "data": {
      "text/plain": [
       "{'Agencies',\n",
       " 'Centre for Central Bkg Studies, Research Hub',\n",
       " \"Conj Ass'Ment & Projectn - Div 4\",\n",
       " 'Current Economic Conditions Division',\n",
       " 'External Engagement Division',\n",
       " 'FS, Statistics and Regulatory Data',\n",
       " 'International Directorate',\n",
       " 'MP COO Division',\n",
       " 'Markets',\n",
       " 'Markets, Monetary and Financial Conditions',\n",
       " 'Monetary Analysis, International Directorate',\n",
       " 'Monetary Analysis, Monetary Policy Outlook Division',\n",
       " 'Monetary Policy Outlook Division',\n",
       " 'Monetary Policy Outlook Division, International Directorate',\n",
       " 'Monetary Policy Outlook Division, Monetary and Financial Conditions',\n",
       " 'Monetary Policy Outlook Division, Prudential Policy Division',\n",
       " 'Monetary and Financial Conditions',\n",
       " 'Monetary and Financial Conditions, Macro-Financial Risk Division',\n",
       " 'Monetary and Financial Conditions, Markets, International Directorate',\n",
       " 'Research Hub',\n",
       " 'Structural Economics Division'}"
      ]
     },
     "execution_count": 100,
     "metadata": {},
     "output_type": "execute_result"
    }
   ],
   "source": [
    "doc_types = []\n",
    "for doc in embedded_index:\n",
    "    doc_types.append(doc.metadata['Divisions'])\n",
    "\n",
    "set(doc_types)\n",
    "\n",
    "# embedded_index[0].metadata"
   ]
  },
  {
   "cell_type": "code",
   "execution_count": 104,
   "metadata": {},
   "outputs": [],
   "source": [
    "doc1 = embedded_index[random.randint(0, len(embedded_index)-1)]\n",
    "doc2 = embedded_index[random.randint(0, len(embedded_index)-1)]"
   ]
  },
  {
   "cell_type": "code",
   "execution_count": 186,
   "metadata": {},
   "outputs": [
    {
     "data": {
      "text/plain": [
       "<function matplotlib.pyplot.show(close=None, block=None)>"
      ]
     },
     "execution_count": 186,
     "metadata": {},
     "output_type": "execute_result"
    },
    {
     "data": {
      "image/png": "[encoded data removed]",
      "text/plain": [
       "<Figure size 640x480 with 1 Axes>"
      ]
     },
     "metadata": {},
     "output_type": "display_data"
    }
   ],
   "source": [
    "results = []\n",
    "for i in range(1000):\n",
    "    doc1 = embedded_index[random.randint(0, len(embedded_index)-1)]\n",
    "    doc2 = embedded_index[random.randint(0, len(embedded_index)-1)]\n",
    "    \n",
    "    results.append(\n",
    "        distance_metrics.division_distance_metric(doc1, doc2, fuzz_thresh=80)\n",
    "    )\n",
    "\n",
    "plt.hist(results)\n",
    "plt.show"
   ]
  },
  {
   "cell_type": "code",
   "execution_count": 187,
   "metadata": {},
   "outputs": [
    {
     "data": {
      "text/plain": [
       "{-1.0, -0.334, 0.0, 1.0}"
      ]
     },
     "execution_count": 187,
     "metadata": {},
     "output_type": "execute_result"
    }
   ],
   "source": [
    "set(results)"
   ]
  },
  {
   "cell_type": "code",
   "execution_count": 153,
   "metadata": {},
   "outputs": [
    {
     "name": "stdout",
     "output_type": "stream",
     "text": [
      "['Markets']\n",
      "0.0\n",
      "['Markets'] || ['Research Hub'] || -1.0\n"
     ]
    }
   ],
   "source": [
    "doc1 = embedded_index[random.randint(0, 100)]\n",
    "doc2 = embedded_index[random.randint(0, 100)]\n",
    "\n",
    "doc1_divisions = [brand.strip() for brand in re.split(r'[>|,]', doc1.metadata['Divisions'])]\n",
    "doc2_divisions = [brand.strip() for brand in re.split(r'[>|,]', doc2.metadata['Divisions'])]\n",
    "\n",
    "# print(doc1_brands, '||', doc2_brands, '||', distance_metrics.fuzzy_jaccard_similarity(doc1_divisions, doc2_divisions,80))\n",
    "print(doc1_divisions, '||', doc2_divisions, '||', distance_metrics.division_distance_metric(doc1, doc2,80))"
   ]
  },
  {
   "cell_type": "code",
   "execution_count": 132,
   "metadata": {},
   "outputs": [
    {
     "name": "stdout",
     "output_type": "stream",
     "text": [
      "0.0\n",
      "['nan'] || ['nan'] || -1.0\n"
     ]
    }
   ],
   "source": [
    "print(doc1_brands, '||', doc2_brands, '||', distance_metrics.division_distance_metric(doc1, doc2,80))"
   ]
  },
  {
   "cell_type": "markdown",
   "metadata": {},
   "source": []
  },
  {
   "cell_type": "code",
   "execution_count": null,
   "metadata": {},
   "outputs": [],
   "source": []
  },
  {
   "cell_type": "markdown",
   "metadata": {},
   "source": [
    "# Other"
   ]
  },
  {
   "cell_type": "code",
   "execution_count": 188,
   "metadata": {},
   "outputs": [
    {
     "data": {
      "text/plain": [
       "{'page_label': '1',\n",
       " 'file_name': 'Agencies Pay and Labour Market Survey (MPC Note - January 2020).pdf',\n",
       " 'Description': 'For 2020, survey respondents expect pay settlements to remain flat at the 2.9% reported for 2019. \\nIn contrast, respondents expect growth in total labour costs per employee to increase somewhat.  While the difference could partly reflect the impact of non-pay benefits and changes in the composition of the workforce, we would put more weight on the steer from the settlements responses for the outlook for pay growth. \\nAs in 2019, the “Ability to recruit and retain staff” and “the National Living Wage” are driving up the growth rate of total labour costs per employee in 2020.  “Brexit Uncertainty”, “Changes in profitability” and “Economic Uncertainty” continue to pull down on the change in the growth rate of total labour costs per employee. ',\n",
       " 'Type': 'Recommended reading',\n",
       " 'Date': '2020-01-15 00:00:00',\n",
       " 'Authors': 'Florence Hubert, Frances Hill, Louise Parreira, Alexis Tessier, Iain Duff',\n",
       " 'Topics': 'Inflation > Inflation Expectations, Business Conditions',\n",
       " 'Brands': 'Agency',\n",
       " 'Academic Research Cited?': 'No',\n",
       " 'Divisions': 'Agencies',\n",
       " 'MPC Round': 'MPC January 2020',\n",
       " 'Forecast Round': 'nan',\n",
       " 'Tags': 'nan',\n",
       " 'Related Notes': 'nan',\n",
       " 'num_characters': '12051',\n",
       " 'num_words': '1893',\n",
       " 'most_common_words': \"{'in': 64, 'to': 59, 'of': 59, 'the': 57, 'growth': 28}\",\n",
       " 'links': '[]',\n",
       " 'embedded_name': array([-2.87378095e-02, -9.85991135e-02, -9.61427689e-02,  6.92047700e-02,\n",
       "         4.05880176e-02,  7.70706311e-02, -1.55329946e-02, -6.40100241e-02,\n",
       "        -4.27998640e-02,  4.88111228e-02, -1.81365684e-02, -6.46361038e-02,\n",
       "        -5.49022183e-02,  2.98001114e-02,  3.69881727e-02,  3.16698402e-02,\n",
       "         3.41093764e-02, -1.99468844e-02,  1.00366250e-01, -2.78434325e-02,\n",
       "        -6.51157647e-02, -1.75398160e-02, -8.40129680e-04, -6.49309158e-02,\n",
       "         2.38604029e-03, -9.07162484e-03, -6.20687939e-03,  3.28293629e-02,\n",
       "        -1.36910165e-02,  2.81526577e-02,  4.23405878e-03,  3.55928913e-02,\n",
       "         7.32570933e-03,  4.38311696e-02,  1.28598541e-01, -4.93779704e-02,\n",
       "         1.58067625e-02, -6.02024347e-02, -7.23742833e-03,  2.22260132e-02,\n",
       "         1.52676385e-02, -8.78719091e-02, -7.75700202e-03, -4.05083038e-02,\n",
       "        -1.53512117e-02,  3.41266692e-02,  2.60305218e-02,  5.61630316e-02,\n",
       "        -7.14780912e-02,  1.19009040e-01, -3.40519398e-02, -1.66080836e-02,\n",
       "         4.24693786e-02,  1.18479021e-02, -2.10397039e-02, -1.38417939e-02,\n",
       "        -2.52627339e-02, -2.67053326e-03, -3.64070362e-03,  2.85634547e-02,\n",
       "        -8.52625221e-02,  1.90740195e-03, -1.10480584e-01,  5.68103045e-02,\n",
       "         5.97676598e-02, -2.92401686e-02, -9.81596261e-02, -3.37588415e-02,\n",
       "        -6.07696874e-03, -8.25442374e-02, -4.68366779e-02, -1.20452918e-01,\n",
       "         5.74870408e-03, -1.19376592e-01,  2.34812107e-02,  3.07189617e-02,\n",
       "        -2.46892013e-02,  5.23740761e-02,  5.76828457e-02, -9.22192037e-02,\n",
       "         2.30705831e-02, -5.94022162e-02, -5.97538352e-02,  4.06845212e-02,\n",
       "        -5.51466085e-02, -1.31866606e-02,  4.97315563e-02,  3.25134508e-02,\n",
       "         2.85016522e-02, -3.92195098e-02,  9.19133946e-02,  6.03968911e-02,\n",
       "        -3.89976986e-02,  3.33295278e-02,  4.39603031e-02, -1.83045212e-02,\n",
       "        -7.67369382e-03,  4.37744707e-02,  2.08943784e-02,  4.05935869e-02,\n",
       "        -1.53181450e-02, -2.24100775e-03, -5.35238385e-02,  8.21191296e-02,\n",
       "        -9.15624276e-02, -1.31472740e-02,  1.22580770e-02,  4.63108681e-02,\n",
       "         3.37658748e-02, -1.68918096e-03, -3.93546224e-02,  5.73185384e-02,\n",
       "        -9.92510188e-03,  2.15285458e-02,  6.50066808e-02, -8.17869455e-02,\n",
       "        -3.96136846e-03,  4.27579731e-02,  1.46785555e-02,  5.61069138e-02,\n",
       "         2.69372892e-02,  2.81589013e-02, -1.19799092e-01, -8.29556733e-02,\n",
       "        -2.00645700e-02,  1.56080478e-03, -3.03206556e-02, -2.61001127e-33,\n",
       "         5.74648418e-02,  2.71526407e-02,  8.20682943e-02, -4.87729125e-02,\n",
       "        -2.96239033e-02,  8.16712603e-02,  1.33026149e-02,  6.40799031e-02,\n",
       "         1.13166332e-01,  2.39619166e-02, -4.11922969e-02, -1.52952364e-03,\n",
       "         3.12812179e-02,  4.80833184e-03, -9.31883231e-03,  1.82693894e-03,\n",
       "        -1.57717578e-02,  6.85025975e-02, -1.15079703e-02,  1.39973551e-01,\n",
       "        -4.10089595e-03, -7.79694458e-03,  4.06444818e-02,  3.09090260e-02,\n",
       "         5.85269369e-02,  2.15415023e-02, -3.92537937e-02, -1.31544042e-02,\n",
       "         7.62810856e-02,  3.82413194e-02,  2.17121486e-02,  3.58976014e-02,\n",
       "         7.59599730e-03, -3.06784306e-02, -1.14652105e-01,  7.50948638e-02,\n",
       "        -1.90526731e-02, -6.68679271e-03, -4.65221442e-02, -2.56471094e-02,\n",
       "        -2.97913384e-02, -1.05404258e-02,  1.02269709e-01, -1.53844096e-02,\n",
       "        -7.27325380e-02, -4.34622318e-02,  4.17976119e-02, -4.09421744e-03,\n",
       "         1.17737725e-02,  1.02439173e-01,  1.48291038e-02, -1.48331309e-02,\n",
       "        -8.35086703e-02, -2.05594301e-02,  5.48335910e-02, -4.39198082e-03,\n",
       "        -7.54187116e-04, -2.99393982e-02, -3.29380408e-02, -2.20411681e-02,\n",
       "        -5.45496400e-03, -6.07753322e-02, -2.62438226e-02, -6.16059564e-02,\n",
       "         2.51705721e-02,  4.68104482e-02,  2.53359042e-02, -5.73816942e-03,\n",
       "         9.59252566e-02,  3.75849269e-02,  3.92580125e-03,  1.05346061e-01,\n",
       "        -8.13890062e-03,  5.15058786e-02, -9.15265754e-02,  1.15195327e-02,\n",
       "        -7.65327690e-03,  4.40214500e-02,  8.48923475e-02,  2.71130968e-02,\n",
       "        -9.25195403e-03,  7.29806647e-02,  6.03513457e-02, -9.26469415e-02,\n",
       "         1.28786311e-01,  1.01126032e-02,  4.66704406e-02, -8.24383721e-02,\n",
       "         5.55974059e-02, -5.21202572e-02, -5.74841090e-02, -4.27020602e-02,\n",
       "        -4.18225564e-02,  3.99413481e-02,  5.12887575e-02, -1.10832139e-34,\n",
       "        -2.63706166e-02,  4.38698530e-02, -1.51005119e-01,  6.06428906e-02,\n",
       "        -5.70367239e-02,  1.29673798e-02,  3.45895626e-02, -1.44148490e-03,\n",
       "         1.19527571e-01,  1.29788518e-01, -2.53575575e-02, -4.23773304e-02,\n",
       "         3.45382979e-03, -1.18941804e-02,  4.01885901e-03, -7.98193067e-02,\n",
       "        -1.42751932e-02, -1.20874889e-01,  2.57401112e-02,  2.48073898e-02,\n",
       "         2.69840118e-02,  4.19789366e-02,  4.32168581e-02,  5.68752326e-02,\n",
       "         5.59289120e-02, -2.08104588e-03, -7.60613456e-02, -7.89142996e-02,\n",
       "         5.99987209e-02, -1.31267793e-02, -4.39492278e-02, -3.13554555e-02,\n",
       "        -9.04630795e-02, -7.00163236e-03,  1.47827873e-02, -2.18200088e-02,\n",
       "         1.13883652e-02, -5.35871135e-04,  5.56059591e-02,  4.81715091e-02,\n",
       "         1.05844364e-02,  1.98412761e-02, -3.32101844e-02,  2.89984811e-02,\n",
       "        -1.43375043e-02, -1.18583284e-01, -1.99952591e-02,  7.31779635e-03,\n",
       "        -8.16675089e-03, -7.47147053e-02, -2.48894300e-02, -1.64897610e-02,\n",
       "        -4.79728431e-02,  1.21838413e-02, -3.41911465e-02,  9.50296689e-03,\n",
       "         1.85467210e-03,  3.47423963e-02, -4.97209392e-02, -3.45097599e-03,\n",
       "         8.71154293e-02,  1.14944614e-01, -4.80128340e-02,  4.56854925e-02,\n",
       "         4.90787961e-02, -3.18101458e-02,  4.28007394e-02, -8.12320262e-02,\n",
       "         7.83433467e-02,  3.54825822e-03,  3.06879319e-02, -1.06762938e-01,\n",
       "        -4.12647761e-02,  2.53222901e-02, -4.65261601e-02, -5.22534698e-02,\n",
       "         2.15022359e-02,  5.94488066e-03,  2.32236814e-02,  1.37157599e-02,\n",
       "         1.72451567e-02,  9.61915217e-03,  5.48754819e-02, -2.83497269e-04,\n",
       "         1.40854660e-02, -2.92412806e-02,  6.64020777e-02, -3.22578140e-02,\n",
       "        -1.44428471e-02,  3.99218574e-02, -7.34200031e-02, -2.50739306e-02,\n",
       "         2.89370399e-02, -9.71775677e-04,  4.61302549e-02, -2.18680132e-08,\n",
       "        -1.49413338e-02,  2.53473651e-02, -6.86732382e-02,  1.88643187e-02,\n",
       "         8.84862151e-03, -7.74467066e-02, -6.05391338e-02,  3.79400030e-02,\n",
       "        -1.80566013e-02,  4.75940369e-02,  1.12094119e-01, -3.49465199e-02,\n",
       "        -2.98912246e-02, -1.09600136e-02, -4.33199815e-02,  1.07237644e-01,\n",
       "        -2.66148783e-02, -8.84643290e-03, -2.18850039e-02, -5.63710481e-02,\n",
       "         3.34317214e-03,  8.81586522e-02, -8.27924162e-02, -4.41836007e-02,\n",
       "        -3.71121764e-02, -5.06921532e-03, -3.46431136e-02,  6.78981245e-02,\n",
       "         3.24359424e-02,  5.96166365e-02, -1.41489757e-02,  4.35394607e-03,\n",
       "         1.34888813e-02, -1.31814361e-01,  1.94519386e-02,  2.45322976e-02,\n",
       "         7.32314438e-02, -4.76118876e-03,  2.70975335e-03, -6.08240105e-02,\n",
       "        -2.21607294e-02, -4.93934657e-03, -5.51079214e-02, -6.21596426e-02,\n",
       "         4.72539328e-02, -6.47695661e-02, -7.64539167e-02, -1.75476391e-02,\n",
       "        -1.36598898e-02, -9.63392556e-02, -4.78450209e-03,  6.45511970e-03,\n",
       "        -4.17707488e-03,  2.20274320e-03,  6.31064642e-03, -3.53046544e-02,\n",
       "         1.68564282e-02,  2.51798797e-03, -3.39452252e-02,  1.80974249e-02,\n",
       "        -6.93580415e-03, -4.37365472e-02,  3.38588506e-02,  5.60809439e-03],\n",
       "       dtype=float32),\n",
       " 'embedded_description': array([-1.04294354e-02, -5.35085537e-02,  4.97053266e-02,  1.46576241e-02,\n",
       "         4.21869755e-02,  6.35489747e-02, -1.49072483e-02, -2.27616895e-02,\n",
       "        -1.07357288e-02,  1.90667156e-02, -3.27577279e-03, -4.57628332e-02,\n",
       "        -3.02828737e-02,  1.68877207e-02, -3.56293246e-02,  6.67427406e-02,\n",
       "        -1.43159237e-02,  1.54536758e-02,  5.90308830e-02, -5.42834997e-02,\n",
       "        -6.94269016e-02, -1.46202156e-02, -4.98092249e-02,  4.11615008e-03,\n",
       "         6.83022514e-02, -5.04030250e-02,  3.96604277e-02,  3.90826678e-03,\n",
       "        -4.05483246e-02,  2.63841357e-02, -2.25786343e-02,  6.26601875e-02,\n",
       "        -4.61926796e-02, -3.00257318e-02,  2.45349463e-02, -8.56234133e-02,\n",
       "         4.12911959e-02, -1.51421623e-02, -4.48598079e-02,  1.30891241e-03,\n",
       "        -3.51446075e-03, -9.24112648e-02, -3.60049196e-02, -4.69911620e-02,\n",
       "         1.53642772e-02,  4.80997935e-02,  3.99061404e-02,  1.84391718e-02,\n",
       "        -1.19414344e-01,  6.05254769e-02,  1.16276473e-03, -4.65890504e-02,\n",
       "         1.19979873e-01, -3.04460153e-02, -1.26702804e-03, -3.77062075e-02,\n",
       "         1.52426288e-02,  5.55159932e-04,  5.08421138e-02,  2.51420084e-02,\n",
       "        -1.93547998e-02,  1.05856368e-02, -9.26945824e-03,  1.84728578e-02,\n",
       "         9.12090465e-02, -7.04592690e-02,  3.20650451e-02, -3.16983275e-02,\n",
       "        -8.13053623e-02,  3.08690835e-02, -3.42919417e-02, -1.93268508e-02,\n",
       "        -3.11801676e-02, -6.68436363e-02,  3.97508703e-02, -4.50072251e-02,\n",
       "         2.48952713e-02,  9.95069370e-02,  5.66183366e-02,  1.47428596e-02,\n",
       "         8.90117791e-03, -1.98978744e-02, -3.33481990e-02, -2.92958654e-02,\n",
       "        -1.37935236e-01, -3.96262407e-02,  9.91363674e-02, -1.31505309e-02,\n",
       "         1.87417138e-02, -2.98446007e-02, -4.67148935e-03,  5.38334437e-03,\n",
       "        -4.52978909e-02,  4.18352857e-02,  1.49947423e-02, -1.14605287e-02,\n",
       "        -5.40621802e-02,  5.70911802e-02,  3.23549961e-03, -4.64456677e-02,\n",
       "         8.22685310e-04,  7.75835142e-02,  5.19340746e-02,  9.47949011e-04,\n",
       "        -7.36893341e-02, -3.04849651e-02,  1.48000140e-02, -1.23403221e-02,\n",
       "        -1.83680616e-02,  4.98530315e-03,  2.26560310e-02, -2.06339918e-02,\n",
       "        -2.53578033e-02, -3.36929865e-04, -2.08594408e-02, -2.52674446e-02,\n",
       "        -2.29526609e-02, -1.93769450e-03, -1.23115871e-02,  4.75769863e-02,\n",
       "         1.52850226e-01,  6.99831471e-02, -1.15599453e-01, -3.76899242e-02,\n",
       "        -4.88447696e-02, -3.77371442e-03, -3.99218649e-02,  1.58365391e-33,\n",
       "         8.55488479e-02, -3.58543284e-02,  1.41898543e-03,  2.70466842e-02,\n",
       "         5.34955179e-04, -9.40237120e-02, -1.62177738e-02,  5.20173721e-02,\n",
       "         9.29480717e-02, -5.25493398e-02, -8.63863453e-02,  7.57381879e-03,\n",
       "         1.70052741e-02,  1.71955805e-02,  1.64609738e-02,  2.59431656e-02,\n",
       "        -1.88956074e-02,  1.10569917e-01, -4.41817790e-02,  1.18204072e-01,\n",
       "        -3.25893378e-03,  1.96637306e-02,  3.29011492e-02,  3.84635776e-02,\n",
       "         2.52645351e-02,  7.57887121e-03,  2.33164541e-02, -4.06274870e-02,\n",
       "        -2.97318082e-02, -3.29916179e-02,  3.37929353e-02,  5.86897135e-02,\n",
       "         4.02474962e-02, -5.43738492e-02, -9.70664471e-02, -2.31211539e-02,\n",
       "         2.97284289e-03,  4.07405496e-02, -3.61485407e-02, -6.09559268e-02,\n",
       "         5.64418780e-03,  5.15718712e-03,  8.27536955e-02, -3.91925080e-03,\n",
       "         3.68646421e-02, -8.16813856e-02,  4.43250723e-02, -4.45450507e-02,\n",
       "        -5.17916344e-02,  1.18672803e-01, -1.40665937e-02,  3.87730114e-02,\n",
       "        -2.95285229e-02, -3.12840268e-02,  5.55407964e-02, -2.92635635e-02,\n",
       "        -5.13424203e-02,  4.59235869e-02, -6.18000748e-03, -6.66118562e-02,\n",
       "        -8.03951323e-02, -6.06571771e-02,  2.59972308e-02, -9.63524636e-03,\n",
       "        -1.93749387e-02,  7.96647891e-02,  2.68108398e-02, -1.07418513e-02,\n",
       "         2.50968486e-02,  5.36395833e-02,  2.25828905e-02,  7.68809691e-02,\n",
       "         3.30163687e-02,  6.45608688e-03, -5.53990118e-02,  3.74647379e-02,\n",
       "        -4.37701978e-02,  3.23477574e-02,  3.70750986e-02,  5.91602810e-02,\n",
       "        -9.23899177e-04,  4.78211939e-02,  5.32713234e-02, -1.06414251e-01,\n",
       "         1.47825018e-01,  2.39723548e-03,  6.93965927e-02,  1.38820391e-02,\n",
       "         9.36466828e-02,  2.70237611e-03,  3.03422045e-02, -1.10280119e-01,\n",
       "         9.72846430e-03,  5.18611968e-02,  5.82812764e-02, -2.36159809e-33,\n",
       "        -1.09988842e-02,  4.97092158e-02, -6.04220666e-02,  2.49389820e-02,\n",
       "        -1.03057800e-02,  7.10014105e-02,  6.73074350e-02,  7.60922432e-02,\n",
       "         6.44242465e-02,  8.82585347e-03, -7.59411231e-02,  5.02226800e-02,\n",
       "         1.17086200e-02,  4.28794399e-02, -5.15677407e-02, -5.11106923e-02,\n",
       "         1.98203530e-02, -9.17297080e-02, -1.79576725e-02, -3.22903064e-03,\n",
       "         6.11132272e-02,  5.41229034e-03, -4.08776402e-02,  7.22366050e-02,\n",
       "         5.22772223e-02,  1.47112543e-02, -3.94384898e-02, -2.04722919e-02,\n",
       "        -5.64849377e-02, -4.54452485e-02, -3.84324715e-02, -4.17396463e-02,\n",
       "        -3.42181772e-02, -6.28046878e-03,  8.90570730e-02, -4.58770134e-02,\n",
       "         3.21684852e-02, -4.99684550e-02,  2.30016336e-02,  1.41761322e-02,\n",
       "        -3.30979042e-02, -1.77925546e-02, -3.08056083e-02, -3.94556560e-02,\n",
       "         7.43599907e-02, -6.98857754e-02, -2.31067985e-02, -5.83942495e-02,\n",
       "         3.88864689e-02, -1.47356139e-02,  1.01914495e-01,  5.53004406e-02,\n",
       "        -5.67434020e-02,  2.06074696e-02, -1.25261880e-02,  1.33916633e-02,\n",
       "        -6.49380013e-02, -2.12383047e-02, -2.47413963e-02,  3.74814421e-02,\n",
       "        -4.51551713e-02,  3.94548364e-02,  3.49902585e-02,  4.38736379e-02,\n",
       "        -1.78291614e-03, -1.03901746e-03, -6.43826053e-02, -7.71209747e-02,\n",
       "         4.19141650e-02,  5.14739305e-02,  6.01747911e-03, -6.99809343e-02,\n",
       "         2.15694718e-02, -6.78566918e-02,  3.86787578e-02, -2.71309745e-02,\n",
       "         1.33469358e-01, -5.32381684e-02, -2.00054664e-02,  7.42346197e-02,\n",
       "         1.16919186e-02, -4.78959791e-02,  1.31771401e-01,  3.75437364e-02,\n",
       "        -6.93520065e-04, -1.91623587e-02, -9.27954260e-03,  9.89419781e-03,\n",
       "        -4.70249318e-02,  3.01408377e-02, -8.25267881e-02, -7.67136887e-02,\n",
       "        -6.44318983e-02, -8.79034996e-02,  2.67868396e-02, -5.37530624e-08,\n",
       "         3.08886785e-02, -2.48937681e-02, -1.03282571e-01,  2.61068828e-02,\n",
       "         2.35431213e-02, -7.52478912e-02,  1.45880561e-02,  2.68244110e-02,\n",
       "        -2.59678941e-02,  3.90434004e-02,  3.71454507e-02, -1.59325767e-02,\n",
       "         2.16441806e-02, -2.23702881e-02,  1.60749033e-02,  1.26734406e-01,\n",
       "        -8.04580674e-02,  3.69045255e-03, -7.08411187e-02, -7.55083114e-02,\n",
       "         5.22320420e-02,  1.21332765e-01, -7.59040043e-02,  1.65574942e-02,\n",
       "        -3.12135722e-02,  3.26269493e-02, -3.20157129e-03,  1.04827672e-01,\n",
       "        -7.20089450e-02,  2.00308207e-02,  1.26685118e-02,  2.25554761e-02,\n",
       "        -6.36593346e-03,  1.65912881e-02,  2.66919229e-02, -2.01316159e-02,\n",
       "         1.78817026e-02,  6.39448687e-02,  1.25324577e-02, -6.59860298e-02,\n",
       "         2.26065386e-02, -3.43138911e-02, -5.30170985e-02,  3.18212830e-03,\n",
       "        -1.23120500e-02, -1.35072500e-01, -9.67887267e-02,  1.77687164e-02,\n",
       "        -6.71569929e-02, -1.01811931e-01,  3.97904590e-02, -1.32637722e-02,\n",
       "         4.22062054e-02,  9.16909520e-03,  7.02763572e-02,  1.37462299e-02,\n",
       "         7.08550438e-02, -7.35949278e-02, -1.98736992e-02,  3.77213731e-02,\n",
       "         3.22162104e-03, -9.16516334e-02,  8.73995125e-02,  4.93691973e-02],\n",
       "       dtype=float32)}"
      ]
     },
     "execution_count": 188,
     "metadata": {},
     "output_type": "execute_result"
    }
   ],
   "source": [
    "embedded_index[0].metadata"
   ]
  }
 ],
 "metadata": {
  "kernelspec": {
   "display_name": "diss_rag",
   "language": "python",
   "name": "python3"
  },
  "language_info": {
   "codemirror_mode": {
    "name": "ipython",
    "version": 3
   },
   "file_extension": ".py",
   "mimetype": "text/x-python",
   "name": "python",
   "nbconvert_exporter": "python",
   "pygments_lexer": "ipython3",
   "version": "3.10.14"
  }
 },
 "nbformat": 4,
 "nbformat_minor": 2
}
